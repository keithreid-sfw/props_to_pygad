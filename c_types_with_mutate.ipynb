{
 "cells": [
  {
   "cell_type": "code",
   "execution_count": 1,
   "metadata": {},
   "outputs": [],
   "source": [
    "from   ctypes import *\n",
    "from    scipy import sparse\n",
    "\n",
    "import  numpy as np\n",
    "import  random"
   ]
  },
  {
   "cell_type": "code",
   "execution_count": 2,
   "metadata": {},
   "outputs": [],
   "source": [
    "# treat this as a library call and put it here\n",
    "\n",
    "# precompile with bash script # gcc -fPIC -shared -o keith_functions.so keith_module.c"
   ]
  },
  {
   "cell_type": "code",
   "execution_count": 3,
   "metadata": {},
   "outputs": [],
   "source": [
    "keith_functions = CDLL(\"keith_functions.so\")"
   ]
  },
  {
   "cell_type": "code",
   "execution_count": 4,
   "metadata": {},
   "outputs": [],
   "source": [
    "keith_mutate    = keith_functions.keith_mutate()"
   ]
  },
  {
   "cell_type": "code",
   "execution_count": 5,
   "metadata": {},
   "outputs": [
    {
     "data": {
      "text/plain": [
       "'# note that mutate request internally casts the numpy population into a list of lists            '"
      ]
     },
     "execution_count": 5,
     "metadata": {},
     "output_type": "execute_result"
    }
   ],
   "source": [
    "'''# speed comparison of four approaches    '''\n",
    "'''    # base_mutate native python libraries        '''\n",
    "'''    # pygad_mutate specialist libraries and two for loops'''\n",
    "'''    # vector_mutate special libraries and aggressive vectorisation'''\n",
    "'''    # keith_mutate modular call from bespoke C function in local library '''\n",
    "'''                                                                                 '''\n",
    "'''# further optimisations maybe possible with the four approaches                          '''\n",
    "'''# note that mutate request internally casts the numpy population into a list of lists            '''"
   ]
  },
  {
   "cell_type": "code",
   "execution_count": null,
   "metadata": {},
   "outputs": [],
   "source": []
  },
  {
   "cell_type": "code",
   "execution_count": 6,
   "metadata": {},
   "outputs": [],
   "source": [
    "class MutateRequest:\n",
    "    def __init__(self, population):\n",
    "        \n",
    "        # fairer to start with the native list object and require modules to promote to array\n",
    "        # than have \"naive\" modules demoting ndarrays back down to lists\n",
    "        number_of_mutations = get_number_of_mutations()\n",
    "        self.population     = population\n",
    "        self.population     = [list(algo) for algo in population] # see explanation of choice of list not ndarray\n",
    "        self.rows_algos     = len(population)\n",
    "        self.columns_genes  = len(population[0])\n",
    "        self.number_of_mutations = number_of_mutations\n",
    "\n",
    "class TellObject:\n",
    "    def __init__(self, population, base_mutants, keith_mutants, pygad_mutants, vector_mutants):\n",
    "        self.population     = population\n",
    "        self.base_mutants   = base_mutants\n",
    "        self.keith_mutants  = keith_mutants        \n",
    "        self.pygad_mutants  = pygad_mutants\n",
    "        self.vector_mutants = vector_mutants\n",
    "        \n",
    "def get_random_mutation_min_val():\n",
    "    return -2\n",
    "\n",
    "def get_random_mutation_max_val():\n",
    "    return 2\n",
    "        \n",
    "def tell(tell_object):\n",
    "    print('\\noriginal population\\n', np.around(np.asarray(tell_object.population), decimals=4))\n",
    "    print('\\nmutation by base libraries')\n",
    "    for i in range(len(tell_object.base_mutants)):\n",
    "          print(np.around(np.asarray(tell_object.base_mutants[i]),decimals=4))\n",
    "    print('\\nmutation by aggressively vectorised scipy\\n', np.around(np.asarray(tell_object.vector_mutants), decimals=4))\n",
    "    print('\\nmutation by pygad function\\n', np.around(np.asarray(tell_object.pygad_mutants), decimals=4))\n",
    "    print('\\nmutation by bespoke C function\\n', np.around(np.asarray(tell_object.keith_mutants), decimals=4))\n",
    "\n",
    "def get_number_of_mutations():\n",
    "    number_of_mutations = 1\n",
    "    return number_of_mutations\n",
    "\n",
    "def build_population():\n",
    "    low         = -1\n",
    "    high        =  1\n",
    "    cohort_size = (4, 8) #  rows_algos, columns_genes\n",
    "    population  = np.random.uniform(low, high, size=cohort_size)\n",
    "    return population"
   ]
  },
  {
   "cell_type": "code",
   "execution_count": 7,
   "metadata": {},
   "outputs": [],
   "source": [
    "def base_mutate(mutate_request):\n",
    "    '''only uses naive base library - math, itertools, random etc are allowed'''\n",
    "    base_mutants        = mutate_request.population\n",
    "    number_of_mutations = mutate_request.number_of_mutations\n",
    "    rows_algos          = mutate_request.rows_algos\n",
    "    columns_genes       = mutate_request.columns_genes\n",
    "\n",
    "    for algo in base_mutants:\n",
    "        for mutation in range(number_of_mutations):\n",
    "            random_place    = random.randrange(columns_genes)\n",
    "            starting_gene   = algo[random_place]\n",
    "            a_float         = random.random()\n",
    "            algo.pop(random_place)\n",
    "            mutant_gene     = starting_gene + a_float\n",
    "            algo.insert(random_place, mutant_gene)\n",
    "    return base_mutants"
   ]
  },
  {
   "cell_type": "code",
   "execution_count": 18,
   "metadata": {},
   "outputs": [],
   "source": [
    "def keith_mutate(mutate_request):\n",
    "    \n",
    "    population = np.asarray(mutate_request.population)\n",
    "    flat_population = list(np.ravel(np.copy(population)))\n",
    "    \n",
    "    p = pointer(flat_population)\n",
    "    \n",
    "    keith_mutate(c_double(p), c_int(min_mutation), c_int(max_mutation), c_int(length_flat_population), c_int(number_of_mutations))\n",
    "    \n",
    "    #keith_mutants = np.copy(mutate_request.population)\n",
    "    #keith_mutants[0][0] = 3.1415926535\n",
    "    return keith_mutants\n",
    "\n",
    "'''\n",
    "# keith mutate\n",
    "'''\n",
    "\n",
    "def test_keith_mutate():\n",
    "    number_of_mutations   = get_number_of_mutations()\n",
    "    population            = build_population()\n",
    "    mutate_request        = MutateRequest(population)\n",
    "    mutants               = keith_mutate(mutate_request)\n",
    "    max_parity_sum        = population.shape[0] * population.shape[1]\n",
    "    rows_algos            = mutate_request.rows_algos\n",
    "    \n",
    "    #form\n",
    "    assert isinstance(mutants,      np.ndarray),  'Error: should be an np array'\n",
    "    assert isinstance(mutants[0],   np.ndarray),  'Error: should be an np array'\n",
    "    assert isinstance(mutants[0][0],float),       'Error: should be a float'\n",
    "    \n",
    "    #content\n",
    "    flat_population = list(np.ravel(np.asarray(population)))\n",
    "    flat_mutants    = list(np.ravel(np.asarray(mutants)))\n",
    "    both            = zip(flat_population, flat_mutants)\n",
    "    parity_check    = sum([int(x[0]==x[1]) for x in both])\n",
    "    if number_of_mutations > 0:\n",
    "        assert parity_check <= max_parity_sum-rows_algos, 'Error: there should be at least one difference per algo'\n",
    "    assert parity_check > 0, 'Error: they should not be completely different'\n",
    "    print('pass')\n",
    "    \n",
    "#test_keith_mutate()"
   ]
  },
  {
   "cell_type": "code",
   "execution_count": 19,
   "metadata": {},
   "outputs": [],
   "source": [
    "def pygad_mutate(mutate_request):\n",
    "    # 1. removed dependency on gene_type\n",
    "    # 2. all modules for these time trials start with a list because they refer to the MutateRequest\n",
    "    #    and the mutate reqeust offers a list as the most basic thing\n",
    "    #    so if this module seems handicapped by e.g. the need to retype offspring as an array then\n",
    "    #    people are welcome to change the interface, but it just passes that handicap elsewhere\n",
    "\n",
    "    offspring                = np.asarray(mutate_request.population)\n",
    "    num_genes                = mutate_request.columns_genes\n",
    "    mutation_num_genes       = mutate_request.number_of_mutations\n",
    "    random_mutation_min_val  = get_random_mutation_min_val()\n",
    "    random_mutation_max_val  = get_random_mutation_max_val()\n",
    "    \n",
    "    for offspring_idx in range(offspring.shape[0]):\n",
    "        mutation_indices = np.array(random.sample(range(0, num_genes), mutation_num_genes))\n",
    "        for gene_idx in mutation_indices:\n",
    "            random_value = np.random.uniform(low=random_mutation_min_val, \n",
    "                                            high=random_mutation_max_val, \n",
    "                                            size=1)\n",
    "            offspring[offspring_idx, gene_idx] = offspring[offspring_idx, gene_idx] + random_value\n",
    "    return offspring"
   ]
  },
  {
   "cell_type": "code",
   "execution_count": 20,
   "metadata": {},
   "outputs": [],
   "source": [
    "def vector_mutate(mutate_request):\n",
    "\n",
    "    population          = np.asarray(mutate_request.population)\n",
    "    number_of_mutations = mutate_request.number_of_mutations\n",
    "    all_loci            = mutate_request.rows_algos * mutate_request.columns_genes\n",
    "    mutation_rate       = number_of_mutations/mutate_request.columns_genes\n",
    "    \n",
    "    mutation_matrix = sparse.random(population.shape[0], population.shape[1], density=mutation_rate)\n",
    "    pre_mutants     = np.copy(population)\n",
    "    mutants         = np.add(pre_mutants, mutation_matrix.todense())\n",
    "    return mutants"
   ]
  },
  {
   "cell_type": "code",
   "execution_count": 21,
   "metadata": {},
   "outputs": [
    {
     "ename": "TypeError",
     "evalue": "_type_ must have storage info",
     "output_type": "error",
     "traceback": [
      "\u001b[0;31m---------------------------------------------------------------------------\u001b[0m",
      "\u001b[0;31mTypeError\u001b[0m                                 Traceback (most recent call last)",
      "\u001b[0;32m<ipython-input-21-5f32dbc1f715>\u001b[0m in \u001b[0;36m<module>\u001b[0;34m\u001b[0m\n\u001b[1;32m      5\u001b[0m \u001b[0;34m\u001b[0m\u001b[0m\n\u001b[1;32m      6\u001b[0m     \u001b[0mbase_mutants\u001b[0m        \u001b[0;34m=\u001b[0m  \u001b[0mbase_mutate\u001b[0m\u001b[0;34m(\u001b[0m\u001b[0mmutate_request\u001b[0m\u001b[0;34m)\u001b[0m\u001b[0;34m\u001b[0m\u001b[0;34m\u001b[0m\u001b[0m\n\u001b[0;32m----> 7\u001b[0;31m     \u001b[0mkeith_mutants\u001b[0m       \u001b[0;34m=\u001b[0m \u001b[0mkeith_mutate\u001b[0m\u001b[0;34m(\u001b[0m\u001b[0mmutate_request\u001b[0m\u001b[0;34m)\u001b[0m\u001b[0;34m\u001b[0m\u001b[0;34m\u001b[0m\u001b[0m\n\u001b[0m\u001b[1;32m      8\u001b[0m     \u001b[0mpygad_mutants\u001b[0m       \u001b[0;34m=\u001b[0m \u001b[0mpygad_mutate\u001b[0m\u001b[0;34m(\u001b[0m\u001b[0mmutate_request\u001b[0m\u001b[0;34m)\u001b[0m\u001b[0;34m\u001b[0m\u001b[0;34m\u001b[0m\u001b[0m\n\u001b[1;32m      9\u001b[0m     \u001b[0mvector_mutants\u001b[0m      \u001b[0;34m=\u001b[0m \u001b[0mvector_mutate\u001b[0m\u001b[0;34m(\u001b[0m\u001b[0mmutate_request\u001b[0m\u001b[0;34m)\u001b[0m\u001b[0;34m\u001b[0m\u001b[0;34m\u001b[0m\u001b[0m\n",
      "\u001b[0;32m<ipython-input-18-af29718c088b>\u001b[0m in \u001b[0;36mkeith_mutate\u001b[0;34m(mutate_request)\u001b[0m\n\u001b[1;32m      4\u001b[0m     \u001b[0mflat_population\u001b[0m \u001b[0;34m=\u001b[0m \u001b[0mlist\u001b[0m\u001b[0;34m(\u001b[0m\u001b[0mnp\u001b[0m\u001b[0;34m.\u001b[0m\u001b[0mravel\u001b[0m\u001b[0;34m(\u001b[0m\u001b[0mnp\u001b[0m\u001b[0;34m.\u001b[0m\u001b[0mcopy\u001b[0m\u001b[0;34m(\u001b[0m\u001b[0mpopulation\u001b[0m\u001b[0;34m)\u001b[0m\u001b[0;34m)\u001b[0m\u001b[0;34m)\u001b[0m\u001b[0;34m\u001b[0m\u001b[0;34m\u001b[0m\u001b[0m\n\u001b[1;32m      5\u001b[0m \u001b[0;34m\u001b[0m\u001b[0m\n\u001b[0;32m----> 6\u001b[0;31m     \u001b[0mp\u001b[0m \u001b[0;34m=\u001b[0m \u001b[0mpointer\u001b[0m\u001b[0;34m(\u001b[0m\u001b[0mflat_population\u001b[0m\u001b[0;34m)\u001b[0m\u001b[0;34m\u001b[0m\u001b[0;34m\u001b[0m\u001b[0m\n\u001b[0m\u001b[1;32m      7\u001b[0m \u001b[0;34m\u001b[0m\u001b[0m\n\u001b[1;32m      8\u001b[0m     \u001b[0mkeith_mutate\u001b[0m\u001b[0;34m(\u001b[0m\u001b[0mc_double\u001b[0m\u001b[0;34m(\u001b[0m\u001b[0mp\u001b[0m\u001b[0;34m)\u001b[0m\u001b[0;34m,\u001b[0m \u001b[0mc_int\u001b[0m\u001b[0;34m(\u001b[0m\u001b[0mmin_mutation\u001b[0m\u001b[0;34m)\u001b[0m\u001b[0;34m,\u001b[0m \u001b[0mc_int\u001b[0m\u001b[0;34m(\u001b[0m\u001b[0mmax_mutation\u001b[0m\u001b[0;34m)\u001b[0m\u001b[0;34m,\u001b[0m \u001b[0mc_int\u001b[0m\u001b[0;34m(\u001b[0m\u001b[0mlength_flat_population\u001b[0m\u001b[0;34m)\u001b[0m\u001b[0;34m,\u001b[0m \u001b[0mc_int\u001b[0m\u001b[0;34m(\u001b[0m\u001b[0mnumber_of_mutations\u001b[0m\u001b[0;34m)\u001b[0m\u001b[0;34m)\u001b[0m\u001b[0;34m\u001b[0m\u001b[0;34m\u001b[0m\u001b[0m\n",
      "\u001b[0;31mTypeError\u001b[0m: _type_ must have storage info"
     ]
    }
   ],
   "source": [
    "if __name__ == '__main__':\n",
    "    \n",
    "    population          = build_population()\n",
    "    mutate_request      = MutateRequest(population)\n",
    "    \n",
    "    base_mutants        =  base_mutate(mutate_request)\n",
    "    keith_mutants       = keith_mutate(mutate_request)\n",
    "    pygad_mutants       = pygad_mutate(mutate_request)\n",
    "    vector_mutants      = vector_mutate(mutate_request)\n",
    "    \n",
    "    that_which_to_tell = TellObject(population, base_mutants, keith_mutants, pygad_mutants, vector_mutants)\n",
    "    tell(that_which_to_tell)\n",
    "    "
   ]
  },
  {
   "cell_type": "code",
   "execution_count": 12,
   "metadata": {},
   "outputs": [],
   "source": [
    "'''\n",
    "# build population\n",
    "'''\n",
    "\n",
    "def test_build_population():\n",
    "    population = build_population()\n",
    "    assert isinstance(population,       np.ndarray),    'Error: should be array of arrays'\n",
    "    assert isinstance(population[0],    np.ndarray),    'Error: should be an array'\n",
    "    assert isinstance(population[0][0], np.float64),    'Error: should be a float'\n",
    "    print('pass')"
   ]
  },
  {
   "cell_type": "code",
   "execution_count": 13,
   "metadata": {},
   "outputs": [],
   "source": [
    "'''\n",
    "# base mutate\n",
    "'''    \n",
    "\n",
    "def test_base_mutate():\n",
    "    number_of_mutations   = get_number_of_mutations()\n",
    "    population            = build_population()\n",
    "    mutate_request        = MutateRequest(population)\n",
    "    mutants               = base_mutate(mutate_request)\n",
    "    max_parity_sum        = population.shape[0] * population.shape[1]\n",
    "    rows_algos            = mutate_request.rows_algos\n",
    "    \n",
    "    #form\n",
    "    assert isinstance(mutants,      list),  'Error: should be a list'\n",
    "    assert isinstance(mutants[0],   list),  'Error: should be a list'\n",
    "    assert isinstance(mutants[0][0],float), 'Error: should be a float'\n",
    "    \n",
    "    #content\n",
    "    flat_population = list(np.ravel(np.asarray(population)))\n",
    "    flat_mutants    = list(np.ravel(np.asarray(mutants)))\n",
    "    both            = zip(flat_population, flat_mutants)\n",
    "    parity_check    = sum([int(x[0]==x[1]) for x in both])\n",
    "    if number_of_mutations > 0:\n",
    "        assert parity_check <= max_parity_sum-rows_algos, 'Error: there should be at least one difference per algo'\n",
    "    assert parity_check > 0, 'Error: they should not be completely different'\n",
    "    print('pass')"
   ]
  },
  {
   "cell_type": "code",
   "execution_count": 14,
   "metadata": {},
   "outputs": [],
   "source": [
    "'''\n",
    "# vector mutate\n",
    "'''\n",
    "\n",
    "def test_vector_mutate():\n",
    "    number_of_mutations   = get_number_of_mutations()\n",
    "    population            = build_population()\n",
    "    mutate_request        = MutateRequest(population)\n",
    "    mutants               = vector_mutate(mutate_request)\n",
    "    max_parity_sum        = population.shape[0] * population.shape[1]\n",
    "    rows_algos            = mutate_request.rows_algos\n",
    "    \n",
    "    #form\n",
    "    assert isinstance(mutants,      np.ndarray),  'Error: should be an np array'\n",
    "    assert isinstance(mutants[0],   np.ndarray),  'Error: should be an np array'\n",
    "    assert isinstance(mutants[0][0],np.matrix), 'Error: should be a float'\n",
    "    \n",
    "    #content\n",
    "    flat_population = list(np.ravel(np.asarray(population)))\n",
    "    flat_mutants    = list(np.ravel(np.asarray(mutants)))\n",
    "    both            = zip(flat_population, flat_mutants)\n",
    "    parity_check    = sum([int(x[0]==x[1]) for x in both])\n",
    "    if number_of_mutations > 0:\n",
    "        assert parity_check <= max_parity_sum-rows_algos, 'Error: there should be at least one difference per algo'\n",
    "    assert parity_check > 0, 'Error: they should not be completely different'\n",
    "    print('pass')"
   ]
  },
  {
   "cell_type": "code",
   "execution_count": 15,
   "metadata": {},
   "outputs": [],
   "source": [
    "'''\n",
    "# pygad mutate\n",
    "'''\n",
    "    \n",
    "def test_pygad_mutate():\n",
    "    number_of_mutations   = get_number_of_mutations()\n",
    "    population            = build_population()\n",
    "    mutate_request        = MutateRequest(population)\n",
    "    mutants               = pygad_mutate(mutate_request)\n",
    "    max_parity_sum        = population.shape[0] * population.shape[1]\n",
    "    rows_algos            = mutate_request.rows_algos\n",
    "    \n",
    "    #form\n",
    "    assert isinstance(mutants,      np.ndarray),  'Error: should be an np array'\n",
    "    assert isinstance(mutants[0],   np.ndarray),  'Error: should be an np array'\n",
    "    assert isinstance(mutants[0][0],float), 'Error: should be a float'\n",
    "    \n",
    "    #content\n",
    "    flat_population = list(np.ravel(np.asarray(population)))\n",
    "    flat_mutants    = list(np.ravel(np.asarray(mutants)))\n",
    "    both            = zip(flat_population, flat_mutants)\n",
    "    parity_check    = sum([int(x[0]==x[1]) for x in both])\n",
    "    if number_of_mutations > 0:\n",
    "        assert parity_check <= max_parity_sum-rows_algos, 'Error: there should be at least one difference per algo'\n",
    "    assert parity_check > 0, 'Error: they should not be completely different'\n",
    "    print('pass')\n",
    "    \n"
   ]
  },
  {
   "cell_type": "code",
   "execution_count": 16,
   "metadata": {},
   "outputs": [
    {
     "data": {
      "text/plain": [
       "\"def test_none_are_same():\\n    population          = build_population()\\n    mutate_request      = MutateRequest(population)\\n    \\n    number_of_mutations = get_number_of_mutations()\\n    \\n    base_mutants        =  base_mutate(mutate_request)\\n    keith_mutants       = keith_mutate(mutate_request)\\n    pygad_mutants       = pygad_mutate(mutate_request)\\n    vector_mutants      = vector_mutate(mutate_request)\\n    \\n    if number_of_mutations > 0:\\n    \\n        assert  np.asarray(base_mutants).all()     !=  keith_mutants.all(), 'Error: really unlikely, more likely object blurring'\\n        assert  np.asarray(base_mutants).all()     !=  pygad_mutants.all(), 'Error: really unlikely, more likely object blurring'\\n        assert  np.asarray(base_mutants).all()     != vector_mutants.all(), 'Error: really unlikely, more likely object blurring'\\n        assert keith_mutants.all()     !=  pygad_mutants.all(), 'Error: really unlikely, more likely object blurring'\\n        assert keith_mutants.all()     != vector_mutants.all(), 'Error: really unlikely, more likely object blurring'\\n        assert pygad_mutants.all()     != vector_mutants.all(), 'Error: really unlikely, more likely object blurring'\\n        \\n    if number_of_mutations == 0:\\n        \\n        assert  np.asarray(base_mutants).all()     ==  keith_mutants.all(), 'Error: should be same'\\n        assert  np.asarray(base_mutants).all()     ==  pygad_mutants.all(), 'Error: should be same'\\n        assert  np.asarray(base_mutants).all()     == vector_mutants.all(), 'Error: should be same'\\n        assert keith_mutants.all()     ==  pygad_mutants.all(), 'Error: should be same'\\n        assert keith_mutants.all()     == vector_mutants.all(), 'Error: should be same'\\n        assert pygad_mutants.all()     == vector_mutants.all(), 'Error: should be same'\\n\""
      ]
     },
     "execution_count": 16,
     "metadata": {},
     "output_type": "execute_result"
    }
   ],
   "source": [
    "'''def test_none_are_same():\n",
    "    population          = build_population()\n",
    "    mutate_request      = MutateRequest(population)\n",
    "    \n",
    "    number_of_mutations = get_number_of_mutations()\n",
    "    \n",
    "    base_mutants        =  base_mutate(mutate_request)\n",
    "    keith_mutants       = keith_mutate(mutate_request)\n",
    "    pygad_mutants       = pygad_mutate(mutate_request)\n",
    "    vector_mutants      = vector_mutate(mutate_request)\n",
    "    \n",
    "    if number_of_mutations > 0:\n",
    "    \n",
    "        assert  np.asarray(base_mutants).all()     !=  keith_mutants.all(), 'Error: really unlikely, more likely object blurring'\n",
    "        assert  np.asarray(base_mutants).all()     !=  pygad_mutants.all(), 'Error: really unlikely, more likely object blurring'\n",
    "        assert  np.asarray(base_mutants).all()     != vector_mutants.all(), 'Error: really unlikely, more likely object blurring'\n",
    "        assert keith_mutants.all()     !=  pygad_mutants.all(), 'Error: really unlikely, more likely object blurring'\n",
    "        assert keith_mutants.all()     != vector_mutants.all(), 'Error: really unlikely, more likely object blurring'\n",
    "        assert pygad_mutants.all()     != vector_mutants.all(), 'Error: really unlikely, more likely object blurring'\n",
    "        \n",
    "    if number_of_mutations == 0:\n",
    "        \n",
    "        assert  np.asarray(base_mutants).all()     ==  keith_mutants.all(), 'Error: should be same'\n",
    "        assert  np.asarray(base_mutants).all()     ==  pygad_mutants.all(), 'Error: should be same'\n",
    "        assert  np.asarray(base_mutants).all()     == vector_mutants.all(), 'Error: should be same'\n",
    "        assert keith_mutants.all()     ==  pygad_mutants.all(), 'Error: should be same'\n",
    "        assert keith_mutants.all()     == vector_mutants.all(), 'Error: should be same'\n",
    "        assert pygad_mutants.all()     == vector_mutants.all(), 'Error: should be same'\n",
    "'''"
   ]
  },
  {
   "cell_type": "code",
   "execution_count": 17,
   "metadata": {},
   "outputs": [
    {
     "name": "stdout",
     "output_type": "stream",
     "text": [
      "pass\n",
      "pass\n",
      "pass\n",
      "pass\n",
      "\n",
      "well done passed all active tests - stick to TDD even where you are excited.\n",
      "\n"
     ]
    }
   ],
   "source": [
    " \n",
    "'''\n",
    "# tests per se\n",
    "'''\n",
    "\n",
    "def tests():\n",
    "    \n",
    "    test_base_mutate()\n",
    "    test_build_population()\n",
    "    #test_keith_mutate()\n",
    "    test_pygad_mutate()\n",
    "    test_vector_mutate()\n",
    "    print('\\nwell done passed all active tests - stick to TDD even where you are excited.\\n')\n",
    "    #test_none_are_same()\n",
    "    \n",
    "tests()"
   ]
  },
  {
   "cell_type": "code",
   "execution_count": null,
   "metadata": {},
   "outputs": [],
   "source": []
  }
 ],
 "metadata": {
  "kernelspec": {
   "display_name": "Python 3",
   "language": "python",
   "name": "python3"
  },
  "language_info": {
   "codemirror_mode": {
    "name": "ipython",
    "version": 3
   },
   "file_extension": ".py",
   "mimetype": "text/x-python",
   "name": "python",
   "nbconvert_exporter": "python",
   "pygments_lexer": "ipython3",
   "version": "3.7.7"
  }
 },
 "nbformat": 4,
 "nbformat_minor": 4
}
