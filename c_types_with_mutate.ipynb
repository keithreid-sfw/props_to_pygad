{
 "cells": [
  {
   "cell_type": "code",
   "execution_count": 1,
   "metadata": {},
   "outputs": [],
   "source": [
    "from    ctypes import *\n",
    "import ctypes\n",
    "cdll.LoadLibrary(\"libc.so.6\") # load the C dynamiclinked library shared object 6 as advised by ctypes docs\n",
    "\n",
    "from    scipy import sparse\n",
    "import  numpy as np\n",
    "import  random\n",
    "\n",
    "\n",
    "\n",
    "'''# speed comparison of four approaches    '''\n",
    "'''    # native python libraries                        '''\n",
    "'''    # specialist libraries                                   '''\n",
    "'''    # ctype method calls into C                                      '''\n",
    "'''    # wholesale modular call into C from compiled library                    '''\n",
    "'''                                                                                 '''\n",
    "'''# further optimisations maybe possible with the four approaches                      '''\n",
    "'''# note that mutate request internally casts the numpy population into a list of lists    '''\n",
    "\n",
    "class MutateRequest:\n",
    "    def __init__(self, population):\n",
    "        \n",
    "        # I thought it was fairer to start with the native list object and require modules to promote to array\n",
    "        # than have \"naive\" modules demoting nd arrays back down to lists\n",
    "        number_of_mutations = get_number_of_mutations()\n",
    "        self.population     = population\n",
    "        self.population     = [list(algo) for algo in population] # see explanation of choice of list not ndarray\n",
    "        self.rows_algos     = len(population)\n",
    "        self.columns_genes  = len(population[0])\n",
    "        self.number_of_mutations = number_of_mutations\n",
    "\n",
    "class TellObject:\n",
    "    def __init__(self, population, base_mutants, numpy_mutants, ctype_mutants, pygad_mutants):\n",
    "        self.population     = population\n",
    "        self.base_mutants   = base_mutants\n",
    "        self.numpy_mutants  = numpy_mutants\n",
    "        self.ctype_mutants  = ctype_mutants\n",
    "        self.pygad_mutants  = pygad_mutants\n",
    "\n",
    "def get_random_mutation_min_val():\n",
    "    return -2\n",
    "\n",
    "def get_random_mutation_max_val():\n",
    "    return 2\n",
    "        \n",
    "def tell(tell_object):\n",
    "    print('\\noriginal population\\n', np.around(np.asarray(tell_object.population), decimals=4))\n",
    "    print('\\nmutation by base libraries')\n",
    "    for i in range(len(tell_object.base_mutants)):\n",
    "          print(np.around(np.asarray(tell_object.base_mutants[i]),decimals=4))\n",
    "    print('\\nmutation by numpy/scipy libraries\\n', np.around(np.asarray(tell_object.numpy_mutants), decimals=4))\n",
    "    print('\\nmutation by pygad function\\n', np.around(np.asarray(tell_object.pygad_mutants), decimals=4))\n",
    "    print('\\nmutation by ctype library\\n', np.around(np.asarray(tell_object.ctype_mutants), decimals=4))\n",
    "\n",
    "def get_number_of_mutations():\n",
    "    number_of_mutations = 1\n",
    "    return number_of_mutations\n",
    "\n",
    "def build_population():\n",
    "    low         = -1\n",
    "    high        =  1\n",
    "    cohort_size = (4, 8) #  rows_algos, columns_genes\n",
    "    population  = np.random.uniform(low, high, size=cohort_size)\n",
    "    return population\n",
    "\n",
    "def base_mutate(mutate_request):\n",
    "    ''' does not use numpy; only uses naive base library - math, itertools, random etc are allowed'''\n",
    "    population          = mutate_request.population\n",
    "    number_of_mutations = mutate_request.number_of_mutations\n",
    "    rows_algos          = mutate_request.rows_algos\n",
    "    columns_genes       = mutate_request.columns_genes\n",
    "    mutants             = population\n",
    "    \n",
    "    # arbitrary loop nesting order here - this is best for \n",
    "    for mutation in range(number_of_mutations):\n",
    "        for algo in mutants:\n",
    "            random_place    = random.randrange(columns_genes)\n",
    "            starting_gene   = algo[random_place]\n",
    "            a_float         = random.random()\n",
    "            algo.pop(random_place)\n",
    "            mutant_gene     = starting_gene + a_float\n",
    "            algo.insert(random_place, mutant_gene)\n",
    "    return mutants\n",
    "\n",
    "def numpy_mutate(mutate_request):\n",
    "    population          = mutate_request.population\n",
    "    population          = np.asarray(population)\n",
    "    \n",
    "    number_of_mutations = mutate_request.number_of_mutations\n",
    "    all_loci            = mutate_request.rows_algos * mutate_request.columns_genes\n",
    "    \n",
    "    mutation_rate       = number_of_mutations/mutate_request.columns_genes\n",
    "    \n",
    "    mutation_matrix = sparse.random(population.shape[0], population.shape[1], density=mutation_rate)\n",
    "    pre_mutants     = np.copy(population)\n",
    "    mutants         = np.add(pre_mutants, mutation_matrix.todense())\n",
    "    return mutants\n"
   ]
  },
  {
   "cell_type": "code",
   "execution_count": 2,
   "metadata": {},
   "outputs": [],
   "source": [
    "x = (ctypes.c_ulong*5)(1,2,3,4,5)"
   ]
  },
  {
   "cell_type": "code",
   "execution_count": 3,
   "metadata": {},
   "outputs": [
    {
     "data": {
      "text/plain": [
       "{}"
      ]
     },
     "execution_count": 3,
     "metadata": {},
     "output_type": "execute_result"
    }
   ],
   "source": [
    "vars(x)"
   ]
  },
  {
   "cell_type": "code",
   "execution_count": 4,
   "metadata": {},
   "outputs": [
    {
     "name": "stdout",
     "output_type": "stream",
     "text": [
      "<__main__.LP_c_ulong object at 0x7f2f39a54320>\n"
     ]
    }
   ],
   "source": [
    "print(ctypes.cast(x, ctypes.POINTER(ctypes.c_ulong)))"
   ]
  },
  {
   "cell_type": "code",
   "execution_count": null,
   "metadata": {},
   "outputs": [],
   "source": []
  },
  {
   "cell_type": "code",
   "execution_count": 11,
   "metadata": {},
   "outputs": [
    {
     "name": "stdout",
     "output_type": "stream",
     "text": [
      "\n",
      "this_locus_pointer.contents:\t c_longdouble(0.9549690640089585)\n",
      "\n",
      "this_locus_pointer.contents:\t c_longdouble(0.444723882195583)\n",
      "\n",
      "this_locus_pointer.contents:\t c_longdouble(-0.8443044344004766)\n",
      "\n",
      "this_locus_pointer.contents:\t c_longdouble(-0.13918018960654832)\n",
      "\n",
      "this_locus_pointer.contents:\t c_longdouble(0.8042681282695889)\n",
      "\n",
      "this_locus_pointer.contents:\t c_longdouble(0.22201060365870173)\n",
      "\n",
      "this_locus_pointer.contents:\t c_longdouble(-0.17104413980832112)\n",
      "\n",
      "this_locus_pointer.contents:\t c_longdouble(-0.291142357486714)\n",
      "\n",
      "this_locus_pointer.contents:\t c_longdouble(-0.24166879948512077)\n",
      "\n",
      "this_locus_pointer.contents:\t c_longdouble(-0.5471210077854611)\n",
      "\n",
      "this_locus_pointer.contents:\t c_longdouble(0.43288166360882085)\n",
      "\n",
      "this_locus_pointer.contents:\t c_longdouble(0.6228562279576517)\n",
      "\n",
      "this_locus_pointer.contents:\t c_longdouble(0.8052018856393457)\n",
      "\n",
      "this_locus_pointer.contents:\t c_longdouble(-0.473808695663539)\n",
      "\n",
      "this_locus_pointer.contents:\t c_longdouble(-0.13882232888070112)\n",
      "\n",
      "this_locus_pointer.contents:\t c_longdouble(-0.25282095883654265)\n",
      "\n",
      "this_locus_pointer.contents:\t c_longdouble(-0.20783722046208442)\n",
      "\n",
      "this_locus_pointer.contents:\t c_longdouble(0.6523759032614256)\n",
      "\n",
      "this_locus_pointer.contents:\t c_longdouble(0.44027780771612846)\n",
      "\n",
      "this_locus_pointer.contents:\t c_longdouble(0.8080505376976659)\n",
      "\n",
      "this_locus_pointer.contents:\t c_longdouble(0.35095497285078725)\n",
      "\n",
      "this_locus_pointer.contents:\t c_longdouble(0.7595768797035636)\n",
      "\n",
      "this_locus_pointer.contents:\t c_longdouble(0.40751643288226336)\n",
      "\n",
      "this_locus_pointer.contents:\t c_longdouble(0.7892220071737162)\n",
      "\n",
      "this_locus_pointer.contents:\t c_longdouble(-0.8934839250723488)\n",
      "\n",
      "this_locus_pointer.contents:\t c_longdouble(-0.5545719645952838)\n",
      "\n",
      "this_locus_pointer.contents:\t c_longdouble(-0.07958959494909834)\n",
      "\n",
      "this_locus_pointer.contents:\t c_longdouble(-0.19048333662916472)\n",
      "\n",
      "this_locus_pointer.contents:\t c_longdouble(-0.47784993823245503)\n",
      "\n",
      "this_locus_pointer.contents:\t c_longdouble(0.6158330548899755)\n",
      "\n",
      "this_locus_pointer.contents:\t c_longdouble(-0.41460005886845397)\n",
      "\n",
      "this_locus_pointer.contents:\t c_longdouble(0.8401723295024066)\n"
     ]
    },
    {
     "ename": "TypeError",
     "evalue": "unsupported operand type(s) for *: 'c_int' and 'c_int'",
     "output_type": "error",
     "traceback": [
      "\u001b[0;31m---------------------------------------------------------------------------\u001b[0m",
      "\u001b[0;31mTypeError\u001b[0m                                 Traceback (most recent call last)",
      "\u001b[0;32m<ipython-input-11-731337b5b7f0>\u001b[0m in \u001b[0;36m<module>\u001b[0;34m\u001b[0m\n\u001b[1;32m     87\u001b[0m     \u001b[0mprint\u001b[0m\u001b[0;34m(\u001b[0m\u001b[0;34m'pass'\u001b[0m\u001b[0;34m)\u001b[0m\u001b[0;34m\u001b[0m\u001b[0;34m\u001b[0m\u001b[0m\n\u001b[1;32m     88\u001b[0m \u001b[0;34m\u001b[0m\u001b[0m\n\u001b[0;32m---> 89\u001b[0;31m \u001b[0mtest_ctype_mutate\u001b[0m\u001b[0;34m(\u001b[0m\u001b[0;34m)\u001b[0m\u001b[0;34m\u001b[0m\u001b[0;34m\u001b[0m\u001b[0m\n\u001b[0m",
      "\u001b[0;32m<ipython-input-11-731337b5b7f0>\u001b[0m in \u001b[0;36mtest_ctype_mutate\u001b[0;34m()\u001b[0m\n\u001b[1;32m     68\u001b[0m     \u001b[0mpopulation\u001b[0m            \u001b[0;34m=\u001b[0m \u001b[0mbuild_population\u001b[0m\u001b[0;34m(\u001b[0m\u001b[0;34m)\u001b[0m\u001b[0;34m\u001b[0m\u001b[0;34m\u001b[0m\u001b[0m\n\u001b[1;32m     69\u001b[0m     \u001b[0mmutate_request\u001b[0m        \u001b[0;34m=\u001b[0m \u001b[0mMutateRequest\u001b[0m\u001b[0;34m(\u001b[0m\u001b[0mpopulation\u001b[0m\u001b[0;34m)\u001b[0m\u001b[0;34m\u001b[0m\u001b[0;34m\u001b[0m\u001b[0m\n\u001b[0;32m---> 70\u001b[0;31m     \u001b[0mmutants\u001b[0m               \u001b[0;34m=\u001b[0m \u001b[0mctype_mutate\u001b[0m\u001b[0;34m(\u001b[0m\u001b[0mmutate_request\u001b[0m\u001b[0;34m)\u001b[0m\u001b[0;34m\u001b[0m\u001b[0;34m\u001b[0m\u001b[0m\n\u001b[0m\u001b[1;32m     71\u001b[0m     \u001b[0mmax_parity_sum\u001b[0m        \u001b[0;34m=\u001b[0m \u001b[0mpopulation\u001b[0m\u001b[0;34m.\u001b[0m\u001b[0mshape\u001b[0m\u001b[0;34m[\u001b[0m\u001b[0;36m0\u001b[0m\u001b[0;34m]\u001b[0m \u001b[0;34m*\u001b[0m \u001b[0mpopulation\u001b[0m\u001b[0;34m.\u001b[0m\u001b[0mshape\u001b[0m\u001b[0;34m[\u001b[0m\u001b[0;36m1\u001b[0m\u001b[0;34m]\u001b[0m\u001b[0;34m\u001b[0m\u001b[0;34m\u001b[0m\u001b[0m\n\u001b[1;32m     72\u001b[0m     \u001b[0mrows_algos\u001b[0m            \u001b[0;34m=\u001b[0m \u001b[0mmutate_request\u001b[0m\u001b[0;34m.\u001b[0m\u001b[0mrows_algos\u001b[0m\u001b[0;34m\u001b[0m\u001b[0;34m\u001b[0m\u001b[0m\n",
      "\u001b[0;32m<ipython-input-11-731337b5b7f0>\u001b[0m in \u001b[0;36mctype_mutate\u001b[0;34m(mutate_request)\u001b[0m\n\u001b[1;32m     23\u001b[0m \u001b[0;34m\u001b[0m\u001b[0m\n\u001b[1;32m     24\u001b[0m     \u001b[0;32mfor\u001b[0m \u001b[0mneeded_mutation\u001b[0m \u001b[0;32min\u001b[0m \u001b[0mrange\u001b[0m\u001b[0;34m(\u001b[0m\u001b[0mmutations_needed\u001b[0m\u001b[0;34m)\u001b[0m\u001b[0;34m:\u001b[0m\u001b[0;34m\u001b[0m\u001b[0;34m\u001b[0m\u001b[0m\n\u001b[0;32m---> 25\u001b[0;31m         \u001b[0mindex\u001b[0m       \u001b[0;34m=\u001b[0m \u001b[0mc_int\u001b[0m\u001b[0;34m(\u001b[0m\u001b[0mc_int\u001b[0m\u001b[0;34m(\u001b[0m\u001b[0mpopulation_length\u001b[0m\u001b[0;34m)\u001b[0m \u001b[0;34m*\u001b[0m \u001b[0mc_int\u001b[0m\u001b[0;34m(\u001b[0m\u001b[0mc_rand\u001b[0m\u001b[0;34m(\u001b[0m\u001b[0;34m)\u001b[0m\u001b[0;34m)\u001b[0m\u001b[0;34m/\u001b[0m\u001b[0mc_int\u001b[0m\u001b[0;34m(\u001b[0m\u001b[0mc_RAND_MAX\u001b[0m\u001b[0;34m)\u001b[0m\u001b[0;34m)\u001b[0m\u001b[0;34m\u001b[0m\u001b[0;34m\u001b[0m\u001b[0m\n\u001b[0m\u001b[1;32m     26\u001b[0m         \u001b[0;31m#mutation    = c_longdouble(random_mutation_min_val + gap*(c_rand()/c_RAND_MAX))\u001b[0m\u001b[0;34m\u001b[0m\u001b[0;34m\u001b[0m\u001b[0;34m\u001b[0m\u001b[0m\n\u001b[1;32m     27\u001b[0m         \u001b[0;31m#this_locus  = pointer(c_longdouble(c_flat_population[index]))\u001b[0m\u001b[0;34m\u001b[0m\u001b[0;34m\u001b[0m\u001b[0;34m\u001b[0m\u001b[0m\n",
      "\u001b[0;31mTypeError\u001b[0m: unsupported operand type(s) for *: 'c_int' and 'c_int'"
     ]
    }
   ],
   "source": [
    "def ctype_mutate(mutate_request):\n",
    "    \n",
    "    random_mutation_min_val = get_random_mutation_min_val()\n",
    "    random_mutation_max_val = get_random_mutation_max_val()\n",
    "    gap                     = random_mutation_max_val - random_mutation_min_val\n",
    "    \n",
    "    libc        = CDLL(\"libc.so.6\")\n",
    "    c_RAND_MAX  = 2147483647 # as if libc.RAND_MAX returns 2 ^ 32-1 but instead it throws undefined symobl\n",
    "    c_rand      = libc.rand\n",
    "    \n",
    "    population          = mutate_request.population\n",
    "    flat_population     = list(np.ravel(np.asarray(population)))\n",
    "    population_length   = len(flat_population)\n",
    "    mutations_needed    = mutate_request.rows_algos * mutate_request.number_of_mutations\n",
    "\n",
    "    CFlatPopulation     = c_longdouble * population_length\n",
    "    c_flat_population   = CFlatPopulation(*flat_population) # * means unpack\n",
    "    \n",
    "    for i in range(population_length):\n",
    "        this_locus_pointer  = pointer(c_longdouble(c_flat_population[i])) # pointer to ith element\n",
    "        #this_locus_pointer  = POINTER(c_longdouble(c_flat_population[i])) # pointer to ith element\n",
    "        print('\\nthis_locus_pointer.contents:\\t', this_locus_pointer.contents)\n",
    "\n",
    "    for needed_mutation in range(mutations_needed):\n",
    "        index       = c_int(c_int(population_length) * c_int(c_rand())/c_int(c_RAND_MAX))\n",
    "        #mutation    = c_longdouble(random_mutation_min_val + gap*(c_rand()/c_RAND_MAX))\n",
    "        #this_locus  = pointer(c_longdouble(c_flat_population[index]))\n",
    "        #this_gene   = pointer(c_longdouble(c_flat_population[index])).contents\n",
    "        #print('\\nindex\\t', index, 'mutation\\t', mutation, 'this_locus\\t', this_locus, 'old_gene\\t', this_gene)\n",
    "        \n",
    "\n",
    "        \n",
    "        \n",
    "    #print('\\npy_index_stack\\n', py_index_stack)\n",
    "    #print('\\npy_mutations_stack\\n', py_mutations_stack)\n",
    "    \n",
    "    #CIndexStack         = c_int        * mutations_needed\n",
    "    #CMutationsStack     = c_longdouble * mutations_needed\n",
    "    \n",
    "    #for i in range(mutations_needed):\n",
    "        \n",
    "        \n",
    "    \n",
    "    \n",
    "    \n",
    "    \n",
    "    \n",
    "    \n",
    "    \n",
    "    #py_index_stack_pointer      = pointer(py_index_stack)\n",
    "    #py_mutations_stack_pointer  = pointer(py_mutations_stack)\n",
    "    \n",
    "    #print('\\n py_index_stack_pointer in ctype mutate scope\\n', py_index_stack_pointer)\n",
    "    #print('\\n py_mutations_stack_pointer in ctype mutate scope\\n', py_mutations_stack_pointer)\n",
    "    \n",
    "\n",
    "    \n",
    "    #     use pointer + random int of index stack[i] to retrieve, increment and replace double at [i]\n",
    "    \n",
    "    # whap the quickly incremented C array back into pytohn land\n",
    "    # reshape that into population ndarray shape\n",
    "    # bosh\n",
    "    mutants = population\n",
    "    return mutants\n",
    "\n",
    "def test_ctype_mutate():\n",
    "    number_of_mutations   = get_number_of_mutations()\n",
    "    population            = build_population()\n",
    "    mutate_request        = MutateRequest(population)\n",
    "    mutants               = ctype_mutate(mutate_request)\n",
    "    max_parity_sum        = population.shape[0] * population.shape[1]\n",
    "    rows_algos            = mutate_request.rows_algos\n",
    "    \n",
    "    #form\n",
    "    assert isinstance(mutants,      list),  'Error: should be an np array'\n",
    "    assert isinstance(mutants[0],   list),  'Error: should be an np array'\n",
    "    assert isinstance(mutants[0][0],float), 'Error: should be a float'\n",
    "    \n",
    "    #content\n",
    "    flat_population = list(np.ravel(np.asarray(population)))\n",
    "    flat_mutants    = list(np.ravel(np.asarray(mutants)))\n",
    "    both            = zip(flat_population, flat_mutants)\n",
    "    parity_check    = sum([int(x[0]==x[1]) for x in both])\n",
    "    if number_of_mutations > 0:\n",
    "        assert parity_check <= max_parity_sum-rows_algos, 'Error: there should be at least one difference per algo'\n",
    "    assert parity_check > 0, 'Error: they should not be completely different'\n",
    "    print('pass')\n",
    "    \n",
    "test_ctype_mutate()"
   ]
  },
  {
   "cell_type": "code",
   "execution_count": 8,
   "metadata": {},
   "outputs": [],
   "source": [
    "def pygad_mutate(mutate_request):\n",
    "    # 1. removed dependency on gene_type\n",
    "    # 2. all modules for these time trials start with a list because they refer to the MutateRequest\n",
    "    #    and the mutate reqeust offers a list as the most basic thing\n",
    "    #    so if this module seems handicapped by e.g. the need to retype offspring as an array then\n",
    "    #    people are welcome to change the interface, but it just passes that handicap elsewhere\n",
    "\n",
    "    offspring                = np.asarray(mutate_request.population)\n",
    "    num_genes                = mutate_request.columns_genes\n",
    "    mutation_num_genes       = mutate_request.number_of_mutations\n",
    "    random_mutation_min_val  = get_random_mutation_min_val()\n",
    "    random_mutation_max_val  = get_random_mutation_max_val()\n",
    "    \n",
    "    for offspring_idx in range(offspring.shape[0]):\n",
    "        mutation_indices = np.array(random.sample(range(0, num_genes), mutation_num_genes))\n",
    "        for gene_idx in mutation_indices:\n",
    "            random_value = np.random.uniform(low=random_mutation_min_val, \n",
    "                                            high=random_mutation_max_val, \n",
    "                                            size=1)\n",
    "            offspring[offspring_idx, gene_idx] = offspring[offspring_idx, gene_idx] + random_value\n",
    "    return offspring"
   ]
  },
  {
   "cell_type": "code",
   "execution_count": 9,
   "metadata": {},
   "outputs": [
    {
     "name": "stdout",
     "output_type": "stream",
     "text": [
      "\n",
      "py_index_stack\n",
      " [7497, 2941, 5844, 1523, 1254, 1641, 745, 525, 1762, 7977, 6565, 6394, 934, 5202, 699, 4614, 5733, 519, 9999, 8899, 9977, 8705, 41, 5938, 1631, 9130, 3590, 5794, 6873, 5308, 3042, 5769, 7478, 354, 8332, 8732, 9794, 9033, 6668, 1639, 8889, 6497, 6294, 7006, 3287, 741, 2236, 5106, 2800, 7192, 4714, 9443, 3363, 4345, 3449, 8332, 6754, 4819, 7120, 6218]\n",
      "\n",
      "py_mutations_stack\n",
      " [-0.5253458332854071, -1.0709538455451624, -1.0223490572638574, 0.9285940634685539, 1.1738815527287692, 0.9802855565120865, 1.8004161267543286, 0.08625351921015101, -1.039750510379556, 0.9306176467475562, 1.869620554088438, 1.0389393675322363, -1.4603903533240734, -1.6870714331451204, -1.1813796549948767, 1.2787091207125734, 1.0223233415849151, -1.3687714856903868, -1.1826855573722561, -1.4981260967897838, -1.7837696893996418, -1.7106848022484615, 1.6922765093353935, -1.278510937131248, -0.43323907741961953, 1.2787806108960793, 0.20994008994192814, -0.18969661658149994, -1.601439745911136, 1.0291753295013568, 1.9689138457034314, 1.5104551126763481, 0.5156397253813405, 0.991211467884114, 1.701506204764129, 1.3241501633655979, 0.9752448289539872, 1.934382952719174, -0.01096592378381911, 1.320047335382573, -1.6920212766584108, -1.0078235263972652, -1.083452080880968, -0.732531450098628, -1.0742881908427404, 0.5322887741645279, 0.6045283296166586, 1.8858628384237472, 0.18442751196419227, -1.5468777807182064, 0.37015967553954576, -0.1963297679071918, 1.3907377437645279, -1.9870741609423768, 0.39392519853726293, -1.06443318122273, -0.06819888114379657, -0.7801772667002758, -1.2697768505987603, -1.8365427888168686]\n",
      "\n",
      "original population\n",
      " [[-0.1317 -0.7124 -0.5052 ...  0.9575 -0.5781 -0.9   ]\n",
      " [ 0.7146 -0.1576  0.1979 ... -0.0035 -0.8218 -0.7998]\n",
      " [-0.6381 -0.4146 -0.5522 ...  0.7436 -0.1936  0.7243]\n",
      " ...\n",
      " [-0.5665  0.8167  0.861  ...  0.8317 -0.2686  0.0521]\n",
      " [ 0.4049  0.5934 -0.5626 ...  0.6806 -0.6348  0.8729]\n",
      " [-0.8313  0.4681  0.0906 ... -0.8954  0.1808  0.5175]]\n",
      "\n",
      "mutation by base libraries\n",
      "[-1.317e-01 -7.124e-01 -5.052e-01  2.551e-01  4.740e-02 -8.598e-01\n",
      " -5.669e-01  9.361e-01  8.168e-01  7.090e-01  2.757e-01  1.324e-01\n",
      " -1.096e-01  7.253e-01 -2.025e-01  9.229e-01 -1.487e-01 -5.296e-01\n",
      " -9.300e-01 -1.785e-01  9.926e-01  6.541e-01  2.652e-01 -5.315e-01\n",
      " -2.707e-01  9.376e-01 -7.800e-02 -5.265e-01  9.092e-01  6.479e-01\n",
      "  5.553e-01  7.193e-01 -6.726e-01  6.853e-01 -7.130e-01  5.002e-01\n",
      "  3.830e-01 -7.485e-01  7.040e-02 -1.000e-04 -5.027e-01 -2.525e-01\n",
      "  6.476e-01  5.934e-01 -6.030e-01  1.432e-01 -2.016e-01  8.818e-01\n",
      " -1.509e-01 -4.193e-01 -3.238e-01 -3.019e-01  1.647e-01  2.830e-01\n",
      " -6.926e-01  9.357e-01 -5.238e-01 -7.652e-01 -9.228e-01  4.342e-01\n",
      "  9.746e-01  4.095e-01  9.482e-01 -5.943e-01 -8.840e-02  5.992e-01\n",
      " -2.227e-01  5.722e-01 -4.021e-01 -3.766e-01  7.582e-01 -2.870e-02\n",
      " -5.795e-01 -8.414e-01  6.721e-01  9.726e-01  4.351e-01 -7.248e-01\n",
      "  6.213e-01 -1.535e-01  7.011e-01 -2.939e-01  8.370e-02 -3.620e-01\n",
      " -7.330e-01  5.104e-01 -5.655e-01  1.750e-01 -1.666e-01 -4.267e-01\n",
      " -2.707e-01  5.062e-01  9.069e-01 -7.464e-01 -7.500e-02  9.314e-01\n",
      " -7.705e-01  5.275e-01 -7.840e-01  9.795e-01  1.300e-01  3.959e-01\n",
      " -9.284e-01 -1.560e-02 -7.803e-01 -4.583e-01  5.386e-01  4.651e-01\n",
      "  9.516e-01 -9.878e-01 -5.730e-01  3.269e-01  4.332e-01  4.057e-01\n",
      " -3.363e-01 -5.144e-01 -7.057e-01  2.165e-01 -2.192e-01 -4.035e-01\n",
      "  3.109e-01  2.884e-01  1.023e-01  6.868e-01  5.839e-01  2.732e-01\n",
      "  1.255e-01  9.257e-01  5.422e-01 -7.405e-01 -1.837e-01 -9.372e-01\n",
      " -7.938e-01 -1.682e-01 -5.040e-01  3.591e-01 -2.350e-01  7.504e-01\n",
      " -6.313e-01  1.119e-01 -8.522e-01  3.224e-01  2.219e-01 -2.526e-01\n",
      "  5.811e-01  9.565e-01  8.230e-02  9.145e-01  2.810e-01 -3.473e-01\n",
      "  1.659e-01  9.216e-01 -9.123e-01 -3.173e-01 -8.052e-01 -9.193e-01\n",
      "  9.063e-01  2.191e-01 -3.976e-01 -3.159e-01 -7.106e-01  3.820e-02\n",
      " -7.852e-01  4.210e-02  2.046e-01 -3.694e-01 -3.790e-02 -5.520e-01\n",
      " -4.405e-01 -6.639e-01 -6.324e-01  9.911e-01  1.560e-01  6.671e-01\n",
      " -3.014e-01 -4.255e-01  4.123e-01  2.718e-01 -8.340e-01  2.180e-02\n",
      " -3.165e-01  3.959e-01 -3.440e-02 -1.779e-01 -7.493e-01  6.360e-01\n",
      " -9.120e-02  5.830e-01  7.815e-01 -3.021e-01 -3.330e-01 -1.307e-01\n",
      "  6.538e-01 -8.821e-01  9.024e-01 -4.980e-02 -9.626e-01 -6.016e-01\n",
      "  5.714e-01  6.568e-01 -4.758e-01 -4.674e-01 -2.661e-01 -8.824e-01\n",
      "  2.414e-01 -1.975e-01 -5.910e-02  4.830e-02 -1.243e-01 -6.651e-01\n",
      " -1.590e-02  5.516e-01  4.244e-01  9.693e-01  1.394e-01  2.193e-01\n",
      "  7.016e-01  9.516e-01  2.029e-01 -5.745e-01 -6.649e-01  9.294e-01\n",
      " -4.251e-01  5.347e-01  3.160e-01  4.914e-01  8.490e-01  8.824e-01\n",
      " -6.590e-01  4.028e-01  6.736e-01 -2.468e-01 -3.610e-01 -6.889e-01\n",
      "  5.663e-01  9.830e-01 -6.288e-01  9.664e-01  9.405e-01 -9.403e-01\n",
      " -8.760e-01 -3.184e-01  3.018e-01  5.396e-01 -3.530e-01 -3.174e-01\n",
      " -3.140e-01 -2.386e-01 -9.180e-01 -5.802e-01 -1.435e-01 -3.763e-01\n",
      "  5.694e-01 -8.869e-01  5.013e-01  9.290e-02 -9.037e-01  1.731e-01\n",
      "  3.854e-01  2.613e-01 -3.654e-01 -2.873e-01 -7.210e-01 -2.513e-01\n",
      "  4.404e-01 -2.938e-01  2.250e-01 -9.510e-01  1.075e-01  9.842e-01\n",
      "  6.697e-01  3.486e-01  6.311e-01  2.141e-01 -5.425e-01  7.008e-01\n",
      " -6.518e-01  6.909e-01  7.520e-01 -6.865e-01  9.241e-01 -2.201e-01\n",
      "  3.335e-01 -6.560e-01 -9.204e-01  5.389e-01  5.147e-01 -9.172e-01\n",
      " -3.177e-01  8.026e-01 -5.978e-01  1.486e-01 -7.038e-01 -1.959e-01\n",
      " -2.699e-01  7.796e-01  2.400e-01  3.883e-01 -7.061e-01  9.428e-01\n",
      " -3.277e-01 -4.285e-01  1.258e-01  8.019e-01  5.600e-03 -7.990e-01\n",
      " -5.063e-01  8.201e-01 -8.229e-01  8.885e-01 -3.156e-01  6.999e-01\n",
      "  5.768e-01  8.714e-01  7.519e-01  4.676e-01 -9.140e-02  8.392e-01\n",
      "  6.581e-01  3.301e-01 -1.115e-01  5.062e-01 -1.730e-01  8.834e-01\n",
      " -4.291e-01  6.948e-01 -2.509e-01 -9.252e-01 -5.882e-01  5.327e-01\n",
      "  6.944e-01 -9.724e-01  2.219e-01 -3.391e-01  6.425e-01  9.484e-01\n",
      "  9.961e-01 -5.130e-02 -9.754e-01  3.479e-01  6.048e-01 -9.190e-01\n",
      " -1.213e-01  5.479e-01 -5.679e-01  1.418e-01 -3.818e-01 -4.120e-01\n",
      " -6.030e-01 -3.700e-01 -5.655e-01  4.690e-02  9.060e-02  9.424e-01\n",
      "  5.811e-01  2.651e-01 -8.348e-01  2.631e-01 -3.500e-03  6.126e-01\n",
      "  7.315e-01  2.026e-01 -5.610e-01 -3.246e-01  8.873e-01 -5.818e-01\n",
      "  8.720e-01 -9.823e-01  9.194e-01 -7.340e-01 -7.603e-01 -3.166e-01\n",
      "  6.323e-01 -1.322e-01  9.794e-01 -9.995e-01  8.850e-01  7.360e-02\n",
      "  3.101e-01 -3.928e-01  3.988e-01  1.100e-01 -6.550e-01  8.655e-01\n",
      "  4.563e-01 -9.449e-01 -6.910e-01  8.906e-01 -1.324e-01  3.918e-01\n",
      " -7.596e-01  2.750e-02  4.871e-01 -5.150e-02  7.203e-01  3.652e-01\n",
      "  8.215e-01 -3.916e-01 -2.119e-01 -7.168e-01 -5.494e-01 -6.510e-01\n",
      " -4.999e-01 -5.244e-01  5.163e-01 -2.015e-01 -6.190e-01 -3.804e-01\n",
      " -7.376e-01 -2.034e-01  9.135e-01 -8.607e-01 -1.262e-01  8.770e-02\n",
      " -8.580e-02 -2.595e-01  8.650e-02  8.476e-01  7.674e-01  3.950e-02\n",
      " -5.880e-02  7.740e-02 -1.254e-01  4.458e-01  2.724e-01  3.172e-01\n",
      "  5.516e-01  9.705e-01  9.234e-01 -3.925e-01 -8.548e-01 -3.902e-01\n",
      "  8.794e-01  8.185e-01  3.456e-01 -6.863e-01 -4.808e-01 -1.600e-03\n",
      "  9.550e-01  1.273e-01  8.753e-01 -3.109e-01  1.701e-01  2.381e-01\n",
      "  3.461e-01 -5.437e-01 -6.690e-01  5.287e-01  7.021e-01  3.650e-02\n",
      " -7.641e-01  7.860e-01  5.927e-01  3.111e-01 -2.000e-03  6.892e-01\n",
      "  4.449e-01 -5.146e-01  9.520e-01  5.174e-01  8.788e-01 -5.864e-01\n",
      "  9.178e-01 -4.580e-02  2.620e-01  8.769e-01  6.061e-01  6.451e-01\n",
      "  1.764e-01 -5.259e-01  1.340e-01 -2.820e-02  3.194e-01 -5.430e-02\n",
      "  2.626e-01 -8.435e-01  6.928e-01 -1.506e-01 -8.991e-01 -8.669e-01\n",
      "  4.025e-01  6.660e-02 -7.313e-01 -8.206e-01 -8.000e-03 -5.637e-01\n",
      " -8.617e-01  1.601e-01  6.544e-01 -4.214e-01 -4.528e-01 -1.572e-01\n",
      " -2.774e-01 -2.652e-01  3.277e-01  3.747e-01 -3.564e-01  9.575e-01\n",
      " -5.781e-01 -9.000e-01]\n",
      "[ 7.1460e-01 -1.5760e-01  1.9790e-01  5.9650e-01  3.6110e-01 -3.8890e-01\n",
      " -5.2980e-01  2.9800e-01 -8.3020e-01  9.1640e-01 -4.2230e-01 -2.5630e-01\n",
      "  8.3460e-01  5.5580e-01 -6.2370e-01  1.5690e-01 -1.9890e-01  9.4360e-01\n",
      "  7.3660e-01 -4.9090e-01 -9.0090e-01 -6.8480e-01  8.1280e-01 -8.8260e-01\n",
      " -9.3100e-01  3.3020e-01 -6.9800e-01 -7.5220e-01 -4.3950e-01  3.6470e-01\n",
      " -2.2100e-02 -7.3460e-01 -2.5270e-01  2.7210e-01  2.4340e-01 -3.5670e-01\n",
      " -5.3700e-02  2.3870e-01  1.0350e-01  8.3980e-01  6.4820e-01 -7.4780e-01\n",
      " -3.3350e-01 -7.3950e-01  6.2320e-01 -3.4960e-01  1.7271e+00 -1.8150e-01\n",
      " -7.5900e-01  7.1830e-01  2.7250e-01 -8.3390e-01 -9.0500e-02 -9.2720e-01\n",
      " -5.4200e-01 -7.8900e-02 -5.5480e-01 -2.9030e-01 -9.7720e-01  7.0310e-01\n",
      " -6.2560e-01  2.9720e-01  8.7210e-01 -1.1470e-01  1.8680e-01 -1.3200e-02\n",
      " -5.1710e-01 -9.3070e-01 -1.0920e-01  7.0470e-01 -7.4000e-02  1.9990e-01\n",
      " -1.8300e-01 -8.0750e-01  7.4500e-01 -6.0660e-01  6.7010e-01 -3.5350e-01\n",
      " -9.3800e-02 -5.2930e-01 -8.1290e-01 -1.5070e-01 -2.0410e-01 -1.6300e-02\n",
      "  8.2300e-02  2.2140e-01 -2.2030e-01 -2.3940e-01  5.8340e-01  2.1000e-02\n",
      " -7.4150e-01  9.1970e-01 -6.7530e-01  6.4340e-01 -8.7500e-01  3.3290e-01\n",
      " -5.9110e-01  7.6600e-01 -6.2310e-01 -3.0790e-01  4.9760e-01  7.6470e-01\n",
      " -1.1360e-01  6.6260e-01  5.7320e-01 -4.9200e-01 -2.9530e-01  5.0930e-01\n",
      "  6.1260e-01  6.4470e-01 -7.2970e-01 -2.8110e-01  3.5120e-01  7.6440e-01\n",
      "  2.7700e-02 -3.5750e-01  4.2700e-01  8.7600e-02 -7.6160e-01 -7.6120e-01\n",
      "  4.0520e-01 -4.9500e-01 -5.7770e-01  4.6360e-01 -9.1980e-01 -9.9150e-01\n",
      "  6.0700e-02 -9.6100e-02 -1.6560e-01 -9.5350e-01 -3.1000e-02  5.7890e-01\n",
      "  2.7110e-01  9.9840e-01  5.8300e-02 -7.6280e-01 -5.0080e-01 -1.4250e-01\n",
      "  5.9720e-01 -3.6920e-01 -1.6880e-01 -4.6730e-01 -7.0170e-01  7.8400e-02\n",
      "  2.3920e-01  9.5100e-01  4.0820e-01 -1.5450e-01 -5.0040e-01  2.6430e-01\n",
      " -9.0220e-01  1.8110e-01 -9.8010e-01 -4.4170e-01  8.2400e-01  5.2660e-01\n",
      " -1.9300e-02 -4.4390e-01  9.4850e-01 -6.7600e-01  2.8040e-01  4.0260e-01\n",
      "  7.5710e-01 -4.4310e-01  5.1320e-01  3.0500e-01  9.6070e-01  9.6400e-01\n",
      "  1.5160e-01 -9.9260e-01 -1.5680e-01 -9.0850e-01  2.1200e-02 -8.6200e-01\n",
      " -4.9310e-01 -2.1150e-01  6.8150e-01 -5.4870e-01 -2.5700e-02  6.2240e-01\n",
      " -4.0990e-01  1.3510e-01 -2.0840e-01 -5.3690e-01  3.2000e-03 -1.5690e-01\n",
      " -7.7270e-01  9.6080e-01 -8.2800e-01 -2.3520e-01 -2.9900e-02  3.9090e-01\n",
      "  7.2560e-01 -4.5510e-01  1.0000e-03 -9.7320e-01 -7.5550e-01  9.4210e-01\n",
      "  7.3630e-01  1.3040e-01  8.8680e-01  1.7400e-02 -8.5880e-01  8.6180e-01\n",
      "  5.7230e-01  9.3550e-01 -1.1310e-01  3.4490e-01 -2.0840e-01 -7.7010e-01\n",
      "  1.9060e-01  4.4080e-01 -8.2370e-01 -3.3820e-01 -8.9750e-01  3.9330e-01\n",
      "  5.5800e-02  6.3060e-01 -8.9960e-01 -8.4730e-01  1.2880e-01 -1.0930e-01\n",
      "  2.3440e-01  4.4440e-01 -7.3410e-01  6.5900e-01 -1.2540e-01 -5.3450e-01\n",
      "  1.5560e-01  7.9700e-02 -7.2590e-01 -5.7340e-01 -5.2380e-01 -5.1970e-01\n",
      "  8.4800e-01 -2.7480e-01 -5.6880e-01  6.2110e-01 -7.2080e-01 -3.5860e-01\n",
      "  7.8160e-01  9.1100e-01 -3.1150e-01 -4.1110e-01 -1.8580e-01  4.9440e-01\n",
      "  1.4190e-01  8.4790e-01  4.2830e-01  6.1370e-01 -6.3010e-01  1.4690e-01\n",
      " -9.2220e-01 -5.8600e-01  1.8210e-01 -2.7030e-01  6.0820e-01 -5.2360e-01\n",
      "  5.2470e-01  5.2640e-01 -8.7720e-01 -5.1000e-02 -2.6330e-01  8.8800e-02\n",
      "  9.9300e-02  1.3940e-01  8.3700e-02 -1.1060e-01  1.5090e-01  3.6800e-01\n",
      " -2.2640e-01  6.4690e-01  8.0630e-01  2.7560e-01 -9.3570e-01 -8.6520e-01\n",
      " -3.6000e-01  1.4280e-01 -5.2640e-01 -3.6740e-01  9.7840e-01 -7.3110e-01\n",
      " -4.1340e-01 -4.4430e-01  6.0830e-01  7.1440e-01  2.4290e-01  5.0660e-01\n",
      "  9.1150e-01 -4.2510e-01  9.4600e-01  6.9140e-01  6.0790e-01 -9.0070e-01\n",
      "  7.3770e-01  5.0710e-01  9.8140e-01  3.4250e-01 -9.8400e-01 -2.2180e-01\n",
      "  7.0760e-01 -1.8830e-01 -5.7860e-01 -8.6700e-02 -3.7400e-02  2.3600e-01\n",
      " -3.4900e-02  2.8810e-01  4.5980e-01 -9.0330e-01 -6.0980e-01  9.6370e-01\n",
      "  4.5800e-01  9.3070e-01 -6.2620e-01 -5.4880e-01  9.1920e-01 -7.3030e-01\n",
      "  2.2240e-01 -3.1300e-01  6.6400e-02 -6.4470e-01 -1.6830e-01  1.5500e-01\n",
      " -6.6930e-01  5.7500e-02 -2.1000e-03 -6.5440e-01  7.2290e-01  2.0880e-01\n",
      "  1.2610e-01  7.2190e-01  7.9300e-02 -4.8650e-01 -8.0630e-01 -3.9790e-01\n",
      "  7.3770e-01  4.5840e-01  7.6640e-01  7.4410e-01 -7.2200e-02 -9.1700e-02\n",
      " -3.4140e-01  9.0780e-01 -2.7880e-01 -1.0180e-01  6.5370e-01 -2.6500e-02\n",
      "  3.0070e-01  1.9100e-02  2.3970e-01  1.6440e-01 -2.3900e-02  8.9790e-01\n",
      "  3.7000e-01  7.1020e-01  1.1770e-01  4.5540e-01  2.1620e-01 -1.9600e-02\n",
      "  3.7830e-01  9.8240e-01  7.6710e-01 -4.8400e-02 -2.2480e-01  7.0620e-01\n",
      " -6.2050e-01 -4.0910e-01 -5.2360e-01  1.0510e-01  7.0300e-02 -3.8710e-01\n",
      "  8.0430e-01 -8.7000e-01 -5.3350e-01 -4.3280e-01  6.5500e-01 -8.4390e-01\n",
      " -1.8940e-01  9.1320e-01  4.0500e-01 -5.0870e-01 -1.8770e-01  7.2190e-01\n",
      " -9.9690e-01  2.7940e-01 -5.2260e-01 -4.5460e-01 -3.1080e-01  6.0040e-01\n",
      "  1.7620e-01 -8.6000e-02 -7.5080e-01 -1.2490e-01 -3.1830e-01  7.3130e-01\n",
      "  5.2890e-01  8.1610e-01 -9.0970e-01  1.4680e-01  6.7100e-01  7.4070e-01\n",
      " -9.2170e-01  3.1700e-02 -7.4400e-01  2.2960e-01 -2.9150e-01 -7.8280e-01\n",
      "  7.8820e-01  2.7610e-01  4.3980e-01  5.5490e-01 -9.1310e-01  4.8470e-01\n",
      " -6.6640e-01 -5.7960e-01  4.9330e-01  7.3830e-01 -5.1460e-01 -1.7050e-01\n",
      " -2.3400e-01  5.0740e-01 -8.0560e-01 -3.4970e-01  1.6620e-01  8.6220e-01\n",
      "  9.6680e-01 -6.9690e-01  7.4500e-02 -3.1810e-01 -9.8110e-01 -8.1000e-02\n",
      "  9.8140e-01  3.9450e-01 -5.5730e-01  2.9250e-01 -7.0370e-01  3.8980e-01\n",
      " -3.6880e-01  1.6720e-01 -6.0700e-02 -8.3620e-01  9.7650e-01  1.4920e-01\n",
      " -7.8390e-01  3.8640e-01 -1.7450e-01 -4.0510e-01  7.7450e-01  6.6100e-01\n",
      " -4.1690e-01  4.2070e-01  7.2210e-01  5.4010e-01  8.5110e-01 -4.7920e-01\n",
      "  9.5110e-01  4.4170e-01  2.1640e-01  4.1760e-01 -1.3600e-02  2.7590e-01\n",
      "  2.8300e-01 -4.2760e-01  3.4230e-01 -8.8870e-01 -5.6250e-01  1.8510e-01\n",
      " -7.0340e-01  7.9100e-01  4.7580e-01 -2.3460e-01  4.6610e-01  1.2240e-01\n",
      " -2.6810e-01 -9.0420e-01 -4.9590e-01  7.8700e-02  3.2830e-01  4.1320e-01\n",
      " -4.6680e-01 -6.1860e-01  6.2550e-01  6.1700e-02 -4.2790e-01 -8.7020e-01\n",
      " -6.8000e-01  3.8730e-01 -6.3600e-02 -7.8240e-01 -8.4660e-01  7.4240e-01\n",
      " -8.9870e-01  9.1810e-01 -8.2660e-01 -4.9400e-02  5.8230e-01 -3.5000e-03\n",
      " -8.2180e-01 -7.9980e-01]\n",
      "[-0.6381 -0.4146 -0.5522 -0.5514  0.9123 -0.1627  0.3202 -0.9883 -0.956\n",
      " -0.9447  0.8601 -0.6372 -0.8194 -0.9872 -0.6336 -0.0076  0.21    0.5052\n",
      " -0.2818  0.333   0.8452 -0.426  -0.1746 -0.2741  0.5893  0.8513  0.2467\n",
      " -0.2438 -0.4818  0.6229 -0.7963 -0.2004 -0.2374  0.0538 -0.7283 -0.229\n",
      " -0.2287  0.0692  0.0798 -0.1255  0.0087  0.2471  0.2988 -0.475  -0.9209\n",
      "  0.3391  0.6356 -0.2811  0.6069 -0.3619 -0.9863 -0.1125  0.9486 -0.7667\n",
      "  0.733  -0.1309  0.6432 -0.3506  0.8632 -0.4285  0.2019  0.1846 -0.361\n",
      "  0.3927 -0.7567  0.3341 -0.5778 -0.5114 -0.1335 -0.2151 -0.7102  0.8586\n",
      "  0.4611 -0.672  -0.3362 -0.2017 -0.573  -0.9706  0.2087  0.9305 -0.5115\n",
      " -0.8846  0.1492 -0.8243 -0.4279 -0.6228  0.7753 -0.1394  0.4552 -0.7571\n",
      "  0.3518  0.7317 -0.7716 -0.4267  0.8871 -0.3536 -0.8857 -0.9795  0.2115\n",
      "  0.2444 -0.1402  0.4171  0.755  -0.4999  0.7662 -0.3844  0.1015  0.668\n",
      "  0.0152  0.408   0.4583  0.5597 -0.0761  0.3494 -0.4192 -0.9172  0.0933\n",
      "  0.8733 -0.6545  0.6305  0.5832 -0.2692  0.7332 -0.4332 -0.5842 -0.327\n",
      " -0.7814  0.7818 -0.2948  0.9213  0.9642 -0.313  -0.1301  0.0336 -0.0449\n",
      " -0.8627 -0.771  -0.7777  0.3286 -0.5935 -0.0587 -0.189  -0.3893 -0.9448\n",
      " -0.5787 -0.1206  0.2508 -0.1349 -0.7096 -0.3316  0.5029 -0.4348  0.5378\n",
      " -0.5201  0.2818 -0.1353  0.6095  0.4095 -0.5995 -0.5784  0.0488 -0.0844\n",
      "  0.384  -0.3163  0.7889 -0.0187  0.9953  0.5382 -0.4396 -0.8174 -0.484\n",
      " -0.8808 -0.5093 -0.578   0.9126  0.1445 -0.2257 -0.237   0.9961  0.2056\n",
      " -0.4959  0.4017  0.7891 -0.7809 -0.3212  0.7518  0.3511  0.3218  0.3289\n",
      " -0.9499 -0.3166 -0.5075  0.9832  0.2765  0.289  -0.7754  0.9854  0.2515\n",
      " -0.5326  0.3892 -0.8618  0.9918  0.7331  0.1102 -0.2236  0.7756 -0.8892\n",
      "  0.0661 -0.905  -0.5897  0.7772 -0.6162 -0.0736 -0.2509  0.8877 -0.2768\n",
      "  0.6253  0.3049  0.3417 -0.2928 -0.3983  0.9908 -0.4689  0.7184  0.5227\n",
      "  0.6539 -0.2115 -0.4999  0.3147  0.8298 -0.5999  0.4853 -0.5903 -0.4825\n",
      " -0.1697 -0.2711  0.1683 -0.997  -0.2159 -0.6865  0.011   0.2949 -0.1658\n",
      " -0.9938  0.0711  0.581  -0.6443 -0.0129  0.302  -0.7847 -0.0415  0.699\n",
      " -0.5128  0.4284 -0.4598  0.9327  0.0623  0.699   0.3933 -0.5255 -0.8345\n",
      "  0.7632 -0.8315 -0.7096  0.6207  0.65    0.4892  0.7386  0.6033  0.3698\n",
      " -0.2195 -0.1744 -0.131  -0.8797  0.9131 -0.0659 -0.4753 -0.5648 -0.9188\n",
      "  0.8269  0.1634 -0.7545  0.4149  0.2205  0.6884  0.1906  0.1937  0.9957\n",
      "  0.3833  0.0775  0.5154  0.6833  0.9671  0.4571 -0.101   0.8115 -0.5045\n",
      "  0.3175 -0.5304  0.8644  0.2995 -0.8326 -0.1046 -0.4931  0.0412  0.7565\n",
      " -0.7737  0.474  -0.5935 -0.5223 -0.8551 -0.5558 -0.1143  0.4018  0.2223\n",
      "  0.6068 -0.7709 -0.5566 -0.7763 -0.8752  0.6556  0.0984  0.9228 -0.8562\n",
      " -0.1591  0.31   -0.7205 -0.3273 -0.3113 -0.6688  0.0399  0.5443 -0.6845\n",
      "  0.7273  0.0583 -0.5111 -0.7403  0.3735  0.8517 -0.0729 -0.4587  0.8919\n",
      "  0.7777 -0.581  -0.5196  0.8143 -0.0786  0.628   0.3961  0.7584  0.677\n",
      " -0.5107 -0.295  -0.539   0.3051 -0.9744  0.9553 -0.49   -0.6457  0.538\n",
      "  0.5964 -0.4413 -0.6872 -0.3628 -0.8922 -0.7173  0.0266  0.2452 -0.2101\n",
      "  0.9467  0.009  -0.3283 -0.2706 -0.0073  0.4106  0.2825  0.1296 -0.9256\n",
      "  0.8394 -0.963  -0.7417  0.3187 -0.153  -0.3351  0.8167 -0.191  -0.7336\n",
      "  0.4648 -0.7016 -0.2294  0.0418  0.9631 -0.8685  0.435  -0.3368 -0.7291\n",
      " -0.4755 -0.2097 -0.4836 -0.1094 -0.3019 -0.3169 -0.278  -0.2177  0.5214\n",
      "  0.2768 -0.7775  0.0709  0.7963  0.0566  0.1607 -0.1424 -0.3913 -0.2188\n",
      " -0.6337 -0.3861  0.2541  0.0215 -0.5515  0.6993 -0.8606 -0.46   -0.6154\n",
      " -0.7143 -0.2351  0.6977 -0.6011  0.86    0.5317 -0.2654  0.4632 -0.8222\n",
      "  0.4517 -0.2275  0.5347  0.2514  0.8315  0.7319  0.653   0.573  -0.4607\n",
      " -0.3523 -0.7496  0.1121  0.7015 -0.1172  0.3896 -0.3739 -0.4153  0.129\n",
      " -0.7023 -0.5925 -0.7994 -0.1004  0.3917  0.0088 -0.073  -0.0612 -0.926\n",
      "  0.8334 -0.4162  0.7154 -0.3343 -0.1734  0.3568  0.8931  0.4247  0.0355\n",
      " -0.0777 -0.7588 -0.3284  0.3704  0.9951  0.2142 -0.5632  0.3549 -0.4822\n",
      " -0.6185 -0.4859  0.6694  0.4077  0.5491 -0.8003 -0.112   0.4147 -0.5529\n",
      " -0.5164  0.0245  0.5962 -0.9498  0.1427  0.8496  0.5195  0.0972 -0.8951\n",
      "  0.0654  0.0936  0.7436 -0.1936  0.7243]\n",
      "[-0.283  -0.6566  0.9037 -0.5564 -0.3286 -0.9812  0.0509  0.2206  0.6662\n",
      " -0.5394 -0.3287 -0.5303 -0.5357  0.7111 -0.7435 -0.7947  0.1061  0.5338\n",
      "  0.8459  0.1036  0.4085  0.3362 -0.2113  0.7189 -0.5446  0.2106 -0.5676\n",
      "  0.5699  0.3414  0.8185 -0.5651  0.9313 -0.7359 -0.6165  0.2475  0.8726\n",
      " -0.1721  0.1412 -0.0132  0.3435  0.5237 -0.6153 -0.4988  0.4417 -0.9561\n",
      " -0.6205  0.4302  0.9272  0.8925 -0.556   0.2545 -0.598  -0.5403 -0.006\n",
      "  0.7031  0.5732  0.9814 -0.8131  0.0497 -0.6762 -0.5576 -0.1784 -0.8782\n",
      "  0.2793 -0.0125  0.4036 -0.1209  0.701  -0.7702  0.4766 -0.2765 -0.2374\n",
      " -0.3819  0.3347 -0.3686 -0.404   0.8226  0.8797  0.3334 -0.4786 -0.4075\n",
      " -0.7554  0.416  -0.752   0.6955  0.6522 -0.8597  0.1756 -0.8345  0.3628\n",
      "  0.9055  0.982   0.7171  0.4886  0.7563  0.2816 -0.3862 -0.2     0.4913\n",
      "  0.9656  0.3423 -0.4827  0.6393 -0.4953  0.3562 -0.4869  0.1513  0.3326\n",
      "  0.9936  0.802  -0.2392 -0.112   0.0313 -0.9297 -0.3251  0.7024 -0.5863\n",
      "  0.4048 -0.8049 -0.7878  0.5951  0.375  -0.4384 -0.1317 -0.4402  0.1274\n",
      " -0.3998  0.0654 -0.8933  0.6041  0.6575 -0.1878 -0.8425 -0.654  -0.6353\n",
      " -0.0897 -0.4006 -0.8581 -0.2263 -0.8676 -0.5735 -0.3399 -0.6346 -0.658\n",
      "  0.9137  0.7658  0.0573 -0.973   0.3212 -0.2443 -0.232   0.929   0.3923\n",
      " -0.6701 -0.098   0.7734  0.6738 -0.4392  0.4092  0.6153  0.4392  0.4364\n",
      " -0.5055  0.4387 -0.9937 -0.4844  0.8257  0.7271 -0.9806 -0.0986  0.1448\n",
      " -0.8722 -0.0037  0.0575 -0.4593 -0.595   0.635   0.1451 -0.9946 -0.9326\n",
      " -0.7262  0.1782  0.837  -0.9968 -0.1548 -0.5382  0.3977 -0.5147 -0.1675\n",
      " -0.4393 -0.0599  0.242   1.315  -0.7973  0.6812 -0.7091 -0.8357  0.5173\n",
      "  0.2214  0.3508  0.3351 -0.2402  0.074  -0.5409  0.2061 -0.7764 -0.2145\n",
      " -0.1302 -0.1668 -0.7981  0.3148 -0.7885  0.139  -0.0206 -0.3522  0.701\n",
      "  0.7047 -0.3093  0.3874 -0.5271  0.1731 -0.2652 -0.0996  0.1775  0.1408\n",
      " -0.42   -0.5608 -0.385   0.4057 -0.9401  0.2161 -0.7471 -0.0272 -0.9936\n",
      "  0.7185  0.2704  0.087   0.2796 -0.6437 -0.8647  0.2264 -0.9201  0.2111\n",
      "  0.5245  0.2237 -0.3129  0.5853  0.0144  0.342  -0.5498  0.4595  0.7082\n",
      " -0.042   0.4144  0.0925 -0.3166  0.1915  0.7426 -0.0366 -0.2863 -0.0289\n",
      "  0.0868  0.2356  0.8537 -0.8753  0.8506 -0.0884 -0.3795 -0.9419 -0.2014\n",
      " -0.0606 -0.6953  0.9503  0.2076  0.5079  0.5832 -0.5624  0.9987  0.7797\n",
      "  0.6978  0.0901  0.0612  0.9641 -0.369   0.6773  0.6489 -0.7488 -0.6644\n",
      "  0.7561 -0.5008 -0.187   0.8102 -0.9568 -0.8989  0.1151 -0.0433 -0.1603\n",
      "  0.1887  0.6628  0.4707 -0.7452  0.373  -0.7414  0.7329  0.7383 -0.0452\n",
      " -0.4004  0.3327 -0.9001  0.8464  0.7061  0.1751  0.1843  0.3654  0.3172\n",
      "  0.8063 -0.7762 -0.1336 -0.826   0.1168 -0.1409 -0.7802  0.9778 -0.3147\n",
      "  0.9165  0.6559  0.0395 -0.8837  0.5701 -0.405   0.3047 -0.4785  0.7171\n",
      " -0.3949  0.4634 -0.5898 -0.173   0.8497 -0.2787 -0.6768  0.5845 -0.4457\n",
      "  0.6685 -0.3007  0.855  -0.0316  0.6897  0.7809  0.386   0.0154  0.9731\n",
      "  0.2565 -0.1513  0.6843 -0.3199  0.1671 -0.8535  0.8225  0.1786 -0.1691\n",
      "  0.2432 -0.1987  0.53    0.4957  0.0223 -0.9477  0.0592  0.3042  0.9003\n",
      "  0.6439  0.6031 -0.6981 -0.7807 -0.053  -0.5289  0.3015 -0.0569  0.317\n",
      " -0.7527  0.6973 -0.012   0.8211 -0.8997 -0.3412 -0.8834 -0.8393 -0.4783\n",
      " -0.508   0.4275 -0.1201  0.4287 -0.3356  0.7305  0.6938 -0.5639  0.0109\n",
      "  0.7035  0.2065 -0.0925 -0.407   0.6048  0.2926  0.2969  0.1419  0.1521\n",
      "  0.0642 -0.5555 -0.2914 -0.8711  0.1944 -0.226  -0.1555  0.8531 -0.0288\n",
      " -0.6839  0.9239  0.7801  0.8674  0.2564 -0.226  -0.9974 -0.2727 -0.6603\n",
      "  0.9751 -0.9885 -0.468   0.7779  0.2344  0.1966  0.2817 -0.6693 -0.4754\n",
      " -0.9993  0.4892  0.652   0.6428 -0.5201 -0.7413  0.9211 -0.8561  0.4865\n",
      " -0.984   0.6211  0.5053  0.8741  0.8338  0.7655 -0.3384 -0.3311 -0.5875\n",
      " -0.1117  0.8582 -0.4907  0.4538  0.1929 -0.5366 -0.9328 -0.6049 -0.0315\n",
      "  0.0923  0.235   0.8873 -0.444   0.2791 -0.8577  0.1049 -0.688   0.0594\n",
      "  0.6231  0.639  -0.0285  0.3774 -0.5278  0.6266 -0.4017 -0.5396  0.5915\n",
      "  0.9315  0.8136  0.9724  0.0414 -0.9631  0.2626 -0.8886 -0.4454 -0.9027\n",
      " -0.1187  0.8295 -0.6744  0.7574 -0.789   0.0902  0.0849 -0.5972 -0.1286\n",
      "  0.8831  0.4232  0.1039 -0.5998 -0.5171]\n",
      "[-0.1807 -0.2445  0.5466  0.8453 -0.1876 -0.3914  0.6486 -0.2797 -0.9968\n",
      " -0.5178  0.5058 -0.2088 -0.8224  0.9734 -0.5563  0.7569 -0.0452  0.8456\n",
      " -0.9004  0.6961  0.0763 -0.744  -0.2506  0.5924  0.0281  0.6512 -0.3812\n",
      "  0.0667 -0.6411  0.1794  0.6785 -0.1948  0.2496 -0.6038  0.845   0.8805\n",
      "  0.5687  0.9027  0.5719  0.7972  0.6213  0.9681  0.4593  0.5506  0.1412\n",
      "  0.2596  0.6455 -0.8507  0.5097 -0.735   0.0452 -0.3675  0.8006  0.8992\n",
      " -0.8528 -0.9731 -0.6674  0.1927 -0.9395  0.7252 -0.9568  0.6831 -0.2322\n",
      " -0.6253  0.6744  0.4669  0.695   0.0218  0.8153 -0.4154 -0.214  -0.6962\n",
      " -0.075  -0.5692 -0.3484 -0.5013  0.7734  0.177  -0.839   0.6671 -0.8988\n",
      "  0.0157  0.5037  0.7786 -0.1278 -0.7762  0.7484  0.5447 -0.351   0.706\n",
      "  0.5365 -0.4171  0.2055  0.0785 -0.8385 -0.5903  0.5511 -0.2031 -0.9905\n",
      " -0.819   0.1406  0.8845 -0.1412 -0.4653  0.8426  0.9639  0.561  -0.6286\n",
      " -0.6734 -0.7208  0.6928 -0.5999 -0.3666  0.5452 -0.9205 -0.4711  0.9824\n",
      " -0.9343 -0.7797 -0.8517  0.7462 -0.003   0.682   0.0663 -0.6237  0.8519\n",
      "  0.6051 -0.0401  0.3866  0.8553 -0.2313 -0.1918 -0.1128  0.5863  0.9796\n",
      " -0.0778 -0.8127  0.082   0.8154  0.2128 -0.5943  0.6598  0.5361  0.4036\n",
      " -0.6684 -0.6913 -0.854   0.2193 -0.2598 -0.4295  0.5585  0.1681  0.4558\n",
      "  0.0701 -0.4085 -0.0924  0.5292 -0.79    0.0244  0.4734 -0.0285  0.988\n",
      " -0.2015 -0.09   -0.3629  0.2389 -0.626  -0.4399 -0.2207  0.4954 -0.5566\n",
      "  0.8106  0.9385  0.7019 -0.2127  0.7114  0.2632 -0.9447  0.1061 -0.6349\n",
      " -0.3134  0.003  -0.6527  0.4098 -0.3395 -0.7562  0.0899  0.1365 -0.0608\n",
      "  0.3235 -0.2025 -0.0464  0.9939 -0.4298  0.5492 -0.0359 -0.6686  0.1428\n",
      " -0.9763  0.8302 -0.6557  0.4013  0.5745  0.9507 -0.1335  0.3424 -0.8544\n",
      " -0.9329 -0.6117 -0.0318  0.6347 -0.3066 -0.6619 -0.4374 -0.2904 -0.3332\n",
      " -0.7737 -0.2598 -0.8297 -0.2408  0.3626  0.3485 -0.8159 -0.5595  0.1394\n",
      " -0.7789  0.4718  0.6244 -0.6406 -0.214   0.0485 -0.0268  0.7563  0.3916\n",
      " -0.7358 -0.0848  0.32   -0.095   0.1693  0.3355  0.8758  0.5929  0.6603\n",
      " -0.1856 -0.273   0.8938  0.3982  0.8743 -0.4517  0.3018  0.2816  0.0911\n",
      "  0.1314  0.6943  0.3746 -0.465   0.7677 -0.313  -0.4349 -0.6377  0.4465\n",
      " -0.0757  0.4204  0.9538  0.4489 -0.8216  0.6493  0.1102 -0.1273 -0.1934\n",
      " -0.7091  0.5995 -0.4841  0.0444 -0.5489 -0.565  -0.4406  0.9952  0.6604\n",
      "  0.9087  0.6205  0.1294  0.9816  0.6764 -0.0412  0.3474 -0.5408  0.9889\n",
      " -0.4659 -0.9662  0.0826  0.0547  0.392  -0.0549  0.7688  0.09    0.3887\n",
      "  0.1074 -0.8913 -0.3642  0.0287  0.0607  0.139  -0.5918  0.8679 -0.2166\n",
      " -0.6732  0.8548 -0.7307 -0.0718 -0.6669 -0.6208 -0.8381  0.5005  0.2598\n",
      "  0.8352 -0.8648  0.6465 -0.096   0.3311  0.4425  0.9812 -0.3624  0.6115\n",
      "  0.4902  0.9417  0.1874 -0.7801 -0.7395 -0.0711  0.3386 -0.4829 -0.1078\n",
      "  0.4779 -0.8487  0.0638  0.4849  0.473  -0.1336  0.4815 -0.9666  0.4725\n",
      " -0.0284 -0.8192 -0.1561 -0.8334 -0.1785  0.1453  0.1596  0.1628 -0.6103\n",
      "  0.7568 -0.8431  0.0579  0.2385  0.108   0.6584 -0.6634 -0.4507 -0.1986\n",
      "  0.6132 -0.433   0.7175 -0.3188  0.0034 -0.6682 -0.6248 -0.7982  0.4768\n",
      "  0.5598  0.177  -0.8645  0.528  -0.2718  0.174  -0.9563 -0.9269 -0.5319\n",
      " -0.5779 -0.4636  0.7593  0.9581  0.9931  0.7155 -0.7542 -0.2414 -0.7916\n",
      "  0.7533  0.5035  0.8367  0.4974  0.9076 -0.098  -0.953  -0.8089  0.7214\n",
      " -0.0095  0.3834  0.2076  0.9687  0.7267  0.099  -0.338   0.6697  0.0017\n",
      " -0.3467 -0.4302 -0.6801  0.569   0.1558  0.6123 -0.2374  0.0495  0.5462\n",
      "  0.169  -0.0023 -0.8353 -0.3519 -0.5014  0.9531  0.6391 -0.9507 -0.7835\n",
      " -0.983  -0.4661  0.4352 -0.3432 -0.8928 -0.9575 -0.0517  0.1748  0.2444\n",
      "  0.9603 -0.681  -0.2205  0.8798 -0.1912  0.7428 -0.0674  0.6174 -0.3608\n",
      " -0.2629 -0.5153 -0.0831  0.4161  0.4795  0.1838  0.954   0.9977 -0.6076\n",
      "  0.5389  0.4923  0.2617 -0.0207 -0.1669  0.0024 -0.3073 -0.699  -0.8082\n",
      "  0.4699 -0.6982  0.5007 -0.5057 -0.17   -0.8429 -0.0245 -0.5228  0.0071\n",
      "  0.5072 -0.9654 -0.8685 -0.8239 -0.1207  0.5897  0.0362  0.897   0.3175\n",
      " -0.7705  0.9405  0.2307 -0.5688  0.7901 -0.688  -0.9625  0.7525  0.2127\n",
      "  0.6287 -0.465  -0.267   0.5446  0.7247 -0.8362 -0.7841 -0.9454  0.5705\n",
      "  0.431   0.1901 -0.2056  0.0114  0.3874]\n",
      "[-0.0098 -0.3171 -0.1189  0.2332 -0.3652 -0.5651  0.4265  0.5584 -0.9441\n",
      "  0.6202  0.057   0.2965 -0.2423 -0.9126 -0.4411 -0.963   0.9514  0.7851\n",
      "  0.2694 -0.7351 -0.8661  0.3431 -0.5456  0.8197  0.5059 -0.3038 -0.7379\n",
      "  0.1494  0.6054  0.2507  0.8384  0.9145 -0.362  -0.2149 -0.612   0.3396\n",
      "  0.895  -0.7873  0.9109  0.4449 -0.1163 -0.1669  0.4115  0.8316 -0.1779\n",
      " -0.9077  0.7902  0.2998  0.2255 -0.9106 -0.9088  0.747  -0.4716  0.3267\n",
      " -0.8972 -0.3732  0.0931 -0.94    0.9542 -0.9289 -0.2263 -0.8513  0.7519\n",
      " -0.4425 -0.5406  0.4582 -0.6242 -0.3834 -0.4375 -0.9295  0.5591  0.3272\n",
      " -0.2224  0.7061  0.179   0.2826  0.0935 -0.9967  0.8761  0.4306 -0.7286\n",
      " -0.4047 -0.0374 -0.1712  0.8578  0.4919  0.0059  0.2058  0.3078 -0.1007\n",
      "  0.3555 -0.6731  1.5901  0.9513 -0.937   0.802   0.2429  0.0758 -0.0033\n",
      "  0.0595 -0.8507 -0.5951 -0.3038  0.1255  0.5988  0.1205 -0.316   0.6099\n",
      " -0.8954  0.6345  0.6764 -0.3206 -0.383   0.8245  0.2951  0.2015  0.6521\n",
      " -0.757   0.103  -0.5508  0.423  -0.6058 -0.5901  0.9733 -0.0264  0.695\n",
      "  0.2702 -0.4843  0.724   0.5938  0.1562  0.7575 -0.4881 -0.4102 -0.5048\n",
      " -0.6023  0.6798 -0.3481 -0.7501  0.5641 -0.9475  0.3211  0.3251  0.6244\n",
      "  0.7725  0.0395 -0.4581 -0.4319  0.8417  0.5617 -0.9754 -0.0729  0.4419\n",
      "  0.9955  0.9332 -0.6884  0.8308  0.8308 -0.7254 -0.4523  0.5804 -0.7756\n",
      "  0.9638  0.613  -0.9425 -0.7749  0.4355 -0.175   0.2474  0.6317  0.0162\n",
      " -0.1941  0.4105 -0.9132 -0.1911 -0.155  -0.2333  0.2396 -0.2993 -0.4443\n",
      "  0.8989  0.6395  0.0628  0.9966 -0.205  -0.1034  0.8542 -0.078  -0.7726\n",
      " -0.5665 -0.4625  0.5918 -0.9492  0.9476 -0.3713  0.7432 -0.657   0.5527\n",
      " -0.2927 -0.2093 -0.5462  0.0317  0.4214  0.6657  0.6139  0.6551 -0.0798\n",
      " -0.1378 -0.8367  0.8209  0.4389  0.2528  0.0816  0.1115  0.6854 -0.5481\n",
      "  0.5842 -0.6845 -0.5943 -0.6638  0.383  -0.2867  0.7807 -0.5334  0.2209\n",
      " -0.4413 -0.9718 -0.7155  0.4604 -0.8959 -0.6667 -0.5668 -0.3808 -0.2472\n",
      "  0.824   0.0423  0.8627  0.7765 -0.5574 -0.7184  0.568   0.1043  0.5726\n",
      " -0.0291  0.38    0.6346 -0.8133  0.2159  0.2213  0.5716 -0.8039 -0.4388\n",
      " -0.4622 -0.1647  0.1167  0.0387  0.7751 -0.739  -0.5755 -0.4439 -0.3364\n",
      "  0.8461 -0.6518 -0.4338  0.7832 -0.0085 -0.2278  0.7541 -0.1518 -0.4056\n",
      " -0.6515  0.1035 -0.4414 -0.7591  0.8893  0.9457  0.7641 -0.7247  0.3324\n",
      "  0.8232  0.062  -0.7609  0.293   0.5779 -0.535  -0.0347  0.6568 -0.9774\n",
      "  0.9675  0.5472 -0.8267 -0.821   0.3659  0.9058  0.7407 -0.0542 -0.2324\n",
      " -0.1194  0.0475  0.7191  0.4404  0.5031 -0.6143  0.1447  0.0857 -0.2682\n",
      "  0.8591  1.8084 -0.8029  0.8269  0.7096  0.855  -0.1521 -0.5859  0.7338\n",
      "  0.7993  0.536   0.0055  0.1611 -0.5815  0.595   0.2617  0.8675 -0.3558\n",
      "  0.5763 -0.9401 -0.9517  0.5246 -0.2361 -0.1064 -0.8926 -0.1092  0.3169\n",
      "  0.5267  0.9301 -0.0809 -0.6699 -0.0124 -0.5566 -0.4075 -0.7761 -0.0894\n",
      "  0.0089  0.8599 -0.7493 -0.9354  0.3926 -0.3985  0.6677  0.4262 -0.2717\n",
      "  0.6965  0.8972  0.0136  0.277   0.7048  0.1543 -0.9064  0.644   0.4407\n",
      "  0.9314 -0.3035 -0.5183 -0.8111 -0.4829  0.8544 -0.5853 -0.8344  0.4372\n",
      " -0.8055 -0.9358 -0.3406  0.5173 -0.883   0.858   0.1712  0.8831 -0.0143\n",
      "  0.6526 -0.7418 -0.8155  0.1561  0.148  -0.6066 -0.2693 -0.9331  0.943\n",
      "  0.4191 -0.418  -0.9401 -0.7496  0.3994 -0.3907 -0.8089  0.5062 -0.2568\n",
      "  0.4594  0.2668 -0.1845 -0.567  -0.103   0.8899 -0.4929  0.0683  0.3206\n",
      " -0.5264 -0.1557 -0.8735 -0.6605  0.4635 -0.5169  0.4616  0.8887 -0.2304\n",
      "  0.3851 -0.4416 -0.7155  0.7917 -0.331  -0.6096  0.8845 -0.9378 -0.0269\n",
      " -0.9089 -0.2259  0.836  -0.1041 -0.9877  0.083   0.8396  0.2853 -0.4314\n",
      "  0.7531 -0.0438  0.7518  0.9645  0.0257 -0.1021  0.2079  0.696  -0.9748\n",
      "  0.255   0.4378  0.3384  0.9831 -0.9683  0.1047  0.2779  0.7156  0.9086\n",
      " -0.9132 -0.3446  0.353  -0.4409  0.0362 -0.324  -0.0166  0.4846  0.5942\n",
      "  0.4116 -0.3697  0.8827  0.9465 -0.1357  0.0862 -0.8748 -0.4123  0.7461\n",
      "  0.6388  0.0953 -0.3559 -0.1546  0.5144  0.6393 -0.2862  0.8297  0.4492\n",
      " -0.2999 -0.7916 -0.3971 -0.6273  0.1898  0.2334  0.3469 -0.4654 -0.4365\n",
      " -0.6507 -0.2763  0.8564  0.2867  0.6322  0.6037  0.9945 -0.151  -0.4912\n",
      "  0.6262 -0.6991 -0.8162 -0.2883  0.6912]\n",
      "[-0.227   0.9268  0.3291 -0.3836 -0.9998 -0.0227  0.7843  0.0548 -0.1039\n",
      " -0.9546 -0.4219  0.6327 -0.7465 -0.9569 -0.8906 -0.0252  0.1171 -0.9484\n",
      "  0.5137 -0.9546  0.2506  0.5577  0.6754  0.0339 -0.8844 -0.4797 -0.5084\n",
      "  0.5651 -0.181  -0.6294 -0.1296 -0.9578 -0.5067  0.1092 -0.3163  0.0249\n",
      " -0.6576 -0.2273 -0.9809  0.2535  0.9701  0.3258  0.8905 -0.0348 -0.3265\n",
      " -0.6631 -0.5929 -0.6639  0.0412 -0.7604 -0.5714  0.0029 -0.4671  0.9074\n",
      "  0.3052  0.2471  0.7427  0.7346 -0.6295  0.0426 -0.567  -0.3508 -0.0411\n",
      "  0.3695  0.095   0.0599  0.3306  0.9937  0.4564 -0.6351  0.2566 -0.7591\n",
      " -0.8736  0.5075  0.2434 -0.2392  0.0173 -0.0116 -0.1718  0.8333  0.4131\n",
      " -0.4405 -0.2395 -0.156  -0.5344  0.2092  0.919   0.7188 -0.8473 -0.4634\n",
      " -0.3694  0.6816  0.3561 -0.6861  0.7586 -0.4667  0.1935  0.2225 -0.1796\n",
      "  0.3029 -0.126  -0.9216  0.2861 -0.6688 -0.3501 -0.5564 -0.4055  0.4472\n",
      "  0.7131 -0.0046  0.3972 -0.2299  0.6434  0.4028  0.0693 -0.564  -0.3613\n",
      " -0.2784  0.5796  0.809  -0.6907  0.2226 -0.686  -0.8939  0.5463  0.196\n",
      "  0.4833 -0.6511  0.3518 -0.2791  0.5797  0.712  -0.8985 -0.1208 -0.388\n",
      " -0.666  -0.1881  0.8831 -0.5119  0.1994  0.7344  0.9039  0.8939  0.8325\n",
      "  0.5452 -0.7435  0.7236 -0.2574 -0.0585  0.8347 -0.9216  0.5279 -0.0986\n",
      " -0.2724 -0.0962 -0.7123  0.2946  0.402   0.9824 -0.9574  0.1144  0.1622\n",
      " -0.6649  0.0506 -0.9467 -0.5612 -0.5347 -0.8002  0.9657  0.5315 -0.5872\n",
      " -0.5137  0.0372  0.9584  0.9796 -0.3541 -0.716   0.9918 -0.1253  0.9659\n",
      " -0.3955  0.6234  0.9813 -0.0258  0.8714 -0.4367 -0.3041 -0.6266 -0.3833\n",
      "  0.8211  0.3111 -0.4187  0.4557 -0.5787 -0.4637 -0.3952 -0.9998 -0.4575\n",
      " -0.537   0.4659  0.5785  0.4012 -0.8024  0.008  -0.3415 -0.7531  0.9538\n",
      " -0.3014  0.2951 -0.7331  0.8301 -0.9069 -0.2108 -0.1607 -0.7291 -0.0803\n",
      "  0.5503 -0.4135  0.9693 -0.4198 -0.1481 -0.3372 -0.3079  0.6164 -0.8065\n",
      " -0.0528  0.4685 -0.5574 -0.2178  0.5733 -0.6745  0.1487  0.5786  0.8384\n",
      "  0.6625 -0.2509 -0.8498  0.5498  0.2023  0.8798 -0.8061  0.3487 -0.141\n",
      " -0.282  -0.329  -0.8776 -0.3365 -0.4619 -0.1467 -0.0414  0.0614 -0.7968\n",
      "  0.5088 -0.1404  0.1718  0.0471  0.2975 -0.8571  0.7586 -0.6874 -0.7787\n",
      " -0.0362  0.6191  0.7076 -0.8605  0.167   0.6804 -0.75    0.8812  0.4718\n",
      "  0.973  -0.2892  0.1689  0.2485  0.0482  0.6297 -0.3172  0.8947 -0.0855\n",
      " -0.1294 -0.0387  0.1679 -0.7141 -0.0595 -0.1393  0.3976 -0.5861 -0.0285\n",
      "  0.9473 -0.9286  0.0718  0.9371  0.0372  0.0341 -0.4355  0.3041  0.4382\n",
      "  0.1331 -0.1327  0.7043 -0.2704 -0.6354  0.3927 -0.2618 -0.8769 -0.3422\n",
      " -0.6476  0.8922 -0.3133  0.9863 -0.7659  0.2746 -0.2214  0.9635  0.282\n",
      "  0.6632  0.5484  0.6961  0.2742  0.7918 -0.2724  0.5203  0.6328 -0.0091\n",
      "  0.9384 -0.8939  0.879  -0.1712 -0.9456  0.2366  0.7252  0.8552  0.4262\n",
      " -0.6618 -0.6582  0.7741 -0.2094 -0.0054 -0.8619 -0.5084 -0.9836  0.8045\n",
      "  0.5879  0.8766 -0.259   0.6465  0.9267 -0.8713 -0.0973  0.9792 -0.3124\n",
      "  0.0685  0.7127  0.524   0.7342  0.9953 -0.8218  0.6008  0.7908  0.9651\n",
      "  0.6337 -0.3758 -0.6238  0.8783  0.544   0.2388 -0.7393  0.747   0.6833\n",
      "  0.7138 -0.805  -0.8317  0.475  -0.3096  0.975  -0.7547 -0.3245 -0.1364\n",
      " -0.159  -0.3016  0.9212  0.5049  0.7966  0.1146  0.6749 -0.52   -0.8519\n",
      " -0.5304  0.8715  0.6488  0.1683  0.4996  0.5446  0.3416  0.1284  0.7816\n",
      "  0.1759 -0.4268 -0.4688 -0.8913 -0.7038 -0.0081 -0.7947  0.1531  0.3049\n",
      "  0.0635 -0.4284  0.9864 -0.426   0.4666  0.7075 -0.1237  0.6111  0.2125\n",
      " -0.7495  0.9266  0.2316 -0.8263 -0.7744  0.03    0.5114 -0.9831 -0.5831\n",
      "  0.148   0.5253  0.6616  0.6861  0.9128  0.903   0.9488 -0.0696  0.0926\n",
      "  0.1307 -0.3338 -0.1557  0.4982  0.2491 -0.4331 -0.6448  0.6397  0.5064\n",
      "  0.3269 -0.2726  0.1083 -0.0096 -0.597   0.9952 -0.6059  0.5871  0.5167\n",
      " -0.1701 -0.251   0.1195  0.7533  0.0518  0.3264  0.5615  0.0119 -0.7994\n",
      "  0.1658  0.6356 -0.2358  0.6324  0.6757 -0.2742  0.4934  0.7001  0.479\n",
      " -0.9504 -0.8768 -0.2495  0.6069  0.6035 -0.8697  0.501   0.5493  0.7776\n",
      "  0.0916 -0.7368  0.5123  0.3266 -0.5928 -0.9887 -0.0662  0.2096 -0.8379\n",
      "  0.0214 -0.3267 -0.5919 -0.6231  0.3599 -0.7551  0.1566 -0.1795 -0.8366\n",
      " -0.504   0.9497 -0.1188 -0.9547  0.7542]\n",
      "[-0.9596  0.5828 -0.1547  0.1199  0.4752  0.6869 -0.8128  0.0668 -0.1473\n",
      " -0.3181 -0.4918  0.148   0.706  -0.9432 -0.9321 -0.347   0.4924 -0.1207\n",
      " -0.3676  0.9375 -0.0297  0.867   0.1277 -0.7053  0.7606 -0.0647  0.0065\n",
      " -0.0758 -0.1663  0.9944 -0.5962 -0.2914  0.7648 -0.2474 -0.7303  0.3817\n",
      " -0.4641  0.1424 -0.5131 -0.9427 -0.8094  0.1165  0.9447 -0.6005  0.3234\n",
      "  0.4321  0.2426  0.0246  0.236  -0.0011 -0.003   0.3553  0.3148 -0.1755\n",
      "  0.4033 -0.0787  0.7363  0.5126  0.8568  0.2866 -0.5571 -0.4361 -0.033\n",
      " -0.9906 -0.5703  0.3637  0.4124  0.2744  0.3883  0.1695 -0.2934 -0.0895\n",
      " -0.4446  0.4058 -0.0122 -0.8655  0.5072 -0.7258  0.4224 -0.0174 -0.3088\n",
      " -0.6331  0.125  -0.5935  0.8308  0.828  -0.0924 -0.9285 -0.8943  0.4429\n",
      " -0.3754 -0.9746  0.7322  0.7391  0.1696  0.0103  0.2253  0.2265 -0.8973\n",
      "  0.9092 -0.7608 -0.6679 -0.8487 -0.8783  0.7202  0.4474  0.4301 -0.2417\n",
      "  0.4965  0.6318  0.0969  0.2435  0.0403 -0.0623 -0.3279 -0.6159  0.2133\n",
      " -0.0268  0.5011 -0.509  -0.833   0.8813  0.0059  0.5124  0.7415 -0.449\n",
      "  0.5613 -0.6238  0.5805  0.3388 -0.3935  0.914  -0.5427 -0.3291 -0.9138\n",
      "  0.0322  0.3829 -0.4104  0.9661  0.5304 -0.6933  0.0114 -0.8777 -0.6262\n",
      " -0.2731 -0.8541  0.7259 -0.1392 -0.187   0.453   0.6945 -0.1309 -0.2054\n",
      "  0.605   0.6983  0.6761  0.9018  0.8789 -0.388  -0.8472 -0.5191  0.8162\n",
      " -0.4085 -0.4074  0.1119 -0.6946 -0.7741  0.0625 -0.6936 -0.2672 -0.3732\n",
      "  0.3895 -0.8755 -0.5109  0.4353  0.0308  0.1019  0.5613  0.9212 -0.5698\n",
      " -0.0617  0.0204 -0.9395 -0.4339  0.8601 -0.7833  0.5119 -0.6039  0.2957\n",
      " -0.9262 -0.3998 -0.6229  0.7002 -0.1895  0.4323 -0.6473  0.3418 -0.5707\n",
      " -0.462  -0.9646 -0.0686 -0.6394 -0.6053  0.4004 -0.0616 -0.1942  0.2368\n",
      " -0.144   0.1975  0.509   0.868  -0.9429 -0.2392  0.5591 -0.0885 -0.812\n",
      "  0.6329  0.3743 -0.1615  0.0323  0.1355 -0.2152  0.403  -0.9402  0.3544\n",
      "  0.9806 -0.591   0.312   0.0647 -0.0712  0.4484  0.0257  0.7152  0.4988\n",
      " -0.8455  0.7723 -0.4277 -0.2049  0.6377  0.5758 -0.4272 -0.5379 -0.9771\n",
      "  0.5954 -0.3596  0.1566 -0.7075 -0.206  -0.2273 -0.582   0.9589  0.3957\n",
      "  0.5852 -0.5143 -0.0274  0.3614  0.9951 -0.232   0.0367  0.1493  0.5789\n",
      " -0.094   0.5685  0.4219 -0.6827 -0.3168 -0.2726  0.5066  0.753   0.726\n",
      " -0.1808  0.435  -0.3408  0.279  -0.0021 -0.0262 -0.5692 -0.7721  0.3353\n",
      " -0.2608  0.9586  0.7995  0.448  -0.2951  0.417   0.0423  0.6229 -0.1342\n",
      "  0.2362 -0.56   -0.7492 -0.8422  0.4926  0.8509  0.6666  0.5438 -0.4163\n",
      "  0.4777  0.4282 -0.9899 -0.7611  0.1991  0.3842 -0.0216  0.2566 -0.9075\n",
      "  0.7913 -0.5665 -0.3603 -0.0759 -0.6803 -0.5701  0.277   0.4924  0.1416\n",
      "  0.2992  0.2506 -0.9383 -0.9667 -0.4349 -0.8716  0.0779 -0.4451  0.6229\n",
      "  0.582  -0.3625 -0.6005  0.3909  0.2829  0.2429  0.1891 -0.7312 -0.3\n",
      " -0.4877  0.5692  0.6703  0.7537 -0.3622 -0.0334  0.7864  0.0341  0.5318\n",
      " -0.8511 -0.5943  0.5915  0.2028  0.837  -0.8631 -0.9455  0.0113  0.5011\n",
      " -0.1188  0.8454 -0.4461  0.4511  0.4157  0.5523  0.1599 -0.8353  0.7626\n",
      "  0.4799  0.6213  0.6121  0.691  -0.8252  0.6273  0.3813  0.9625  0.2722\n",
      " -0.4322  0.6248 -0.8189  0.7761 -0.4956 -0.9916 -0.8242  0.5292  0.8044\n",
      " -0.7502  0.7499 -0.2932  0.1981 -0.0573 -0.4566 -0.5147  0.2582 -0.4134\n",
      "  0.4572 -0.0334  0.3729  0.8792 -0.0811  0.4763 -0.8958  0.9108 -0.3796\n",
      " -0.8539  0.713   0.3814  0.0171  0.1532  0.9384  0.078   0.747  -0.597\n",
      "  0.9643  0.926   0.0379 -0.3298 -0.8841 -0.6786  0.5233 -0.2349 -0.3888\n",
      "  0.3746  0.8808  0.202   0.2521 -0.6531 -0.2435 -0.8984  0.5588 -0.6688\n",
      " -0.4971 -0.6791  0.4114 -0.8241  0.2919 -0.9594 -0.657  -0.357  -0.0943\n",
      "  0.5811 -0.7467 -0.5327  0.0641 -0.2435 -0.8618 -0.8717  0.0483  0.0472\n",
      "  0.5427  0.5049 -0.98    0.6927  0.8209  0.5909 -0.8328 -0.2493 -0.233\n",
      "  0.5077  0.8288  0.6795  0.5747  0.7413  0.0839  0.7935  0.173  -0.9465\n",
      "  0.5411 -0.8588 -0.5859 -0.5053 -0.0638 -0.2483  0.0927 -0.9416  0.0215\n",
      " -0.3235  0.8343  0.7282  0.1152 -0.4011 -0.2545 -0.576  -0.7456  0.6331\n",
      " -0.1516  0.4477 -0.4197 -0.1287 -0.9514  0.2279 -0.7371  0.0874 -0.995\n",
      " -0.7611 -0.2591  0.0972 -0.2216  0.2887  0.6254  0.3933 -0.8852  0.1276\n",
      "  0.7053 -0.9991  0.8102  0.1684  0.7753]\n",
      "[ 5.888e-01  8.024e-01  8.518e-01  6.396e-01  1.646e-01 -8.996e-01\n",
      " -5.112e-01 -4.201e-01  9.438e-01  6.901e-01 -7.593e-01 -3.659e-01\n",
      " -9.968e-01  6.254e-01  2.733e-01 -9.289e-01  3.053e-01 -9.098e-01\n",
      " -9.440e-02 -5.624e-01  5.280e-01 -1.825e-01  1.473e-01  7.376e-01\n",
      "  6.841e-01 -9.841e-01  3.163e-01 -4.728e-01 -2.225e-01  5.819e-01\n",
      " -3.129e-01 -6.298e-01 -6.734e-01 -3.150e-01  3.737e-01  4.960e-01\n",
      "  6.283e-01  1.800e-02 -5.183e-01  9.602e-01  3.420e-02 -5.211e-01\n",
      "  3.109e-01  3.156e-01  9.370e-02 -4.435e-01 -4.803e-01  1.002e-01\n",
      "  4.025e-01  1.071e-01  7.910e-01 -9.329e-01 -7.460e-01 -5.231e-01\n",
      " -6.942e-01  1.305e-01  5.859e-01  3.933e-01  9.316e-01  4.713e-01\n",
      "  7.763e-01  7.220e-01  7.470e-01  8.292e-01 -6.174e-01 -5.571e-01\n",
      " -5.808e-01  5.652e-01  8.038e-01  2.803e-01 -4.572e-01 -2.980e-01\n",
      "  3.504e-01  8.350e-02  8.012e-01 -6.400e-03 -6.429e-01  2.659e-01\n",
      " -6.946e-01 -4.745e-01  5.947e-01  9.131e-01  7.994e-01 -7.683e-01\n",
      " -4.472e-01  2.769e-01 -1.164e-01 -1.601e-01  2.514e-01  9.040e-02\n",
      "  1.753e-01  4.944e-01  8.668e-01 -8.600e-03 -2.813e-01  1.844e-01\n",
      " -6.493e-01 -2.420e-01 -7.970e-02  1.487e-01  2.238e-01 -3.358e-01\n",
      "  4.359e-01  3.830e-02 -8.496e-01  3.308e-01 -4.160e-02  5.285e-01\n",
      " -6.080e-01  8.902e-01 -9.644e-01  3.180e-02 -6.202e-01 -1.925e-01\n",
      " -6.307e-01 -7.497e-01  1.806e-01 -7.486e-01  3.762e-01  5.263e-01\n",
      " -4.855e-01  5.783e-01 -6.285e-01 -8.510e-01 -7.820e-01 -1.023e-01\n",
      " -4.448e-01 -1.573e-01 -2.510e-01 -3.365e-01 -1.635e-01  8.738e-01\n",
      "  5.863e-01 -7.195e-01 -7.750e-02  3.689e-01 -8.378e-01 -5.000e-04\n",
      " -6.528e-01  4.090e-02  8.795e-01 -1.246e-01 -7.660e-01  8.429e-01\n",
      " -1.396e-01  5.977e-01 -7.417e-01  8.623e-01 -8.865e-01  1.165e-01\n",
      "  6.900e-02 -6.985e-01 -6.520e-01 -7.358e-01  9.042e-01 -4.802e-01\n",
      "  5.216e-01  8.410e-02 -3.912e-01 -9.633e-01 -5.875e-01 -7.282e-01\n",
      "  8.042e-01 -2.050e-02  5.439e-01 -6.491e-01 -9.088e-01 -5.754e-01\n",
      "  3.008e-01  6.997e-01 -9.705e-01 -3.084e-01  2.600e-02  5.314e-01\n",
      " -8.740e-02 -2.487e-01 -4.634e-01  7.311e-01  7.142e-01 -6.822e-01\n",
      "  5.113e-01 -9.056e-01 -6.280e-02 -5.728e-01  9.350e-02  1.121e-01\n",
      "  6.119e-01 -1.490e-02  1.360e-02 -6.210e-02 -9.869e-01 -2.214e-01\n",
      "  2.578e-01  8.626e-01 -5.193e-01 -9.400e-02 -7.079e-01  8.449e-01\n",
      "  1.996e-01 -9.463e-01 -3.861e-01  5.445e-01  1.814e-01  1.012e-01\n",
      " -9.483e-01 -1.963e-01  5.935e-01 -5.887e-01  7.554e-01 -1.160e-01\n",
      "  1.226e-01 -5.742e-01  5.016e-01 -6.543e-01 -7.235e-01  5.772e-01\n",
      "  3.164e-01  9.955e-01 -4.064e-01  7.761e-01  5.558e-01  4.670e-01\n",
      " -5.081e-01  2.789e-01 -9.212e-01 -2.950e-01 -2.327e-01  6.254e-01\n",
      "  5.898e-01  8.958e-01  2.755e-01  3.191e-01 -6.322e-01 -3.486e-01\n",
      " -7.114e-01  3.307e-01 -1.756e-01  2.635e-01  7.859e-01 -2.620e-01\n",
      "  5.088e-01 -7.296e-01 -7.492e-01  1.184e-01 -1.465e-01  2.203e-01\n",
      " -7.530e-02 -8.900e-02 -5.505e-01 -8.413e-01 -7.479e-01  3.191e-01\n",
      " -7.091e-01  1.809e-01  3.629e-01 -8.447e-01 -7.710e-02 -4.554e-01\n",
      "  2.685e-01  5.839e-01  1.940e-01 -1.030e-01 -4.115e-01 -9.295e-01\n",
      "  1.379e-01 -7.560e-02 -5.139e-01 -2.771e-01 -9.002e-01 -4.220e-02\n",
      "  5.481e-01  8.820e-02  8.689e-01 -5.596e-01 -5.068e-01 -5.669e-01\n",
      " -2.563e-01  6.887e-01  8.462e-01 -9.466e-01 -9.094e-01 -2.341e-01\n",
      " -3.360e-01  3.254e-01 -8.789e-01 -2.574e-01 -4.878e-01 -9.167e-01\n",
      "  4.024e-01  4.461e-01  5.428e-01  6.663e-01 -8.792e-01  1.926e-01\n",
      " -1.514e-01 -4.704e-01 -8.356e-01 -8.897e-01  2.458e-01 -8.376e-01\n",
      "  1.781e-01  7.607e-01 -6.641e-01  2.454e-01  6.748e-01  6.863e-01\n",
      " -4.811e-01 -7.110e-01  9.309e-01 -5.997e-01  8.436e-01 -6.631e-01\n",
      "  4.584e-01 -6.118e-01  9.831e-01  9.160e-02  5.563e-01 -8.860e-02\n",
      "  3.457e-01  9.455e-01 -5.800e-02  1.178e-01 -5.224e-01 -8.611e-01\n",
      "  1.461e-01 -9.465e-01  5.039e-01  8.737e-01 -6.280e-02  4.033e-01\n",
      " -4.424e-01 -8.672e-01 -1.538e-01 -6.988e-01  4.450e-01  1.871e-01\n",
      " -7.160e-01 -6.650e-02  5.854e-01  1.936e-01 -9.163e-01  8.696e-01\n",
      " -8.711e-01 -3.555e-01 -9.806e-01  6.880e-02 -6.970e-02  4.901e-01\n",
      " -7.758e-01  3.660e-01 -6.420e-02  4.767e-01 -2.354e-01  9.529e-01\n",
      " -6.368e-01  4.507e-01 -8.155e-01  3.946e-01 -4.972e-01  4.731e-01\n",
      " -5.429e-01 -2.045e-01 -3.670e-01 -5.798e-01 -3.464e-01  9.119e-01\n",
      " -9.473e-01 -4.164e-01 -3.181e-01 -5.773e-01  3.376e-01  2.148e-01\n",
      "  7.961e-01  8.015e-01  4.187e-01  4.225e-01 -3.031e-01 -8.815e-01\n",
      "  7.784e-01 -4.327e-01  9.635e-01 -7.704e-01  4.222e-01 -5.463e-01\n",
      "  9.557e-01  7.247e-01 -1.961e-01 -7.493e-01 -6.633e-01  3.541e-01\n",
      " -4.884e-01  8.454e-01  7.377e-01 -6.741e-01 -1.282e-01  8.699e-01\n",
      "  1.548e-01  9.256e-01 -6.313e-01 -6.170e-01  8.552e-01 -5.826e-01\n",
      " -1.391e-01 -2.932e-01  7.111e-01  8.162e-01  3.527e-01 -6.171e-01\n",
      "  9.695e-01 -1.658e-01  5.990e-01  2.540e-01  6.977e-01 -9.295e-01\n",
      "  9.950e-01 -8.612e-01 -9.575e-01  7.167e-01 -1.950e-01 -8.099e-01\n",
      " -3.160e-02 -8.573e-01 -5.475e-01  1.962e-01 -2.812e-01  9.704e-01\n",
      " -9.250e-01  9.416e-01  7.494e-01  5.897e-01  6.260e-02 -1.783e-01\n",
      " -4.125e-01 -3.933e-01 -4.692e-01 -3.863e-01 -5.322e-01 -8.940e-01\n",
      "  6.138e-01 -9.329e-01 -9.930e-01  6.972e-01 -8.740e-02 -7.794e-01\n",
      "  7.812e-01 -2.411e-01  4.460e-02 -9.726e-01  2.212e-01 -6.996e-01\n",
      "  6.913e-01  7.396e-01 -9.831e-01  9.387e-01  2.948e-01  5.090e-01\n",
      "  8.406e-01 -1.641e-01  1.281e-01  7.595e-01  8.791e-01  1.066e-01\n",
      "  7.840e-01 -5.058e-01  4.050e-01  7.929e-01 -6.326e-01  8.361e-01\n",
      " -1.657e-01  2.233e-01 -4.446e-01  7.125e-01 -4.411e-01  2.700e-01\n",
      "  1.992e-01 -4.607e-01  1.089e-01  8.081e-01 -3.451e-01  6.215e-01\n",
      "  1.280e-01 -7.718e-01 -3.455e-01 -2.996e-01  7.259e-01  6.056e-01\n",
      " -6.932e-01 -7.903e-01  6.886e-01 -3.128e-01 -2.862e-01 -6.607e-01\n",
      " -5.056e-01 -7.329e-01  3.548e-01  9.349e-01  8.460e-02  1.480e-02\n",
      "  9.954e-01  9.439e-01]\n",
      "[-0.1057 -0.2064  0.7564  0.3474 -0.5025  0.9285  0.4993 -0.0331 -0.5638\n",
      " -0.961   0.9151  0.4352 -0.0887 -0.3663 -0.175  -0.7013 -0.5859  0.8222\n",
      "  0.9161 -0.3249 -0.1043 -0.616  -0.6893  0.708   0.7377  0.9511  0.061\n",
      "  0.8866 -0.2765  0.7866 -0.6454 -0.3377  0.6588  0.8692 -0.3993  0.1107\n",
      " -0.5478 -0.9138  0.7031  0.3682  0.3106  0.9137  0.0639  0.1629  0.007\n",
      "  0.5446  0.1915 -0.9708 -0.2052 -0.5448  0.2529  0.9658  0.4203 -0.9117\n",
      "  0.3145  0.0762  0.5279  0.5946  0.7901  0.1812  0.9224 -0.8661  0.0075\n",
      "  0.4476 -0.0037 -0.6542 -0.6275 -0.432   0.2403 -0.9843  0.226   0.9922\n",
      " -0.0372 -0.9273  0.5575  0.0953  0.8747  0.6882  0.3722 -0.4577  0.9752\n",
      "  0.1005  0.8162  0.0624  0.3723  0.7921 -0.7764  0.7726  0.0476 -0.9488\n",
      " -0.2193 -0.0159  0.3938 -0.4129 -0.9948 -0.541   0.1346  0.3666  0.1037\n",
      " -0.9222  0.9695 -0.8     0.4245  0.4506  0.5967 -0.1303  0.4238  0.7439\n",
      " -0.9612  0.009  -0.6362  0.6141 -0.5461 -0.6039 -0.9388  0.5582 -0.7583\n",
      " -0.7454  0.7992  0.6718 -0.0194 -0.941  -0.7387  0.2456 -0.2311  0.7721\n",
      "  0.2127  0.0288 -0.2408 -0.7395 -0.2048 -0.3397  0.9458 -0.8826  0.5786\n",
      " -0.1859  0.8341 -0.979  -0.2911 -0.1782 -0.0688 -0.0166 -0.841  -0.551\n",
      " -0.1984 -0.6594  0.9656 -0.7214 -0.1643  0.3649 -0.2972  0.7992 -0.9385\n",
      " -0.82    0.2541  0.6332 -0.5634  0.8505 -0.6719  0.4048  0.7925  0.5266\n",
      " -0.6152 -0.3167 -0.6362 -0.2983 -0.4283 -0.8612 -0.3811  0.1356 -0.393\n",
      " -0.6322 -0.4712  0.6071  0.0317  0.443   0.682  -0.3519  0.6669 -0.2027\n",
      " -0.2117  0.6868 -0.4691 -0.1234 -0.7873 -0.3949 -0.1199 -0.9455 -0.1961\n",
      "  0.4548  0.281   0.7417 -0.3161 -0.9907  0.4778  0.2118 -0.8232 -0.3386\n",
      "  0.5407 -0.4013 -0.0459  0.3066  0.0722  0.3686  0.7912 -0.0374  0.7181\n",
      "  0.9795 -0.2673 -0.4827 -0.1868  0.1449 -0.1328  0.0336 -0.6704  0.4703\n",
      " -0.0875  0.0462  1.8065  0.571  -0.3815  0.2826  0.2441  0.5575 -0.502\n",
      " -0.6342 -0.8232 -0.0223  0.0898 -0.1031 -0.7271  0.2341 -0.7534  0.5291\n",
      "  0.8547 -0.489   0.923  -0.9943 -0.63    0.9232  0.5982 -0.2565  0.2026\n",
      " -0.2008  0.0306 -0.6135 -0.8881  0.0729 -0.6915 -0.8018  0.401   0.8056\n",
      " -0.3398 -0.3043 -0.9359 -0.6479 -0.3436  0.3919 -0.7547  0.5073  0.92\n",
      "  0.7187  0.216   0.7865 -0.4683 -0.8553 -0.6033  0.0028 -0.7546  0.5859\n",
      "  0.9211  0.7745 -0.2192 -0.3236 -0.6061 -0.3763 -0.8415  0.8782 -0.6338\n",
      "  0.3506 -0.7247 -0.7092  0.0171 -0.1811  0.958  -0.4399  0.5914 -0.8813\n",
      " -0.3137 -0.4217  0.8761 -0.3513  0.7857 -0.4808 -0.4261  0.9523  0.7512\n",
      "  0.45    0.3176 -0.4307  0.8577 -0.2308 -0.8315  0.6272  0.394  -0.9637\n",
      " -0.9808 -0.7512  0.2795  0.1809  0.3551 -0.1204 -0.9766  0.1293  0.9386\n",
      " -0.2497  0.097  -0.4436  0.3506  0.0582 -0.9115 -0.9074  0.577   0.3935\n",
      " -0.3941 -0.2594 -0.3258 -0.9181 -0.2451 -0.0581  0.9161  0.8707 -0.972\n",
      " -0.8999 -0.9535 -0.3372  0.3855  0.6373  0.4232  0.0036  0.5796 -0.9418\n",
      "  0.3001  0.1228  0.5974  0.4258 -0.4279  0.2693  0.9451 -0.5749 -0.6011\n",
      "  0.2007 -0.9705 -0.964   0.7789  0.3489  0.5234 -0.7636  0.9951 -0.2171\n",
      "  0.248   0.4995  0.2293  0.313  -0.6987 -0.4991 -0.0178  0.9951  0.1724\n",
      "  0.3134 -0.4343  0.2894 -0.0461 -0.3113  0.915   0.4835 -0.9141 -0.3391\n",
      " -0.443   0.0449  0.4723 -0.9525  0.4346 -0.2923  0.4798 -0.5393 -0.6904\n",
      " -0.8862 -0.3062 -0.7812 -0.0687 -0.1787 -0.7509  0.6719  0.3087 -0.3305\n",
      " -0.4605 -0.7684  0.7508 -0.7409 -0.1349 -0.025   0.2864 -0.4242  0.3335\n",
      "  0.4906 -0.4759 -0.1702 -0.1329  0.1549 -0.959   0.4302  0.2473 -0.763\n",
      " -0.7763  0.4056  0.5355  0.8929  0.7622  0.5246 -0.1806  0.1756  0.6387\n",
      "  0.1002  0.6195 -0.353  -0.5338  0.9253 -0.2515  0.4549  0.322   0.292\n",
      "  0.7896  0.8501  0.1114 -0.4937  1.2946 -0.1707 -0.5168  0.2416 -0.4512\n",
      "  0.2971  0.2153  0.5657 -0.9152  0.7609  0.6178  0.7782 -0.7932  0.8928\n",
      " -0.1671 -0.847  -0.6075 -0.0237 -0.4546  0.7238 -0.6973 -0.7635 -0.5904\n",
      " -0.1304  0.4272 -0.1831  0.1092 -0.9863 -0.044   0.4687 -0.54   -0.9606\n",
      " -0.7966  0.4112  0.2094  0.2747 -0.6387  0.0951 -0.1698  0.2154 -0.8721\n",
      "  0.8532  0.8603 -0.7754  0.9626  0.9096  0.6686 -0.088   0.2453  0.2761\n",
      " -0.7352 -0.7284 -0.1017 -0.5398  0.9382  0.9054 -0.8123  0.6402  0.8528\n",
      " -0.9566 -0.5911  0.9553  0.9767 -0.4428]\n",
      "[ 0.1363  0.847  -0.7533 -0.4682  0.7224  0.3039  0.9127 -0.0431 -0.1975\n",
      "  0.9784 -0.4845  0.2196 -0.6021 -0.0042  0.1964  0.6403 -0.145  -0.2199\n",
      " -0.3756  0.9216  0.7497  0.1357 -0.4201 -0.8905 -0.6755  0.2409  0.8969\n",
      "  0.9738  0.7796  0.8651 -0.4375 -0.7906  0.9494  0.2289  0.3806  0.5217\n",
      " -0.7225 -0.0308 -0.4267  0.3283  0.7795  0.3299  0.9131 -0.8898 -0.0342\n",
      " -0.0225 -0.2462  0.2253 -0.2919  0.989  -0.6847  0.5005 -0.2073  0.0413\n",
      "  0.775   0.3733 -0.5175 -0.4626  0.8994  0.7001  0.2111  0.5627  0.1785\n",
      " -0.2044  0.1676  0.8624  0.9273  0.5029 -0.4644  0.631  -0.6919 -0.8153\n",
      "  0.6196 -0.1062 -0.6108  0.7969 -0.5949  0.6136  0.6446 -0.2603  0.27\n",
      " -0.4343  0.7214  0.551   0.8311  0.4327 -0.7991 -0.3072  0.4715  0.1833\n",
      " -0.4115 -0.8132 -0.4799  0.637   0.0127 -0.1049 -0.5981  0.8625  0.5898\n",
      " -0.6693  0.4832 -0.965   0.9848 -0.0286 -0.6335  0.0422  0.8769  0.1535\n",
      "  0.3892 -0.7956  0.8794  0.7652  0.4579  0.8008 -0.0557 -0.0245 -0.3879\n",
      " -0.1868 -0.4269  0.1463  0.7289 -0.2507  0.0196 -0.2896 -0.1103 -0.9015\n",
      "  0.4129  0.1542  0.9871  0.2434  0.9545  0.1268 -0.8538  0.8485 -0.3459\n",
      " -0.9838  0.2492  0.9753  0.4309  0.9065 -0.1953 -0.5799  0.3088 -0.5622\n",
      " -0.6233 -0.5533 -0.2726 -0.8452  0.3365  0.4801  0.9128  0.915   0.5114\n",
      " -0.2351 -0.9338  0.7261 -0.7424 -0.6661  0.5377 -0.4202 -0.9047 -0.916\n",
      " -0.8935 -0.3604  0.854  -0.933  -0.2025  0.4386  0.757   0.7188 -0.4002\n",
      "  0.4437  0.4845 -0.9448 -0.1191 -0.2394  0.7903  0.4315 -0.0371 -0.0259\n",
      "  0.1148 -0.4557 -0.2259 -0.835   0.8123 -0.6979  0.5052 -0.8945 -0.8298\n",
      "  0.2423 -0.2589  0.3311 -0.0963  0.508  -0.2515  0.7428  0.0313  0.8379\n",
      "  0.7874 -0.9649 -0.4681 -0.0829  0.9412  0.9888  0.422   0.085  -0.2487\n",
      " -0.396  -0.6465  0.8588  0.8259 -0.211   0.2376  0.6     0.0308  0.8131\n",
      "  0.1056  0.2698  0.2026  0.3655  0.8059  0.3104 -0.1239 -0.1759  0.4972\n",
      " -0.5994 -0.368   0.1936 -0.1585  0.7881  0.9622 -0.6249 -0.9463  0.5197\n",
      "  0.5956 -0.5589  0.7207  0.9386  0.5818 -0.4804 -0.6636  0.4367 -0.971\n",
      "  0.4109 -0.3409  0.388   0.8411 -0.5952 -0.9016 -0.2086  0.1996  0.7846\n",
      " -0.7432 -0.5666 -0.9021  0.6025  0.4252 -0.5543 -0.1022  0.2145 -0.5244\n",
      " -0.6832 -0.4042 -0.8655 -0.619   0.7452  0.4243  0.8085  0.6629 -0.2463\n",
      "  0.351   0.3387  0.0843  0.8516  0.6345 -0.8023 -0.3985  0.2919 -0.7257\n",
      " -0.0323 -0.2182  0.893   0.0189  0.2391  0.3071  0.9875 -0.1407 -0.7843\n",
      " -0.4642 -0.6055  0.1528 -0.8005  0.7102  0.7463  0.5298 -0.3708 -0.5267\n",
      "  0.485   0.8785 -0.5198 -0.6228  0.2384 -0.4485  0.6478 -0.3272  0.89\n",
      "  0.1051  0.1351  0.4844 -0.8693  0.9123 -0.6566 -0.0427 -0.1909  0.4972\n",
      " -0.0809 -0.1075 -0.0085  0.2854 -0.3092  0.1845 -0.1388 -0.1     0.33\n",
      "  0.6272 -0.5964  0.5467 -0.0114  0.2168  0.7604 -0.2191  0.7452 -0.869\n",
      "  1.5302 -0.1477  0.9668 -0.6934  0.2329  0.2697 -0.7368 -0.5003 -0.2179\n",
      "  0.1891  0.7     0.2122  0.7441 -0.7925  0.737   0.6781  0.6719  0.954\n",
      " -0.3784  0.3656 -0.3639  0.7149  0.3398 -0.7528 -0.4987 -0.5124  0.8456\n",
      "  0.2925 -0.6594 -0.3369 -0.2306  0.0752  0.4223  0.4376  0.1862  0.1994\n",
      "  0.4734  0.2743 -0.4122 -0.5466 -0.3439 -0.3257  0.5062 -0.49    0.3922\n",
      "  0.3563  0.2988 -0.3352  0.5437  0.1213 -0.6092 -0.745  -0.3129  0.3567\n",
      " -0.9083  0.6157  0.6081  0.2584  0.4528 -0.3639  0.9035  0.5947 -0.4983\n",
      "  0.8185  0.6083  0.2005 -0.0172  0.3729  0.6945 -0.5551  0.8478 -0.2261\n",
      " -0.7337 -0.9745 -0.8301  0.7056 -0.2907  0.3407 -0.6196  0.7479  0.4314\n",
      " -0.4435  0.5844  0.4418  0.1152  0.1317  0.1405 -0.7346 -0.0869  0.8511\n",
      " -0.6489  0.7923  0.7501 -0.3342  0.5859 -0.4461 -0.6497 -0.6929 -0.6659\n",
      "  0.723   0.1231 -0.1312  0.0331 -0.6107  0.6727 -0.5237 -0.584  -0.2507\n",
      " -0.9025  0.8716  0.5038 -0.2598 -0.9465  0.5788 -0.8473 -0.1286  0.4067\n",
      " -0.0199 -0.6988  0.5299 -0.8843 -0.2107  0.2931  0.2073 -0.1607 -0.048\n",
      "  0.2566 -0.7591  0.5243 -0.6731  0.3123  0.6105  0.5045  0.7638 -0.1621\n",
      " -0.9945  0.1196 -0.8309 -0.573  -0.7898  0.2894  0.5805  0.2778 -0.1189\n",
      "  0.4732 -0.6727  0.1577 -0.4316  0.1544 -0.0995 -0.4143 -0.62   -0.5709\n",
      " -0.2626  0.8086  0.9263 -0.391   0.0317  0.7943 -0.7417  0.8784  0.2251\n",
      "  0.0022 -0.8149 -0.8463  0.4237  0.1395]\n",
      "[ 9.7800e-01  1.6400e-02  2.0200e-02 -7.1710e-01 -7.3270e-01  6.0730e-01\n",
      "  5.3330e-01  5.1100e-02 -8.5180e-01  8.1870e-01  3.2010e-01  8.8590e-01\n",
      "  5.4000e-01 -3.7040e-01 -7.1120e-01 -1.4550e-01 -1.3300e-02  5.2350e-01\n",
      "  3.7020e-01 -3.5890e-01 -2.2560e-01 -1.8650e-01  7.8490e-01 -2.4330e-01\n",
      "  1.4810e-01  5.5110e-01 -2.8030e-01 -4.2540e-01  1.4370e-01  5.8610e-01\n",
      "  5.3180e-01 -3.6890e-01 -7.2260e-01  1.6740e-01  5.0400e-02 -3.8830e-01\n",
      "  7.1130e-01 -6.9390e-01  4.3760e-01  7.2890e-01  8.2680e-01 -6.0410e-01\n",
      " -2.3220e-01 -2.1770e-01  8.1450e-01 -4.8920e-01 -9.0310e-01 -8.8540e-01\n",
      " -7.9830e-01  5.2940e-01  3.6660e-01  6.1490e-01 -3.4590e-01  6.1010e-01\n",
      "  6.8390e-01 -5.6450e-01  4.8320e-01  8.7500e-02 -5.0600e-02 -7.2770e-01\n",
      "  1.3040e-01  7.6710e-01 -7.2820e-01 -3.7960e-01 -3.6300e-01 -3.8320e-01\n",
      "  3.6620e-01 -2.9890e-01  1.7790e-01 -2.5320e-01  7.3940e-01 -1.5200e-02\n",
      " -9.5100e-02 -4.6170e-01 -5.3140e-01  5.8700e-01  4.9930e-01 -7.5240e-01\n",
      "  6.6610e-01 -3.3740e-01  3.9500e-01 -7.2930e-01  3.2730e-01  1.1290e-01\n",
      " -4.5420e-01  3.8920e-01  1.4570e-01 -9.1980e-01  9.2740e-01 -5.6950e-01\n",
      "  6.7160e-01 -6.0700e-02 -6.4500e-02  6.5500e-02  1.4580e-01  8.0770e-01\n",
      "  8.1910e-01  3.4400e-02  1.3390e-01  2.4220e-01  6.1780e-01 -7.9600e-02\n",
      " -4.6440e-01 -3.5190e-01 -2.3210e-01  6.1400e-01 -1.4670e-01  1.5980e-01\n",
      "  3.8360e-01 -8.5430e-01  1.3540e-01 -1.8060e-01 -6.9990e-01  8.9260e-01\n",
      " -3.4720e-01  9.9100e-02  1.1500e-01 -4.4880e-01 -7.8900e-02  2.8200e-02\n",
      "  9.3100e-02  1.8450e-01 -1.7100e-02  7.7430e-01  7.1000e-01  2.7140e-01\n",
      " -3.1960e-01 -6.5360e-01 -4.3830e-01  9.1110e-01  1.0553e+00  7.2670e-01\n",
      " -1.8580e-01 -2.8540e-01  3.5580e-01  4.5610e-01 -4.2710e-01  6.2510e-01\n",
      " -7.5380e-01  1.8530e-01 -6.6250e-01 -8.4310e-01 -1.4070e-01 -8.5560e-01\n",
      "  5.7880e-01 -8.5880e-01  2.5180e-01 -3.6200e-01 -7.1530e-01 -4.6970e-01\n",
      "  4.9570e-01  1.6680e-01 -2.5670e-01  1.3540e-01  8.2790e-01 -2.5350e-01\n",
      "  9.6460e-01  5.1320e-01 -4.7600e-01 -6.6130e-01 -7.4170e-01  6.8810e-01\n",
      "  4.4420e-01  5.4220e-01  2.4010e-01 -2.7140e-01  7.4740e-01 -5.4530e-01\n",
      "  1.7150e-01 -9.6720e-01  8.9200e-02 -9.2620e-01  5.0000e-04 -9.7010e-01\n",
      "  4.7900e-02  5.5020e-01  4.2390e-01  5.2520e-01  5.7230e-01 -1.4070e-01\n",
      " -3.4800e-01 -6.3160e-01 -4.1930e-01 -3.4900e-02  4.7390e-01 -7.8150e-01\n",
      " -4.5410e-01  5.0200e-02  8.6690e-01  6.5330e-01  7.8490e-01 -9.7390e-01\n",
      " -7.6550e-01  6.2050e-01  2.0320e-01 -3.0200e-02  4.7430e-01  7.0540e-01\n",
      "  6.2750e-01  9.4410e-01  3.5230e-01  7.1330e-01 -3.0850e-01  6.0280e-01\n",
      "  7.2070e-01 -3.6340e-01 -6.7870e-01 -6.0240e-01 -7.8370e-01 -6.5630e-01\n",
      "  1.6060e-01 -1.3170e-01  3.8220e-01  9.3950e-01  4.4990e-01  3.3440e-01\n",
      "  6.7230e-01 -7.2240e-01 -4.7000e-03  1.2890e-01 -8.3410e-01 -6.1300e-01\n",
      "  9.8750e-01 -4.8200e-02  6.1000e-03 -8.2090e-01 -2.7560e-01  5.2970e-01\n",
      "  5.4000e-01 -4.3850e-01 -9.2640e-01 -2.4210e-01 -6.8000e-02 -8.7130e-01\n",
      "  3.6180e-01 -9.1350e-01 -3.8970e-01  6.1540e-01  6.5230e-01 -7.5300e-02\n",
      " -9.0660e-01  7.6600e-02  8.9220e-01  8.7590e-01  3.2880e-01  3.0800e-02\n",
      " -1.2300e-02  5.7410e-01  8.9900e-02 -4.2190e-01  3.5790e-01 -9.1140e-01\n",
      "  3.0490e-01 -8.4210e-01 -9.1770e-01 -7.8170e-01 -4.4120e-01 -2.8410e-01\n",
      " -1.1490e-01 -4.6930e-01  2.9370e-01 -9.0180e-01  9.1320e-01 -3.8200e-02\n",
      "  7.0260e-01  2.2750e-01 -4.9080e-01  4.3550e-01 -6.7530e-01  3.6500e-01\n",
      "  6.6740e-01 -7.6400e-01  2.9780e-01  7.2850e-01  5.5470e-01  1.3610e-01\n",
      " -8.9410e-01 -7.4460e-01 -6.6210e-01  4.3290e-01  7.9090e-01  1.4870e-01\n",
      "  5.4180e-01 -3.3090e-01  5.3080e-01  4.2700e-02  4.3740e-01  7.6900e-02\n",
      "  3.9630e-01  2.6740e-01  5.3440e-01 -7.5280e-01  1.4180e-01 -4.2870e-01\n",
      " -5.1640e-01 -1.2690e-01  9.3580e-01 -3.3560e-01 -6.0800e-02  5.4300e-01\n",
      " -6.8760e-01 -8.7770e-01  6.2260e-01 -1.5020e-01  4.0090e-01 -8.0450e-01\n",
      "  9.7930e-01 -5.7130e-01 -2.7100e-02 -2.2110e-01 -8.7170e-01  2.2980e-01\n",
      " -7.1620e-01 -5.5280e-01 -6.4480e-01 -9.9370e-01  4.6070e-01 -9.2070e-01\n",
      "  7.6860e-01 -6.5770e-01  1.2170e-01  1.6860e-01  1.7200e-01  9.2490e-01\n",
      " -1.9050e-01 -1.3070e-01  7.6100e-01  5.6250e-01  1.9930e-01  8.0050e-01\n",
      "  2.9560e-01 -1.8220e-01  7.4160e-01 -8.1940e-01 -2.3600e-01 -4.2050e-01\n",
      " -6.2800e-01 -1.4700e-01  9.0260e-01  7.7550e-01  6.7270e-01 -8.4120e-01\n",
      " -2.0500e-01 -6.3350e-01  7.1810e-01 -1.1650e-01 -7.8100e-02  8.4850e-01\n",
      " -9.3900e-01 -7.2960e-01 -1.6560e-01  2.6800e-02  8.8210e-01  8.6300e-01\n",
      "  5.5950e-01 -6.7410e-01  9.8760e-01 -3.0800e-01 -4.9080e-01 -4.1030e-01\n",
      " -1.8600e-02  6.7730e-01 -6.6500e-02  5.1730e-01  8.3110e-01 -8.4500e-01\n",
      " -4.9080e-01  1.8110e-01 -5.3940e-01  6.5010e-01  5.7890e-01  5.3430e-01\n",
      "  8.3570e-01 -6.4000e-03  2.9390e-01  2.8900e-02  6.7610e-01  2.1160e-01\n",
      "  8.3340e-01  7.5410e-01 -5.7190e-01  6.2760e-01  2.2960e-01 -8.6070e-01\n",
      "  2.1500e-02 -6.5200e-01  9.8020e-01  8.1250e-01 -2.6120e-01  9.0980e-01\n",
      "  6.6470e-01  4.7050e-01 -1.4100e-01 -9.6400e-02  2.0730e-01  4.8870e-01\n",
      " -1.9200e-01 -4.0770e-01 -6.7400e-01  2.7950e-01  5.1480e-01 -9.0000e-02\n",
      "  7.1780e-01 -2.1590e-01 -4.4240e-01  7.0350e-01  7.4560e-01  2.2720e-01\n",
      "  8.3300e-01  8.3630e-01  8.6650e-01  1.3740e-01 -3.7250e-01  3.4340e-01\n",
      " -3.0480e-01  3.3740e-01  7.3280e-01 -6.0180e-01 -2.1790e-01  1.1000e-02\n",
      "  6.3710e-01  2.5530e-01 -5.4400e-01  9.2060e-01  3.9890e-01  6.6690e-01\n",
      "  7.4090e-01 -6.6750e-01  4.5950e-01  6.8680e-01  3.1100e-02  8.0940e-01\n",
      "  3.7330e-01  5.7380e-01  2.6450e-01 -6.7500e-01 -4.3960e-01 -4.6120e-01\n",
      "  6.3970e-01  6.5900e-02 -8.4840e-01  4.7270e-01  5.7440e-01  3.4470e-01\n",
      "  8.0540e-01 -1.3380e-01 -5.8770e-01 -7.3750e-01  7.4820e-01  4.3150e-01\n",
      " -3.4310e-01 -5.3550e-01  2.2480e-01  9.5100e-02 -7.3000e-02  4.7980e-01\n",
      "  2.1710e-01  4.9780e-01  7.7130e-01 -4.0710e-01 -4.0480e-01 -5.7810e-01\n",
      " -2.7130e-01  5.1450e-01 -6.0240e-01 -6.2150e-01 -7.2890e-01 -6.5730e-01\n",
      " -3.1760e-01  3.1940e-01  8.5750e-01 -4.0300e-02 -5.0480e-01 -8.9780e-01\n",
      "  9.5190e-01  7.2130e-01 -2.6560e-01  6.9600e-02  9.0510e-01 -9.3700e-02\n",
      " -6.3730e-01 -4.9960e-01 -9.9040e-01 -4.4640e-01 -1.8940e-01 -1.5040e-01\n",
      "  3.5490e-01  9.6980e-01 -1.9550e-01  8.0160e-01 -2.8940e-01  4.8840e-01\n",
      "  1.9430e-01 -1.6860e-01  8.9230e-01 -1.7310e-01  3.3750e-01  7.5500e-01\n",
      " -7.5630e-01 -5.5810e-01]\n",
      "[ 5.0080e-01 -2.1910e-01  9.8190e-01  2.4330e-01  6.3360e-01 -1.6750e-01\n",
      "  8.6060e-01  1.1310e-01 -3.2870e-01 -5.7620e-01 -8.6690e-01  1.3670e-01\n",
      "  6.6560e-01  1.8850e-01 -3.0860e-01 -2.8590e-01 -3.1310e-01 -6.0900e-01\n",
      "  2.3550e-01  9.0580e-01  3.9140e-01 -7.4070e-01 -7.8800e-02  5.3400e-01\n",
      " -5.5310e-01  6.1660e-01  9.7960e-01 -2.8860e-01  3.8400e-01  8.3600e-02\n",
      "  9.2930e-01 -2.4770e-01 -9.6010e-01 -4.4250e-01 -3.9180e-01 -3.4890e-01\n",
      "  2.1160e-01 -9.2490e-01  5.3410e-01 -6.1470e-01 -7.9800e-01 -3.0000e-03\n",
      "  4.1230e-01 -7.8310e-01  4.4420e-01  1.9090e-01 -9.0960e-01 -2.3300e-02\n",
      "  5.6200e-02 -9.9280e-01  9.5600e-01  7.3350e-01  9.8330e-01  6.9960e-01\n",
      " -4.6260e-01  4.0710e-01  6.3270e-01 -5.0100e-01 -3.2260e-01 -1.7390e-01\n",
      "  3.7130e-01 -4.4240e-01 -8.7270e-01  6.2720e-01  4.6710e-01  7.0530e-01\n",
      "  9.9780e-01 -2.5840e-01 -8.5360e-01  8.6500e-01 -9.5410e-01 -4.5400e-01\n",
      "  3.5120e-01  9.3950e-01  2.0350e-01  9.4990e-01  9.1460e-01  9.4700e-02\n",
      " -6.3620e-01  3.9990e-01  4.4850e-01 -6.0230e-01 -2.4630e-01 -8.5740e-01\n",
      " -9.5210e-01  2.8600e-01  4.8260e-01 -9.6000e-01 -6.0970e-01 -4.5700e-01\n",
      "  1.5450e-01 -8.3020e-01 -5.5060e-01 -6.8090e-01  1.2430e-01 -5.1210e-01\n",
      "  2.4110e-01 -3.2090e-01  2.1100e-02  9.3970e-01  9.9300e-01 -2.6020e-01\n",
      "  5.4940e-01  5.8260e-01 -5.9850e-01  5.4100e-01  3.4600e-02 -3.6460e-01\n",
      "  2.9040e-01  2.1200e-02 -4.6580e-01  1.1650e-01 -2.5640e-01 -1.4590e-01\n",
      "  6.6740e-01 -8.3910e-01 -7.1200e-02 -5.8900e-01 -7.7540e-01 -9.1250e-01\n",
      "  7.6690e-01  8.3750e-01 -9.4740e-01  3.3100e-02  6.5480e-01  6.5460e-01\n",
      "  5.5230e-01  4.8280e-01  6.4420e-01  6.5910e-01  8.1860e-01  5.0880e-01\n",
      "  8.2000e-01 -2.9660e-01 -5.1430e-01  9.1910e-01  6.1570e-01  3.3360e-01\n",
      "  2.4770e-01 -1.6040e-01 -7.6860e-01  6.5300e-01  6.9400e-01  8.1300e-01\n",
      "  9.4500e-02 -8.9290e-01 -1.8550e-01 -8.6770e-01 -5.9230e-01 -4.9760e-01\n",
      " -6.9730e-01  5.5000e-03 -6.0980e-01 -5.8880e-01  4.7000e-02 -6.9540e-01\n",
      "  7.8660e-01 -2.6840e-01 -3.2370e-01  2.2480e-01  1.3260e-01 -8.3780e-01\n",
      " -5.5680e-01  3.8610e-01  4.0660e-01  1.4240e-01 -3.7100e-02  9.6000e-03\n",
      "  2.5830e-01  4.1760e-01  8.2800e-02 -8.7420e-01 -3.6610e-01 -9.6120e-01\n",
      "  7.0930e-01 -4.0310e-01  8.3700e-01  9.7310e-01  3.5290e-01 -1.4660e-01\n",
      " -6.6890e-01  4.8400e-02  9.1900e-01  2.0710e-01  9.4370e-01  6.1290e-01\n",
      " -8.4510e-01  5.2040e-01  5.3270e-01 -8.9000e-03 -1.5810e-01 -7.0470e-01\n",
      " -4.6400e-01  3.5000e-03  9.6500e-01  4.7400e-02  5.3110e-01 -4.7560e-01\n",
      "  7.8250e-01  5.3740e-01  1.0450e-01 -7.8230e-01  1.2000e-03 -5.7950e-01\n",
      "  4.0560e-01 -3.8110e-01 -8.3190e-01 -3.6170e-01  3.5380e-01 -7.3600e-02\n",
      " -5.6000e-03  8.1220e-01  7.7240e-01 -8.9800e-01 -9.7230e-01 -8.7400e-02\n",
      " -3.0350e-01 -8.0810e-01  6.4990e-01  8.8230e-01  4.6490e-01  4.9500e-02\n",
      "  1.5440e-01 -9.2090e-01 -2.2570e-01  7.7700e-02 -6.3650e-01 -6.0020e-01\n",
      " -7.1520e-01 -8.0970e-01 -6.0660e-01 -6.4850e-01  2.8710e-01 -9.5910e-01\n",
      " -1.3470e-01  2.4650e-01 -5.9210e-01 -1.3000e-02  8.8100e-02 -8.7340e-01\n",
      "  4.2190e-01  6.0710e-01 -1.6080e-01 -4.6950e-01 -7.4700e-02 -9.6660e-01\n",
      "  1.2170e-01  4.1020e-01 -4.4580e-01  5.9760e-01  6.1970e-01 -9.5760e-01\n",
      " -1.3890e-01  4.4890e-01  5.7390e-01  7.3750e-01 -4.9590e-01  2.0580e-01\n",
      " -9.9920e-01  4.5910e-01  7.2560e-01 -9.2030e-01 -6.3550e-01  6.1360e-01\n",
      " -5.9270e-01  6.4890e-01  1.3780e-01  1.6130e-01 -6.3590e-01  7.9650e-01\n",
      "  3.3640e-01 -8.9940e-01 -9.2150e-01  2.6350e-01 -3.7040e-01 -6.3610e-01\n",
      "  3.9370e-01 -2.0160e-01  6.1300e-02 -1.3060e-01 -5.2820e-01 -2.6790e-01\n",
      "  5.0030e-01  1.6250e-01  7.4010e-01  7.6220e-01  6.6710e-01  9.7400e-01\n",
      " -5.7080e-01  5.4720e-01 -6.2330e-01  6.7360e-01 -9.7670e-01  2.0800e-01\n",
      "  3.6840e-01  2.1140e-01 -3.3390e-01 -2.9000e-01  6.9810e-01 -2.0240e-01\n",
      "  1.1300e-02  6.2580e-01 -8.8730e-01  5.3400e-02  9.6020e-01  7.3460e-01\n",
      " -2.2890e-01  9.7920e-01  1.6120e-01  5.8120e-01  8.8740e-01 -3.5700e-02\n",
      " -4.2560e-01  6.4000e-01 -4.6410e-01 -7.2180e-01  5.1310e-01 -5.3000e-02\n",
      "  6.7610e-01  9.1020e-01 -5.2940e-01  1.8990e-01 -8.5740e-01 -4.9640e-01\n",
      "  1.5740e-01  9.0170e-01  2.8610e-01  5.2450e-01  2.8550e-01 -1.7000e-02\n",
      "  6.6070e-01  9.9710e-01  9.6430e-01  7.0590e-01 -7.9420e-01  1.9930e-01\n",
      " -9.0450e-01 -7.0620e-01 -3.7380e-01  4.7400e-02 -1.8630e-01  5.5230e-01\n",
      " -4.6810e-01  3.7450e-01  2.0480e-01 -6.5500e-02  4.1180e-01  4.7750e-01\n",
      " -3.4620e-01  6.7380e-01 -3.2740e-01 -4.1970e-01  1.4206e+00 -1.7300e-02\n",
      " -7.3510e-01  5.8970e-01 -1.4300e-02 -5.4920e-01  8.1500e-01  8.0870e-01\n",
      " -9.8730e-01  9.2840e-01 -5.9980e-01 -9.0720e-01  9.7150e-01 -7.7910e-01\n",
      "  9.8850e-01 -4.5640e-01 -7.2770e-01  9.2740e-01  9.4500e-02 -6.3780e-01\n",
      "  7.3410e-01  7.1090e-01  5.2470e-01  9.7390e-01 -7.3210e-01  5.6270e-01\n",
      " -4.9920e-01  6.4890e-01 -9.5300e-01  9.1300e-02  6.2300e-02  8.3400e-02\n",
      " -5.4180e-01  1.5820e-01 -3.9010e-01  7.8680e-01  4.0270e-01  1.3710e-01\n",
      "  9.3050e-01  1.5820e-01  6.3380e-01 -5.0800e-01  2.8580e-01  3.2870e-01\n",
      "  9.6130e-01  5.6500e-01  9.0790e-01 -7.1560e-01  6.2820e-01 -1.4110e-01\n",
      " -1.1500e-01 -1.1990e-01 -3.6430e-01 -7.1700e-02  7.4280e-01  2.1430e-01\n",
      "  1.5580e-01  5.0100e-01 -9.1660e-01 -1.1100e-01  6.1930e-01 -1.8410e-01\n",
      " -8.2560e-01 -3.9390e-01 -8.0280e-01 -3.2910e-01  1.6300e-01  4.7740e-01\n",
      " -9.7190e-01 -5.4230e-01  8.9380e-01  4.1450e-01  9.8100e-01  1.4270e-01\n",
      "  4.1180e-01 -5.2980e-01  1.6150e-01  9.5160e-01 -2.3690e-01 -7.9260e-01\n",
      "  5.4170e-01 -4.4400e-01  1.7840e-01  8.1630e-01  8.6380e-01 -6.6920e-01\n",
      "  1.6210e-01 -4.3460e-01  7.7200e-02  3.2200e-02 -6.4710e-01 -4.3050e-01\n",
      "  3.0910e-01 -6.7790e-01  9.0520e-01  6.6820e-01 -9.0700e-02 -7.0000e-04\n",
      "  8.8290e-01  5.3900e-01  5.9710e-01 -1.5470e-01  6.4510e-01 -1.4910e-01\n",
      " -9.6630e-01 -3.3060e-01  7.0360e-01  4.5800e-02 -5.8270e-01 -6.9400e-01\n",
      "  3.7710e-01  6.3450e-01  4.5300e-02 -2.7070e-01 -8.8820e-01  1.9120e-01\n",
      " -3.2060e-01  5.9000e-02  5.1400e-02  4.1320e-01 -2.0360e-01  8.9730e-01\n",
      "  5.3320e-01 -1.3750e-01 -3.8040e-01  5.4140e-01  2.9800e-02  2.0720e-01\n",
      "  2.1080e-01  6.9200e-02  7.5850e-01 -7.1710e-01 -9.0960e-01  9.1210e-01\n",
      " -3.2440e-01  8.8980e-01 -1.7970e-01  6.4540e-01 -4.0880e-01 -3.0100e-02\n",
      "  4.2200e-02 -1.6040e-01  7.7660e-01  6.5420e-01  1.6900e-02 -7.0090e-01\n",
      " -9.4280e-01  7.2460e-01]\n",
      "[-3.587e-01  1.884e-01  1.412e-01  9.682e-01 -9.790e-02  6.510e-01\n",
      " -4.170e-02  1.720e-02 -6.165e-01  7.871e-01 -7.450e-02 -7.964e-01\n",
      "  4.186e-01  2.117e-01  3.020e-01  9.057e-01  6.793e-01 -4.718e-01\n",
      "  7.310e-01  7.854e-01  5.659e-01 -2.628e-01  9.980e-01 -8.601e-01\n",
      " -8.641e-01  4.717e-01  8.661e-01  7.061e-01 -3.885e-01 -4.671e-01\n",
      " -8.732e-01  9.144e-01 -8.088e-01  7.412e-01  5.711e-01  5.089e-01\n",
      "  1.583e-01  8.634e-01 -5.131e-01  8.549e-01 -2.424e-01  8.151e-01\n",
      " -9.136e-01  9.645e-01 -6.600e-03 -6.862e-01 -5.056e-01  3.854e-01\n",
      " -5.320e-01 -2.968e-01  4.853e-01  8.392e-01  1.614e-01 -4.975e-01\n",
      " -5.426e-01  7.704e-01  9.829e-01  2.783e-01  2.386e-01 -4.922e-01\n",
      " -4.730e-02 -6.289e-01  4.551e-01 -7.116e-01  8.494e-01  1.817e-01\n",
      " -8.492e-01  2.826e-01  1.458e-01 -8.543e-01  9.621e-01  6.469e-01\n",
      " -5.549e-01  4.257e-01 -1.830e-02 -6.820e-01 -9.545e-01  4.850e-01\n",
      "  7.621e-01 -8.287e-01 -8.241e-01  1.975e-01 -6.850e-01  3.392e-01\n",
      " -4.460e-02 -3.202e-01  8.819e-01 -5.492e-01  7.441e-01  5.061e-01\n",
      " -2.608e-01 -8.269e-01  8.728e-01  9.308e-01 -5.422e-01 -1.168e-01\n",
      "  1.130e-02  3.905e-01 -8.270e-02  7.766e-01 -5.540e-01  8.411e-01\n",
      " -3.602e-01  9.727e-01  5.055e-01 -8.820e-02 -5.213e-01 -2.040e-02\n",
      " -2.314e-01  6.370e-01  6.496e-01 -7.282e-01 -8.120e-02 -5.080e-01\n",
      " -3.424e-01  7.559e-01 -3.451e-01 -3.019e-01 -1.208e-01 -2.181e-01\n",
      "  6.315e-01 -9.770e-02 -6.173e-01  3.964e-01  5.242e-01  5.548e-01\n",
      "  9.153e-01  4.609e-01 -3.713e-01  6.970e-02 -7.680e-01 -7.464e-01\n",
      " -7.860e-02  6.043e-01 -1.223e-01  1.105e-01  7.695e-01  3.568e-01\n",
      " -5.053e-01 -6.114e-01 -5.530e-01 -1.164e-01 -4.503e-01  2.141e-01\n",
      " -3.023e-01 -8.833e-01  4.027e-01 -3.919e-01  7.963e-01 -9.097e-01\n",
      " -8.327e-01  7.606e-01  8.783e-01 -2.708e-01 -8.289e-01 -1.792e-01\n",
      "  4.604e-01  4.761e-01  2.945e-01 -2.510e-02  6.024e-01 -3.147e-01\n",
      " -3.874e-01  7.000e-03 -3.275e-01 -6.475e-01 -5.710e-02  5.461e-01\n",
      "  6.125e-01 -9.641e-01  3.300e-03 -9.330e-02 -2.571e-01  9.686e-01\n",
      "  2.950e-02  8.765e-01  3.914e-01  1.209e-01 -2.009e-01  2.094e-01\n",
      "  3.856e-01 -4.943e-01 -4.338e-01  5.706e-01  9.154e-01 -5.157e-01\n",
      "  6.144e-01  4.156e-01 -5.117e-01  5.213e-01  2.630e-02  3.658e-01\n",
      " -7.022e-01  2.095e-01  8.486e-01  1.340e-01 -8.220e-02  7.596e-01\n",
      "  9.159e-01  9.065e-01 -8.586e-01 -3.278e-01  4.706e-01  8.394e-01\n",
      "  5.065e-01 -2.090e-01  7.771e-01 -2.942e-01 -8.714e-01  8.130e-01\n",
      "  1.220e-02 -7.434e-01  4.577e-01 -9.266e-01  2.949e-01  3.558e-01\n",
      " -8.260e-02  1.367e-01 -1.690e-02  4.901e-01  7.321e-01  8.482e-01\n",
      "  1.362e-01 -5.811e-01 -6.312e-01 -1.155e-01 -3.121e-01  9.471e-01\n",
      "  3.920e-02  3.420e-01 -6.917e-01  2.895e-01  6.406e-01  8.500e-03\n",
      " -6.048e-01  2.526e-01 -8.571e-01 -3.943e-01 -7.450e-01  1.747e+00\n",
      " -2.280e-01 -6.417e-01  3.061e-01 -4.452e-01 -7.157e-01  3.212e-01\n",
      "  3.803e-01  7.310e-02 -1.909e-01 -2.085e-01  5.036e-01  4.587e-01\n",
      "  3.574e-01 -8.700e-02 -4.296e-01  3.900e-01  1.877e-01  7.217e-01\n",
      " -8.264e-01 -9.852e-01 -6.079e-01  6.884e-01  5.076e-01  1.690e-02\n",
      "  4.777e-01 -4.320e-02  4.307e-01  9.721e-01  1.505e-01 -5.227e-01\n",
      " -2.788e-01 -7.748e-01  8.517e-01  8.914e-01  9.276e-01 -8.022e-01\n",
      " -1.884e-01  5.680e-02  7.136e-01  1.571e-01 -9.817e-01  7.238e-01\n",
      "  7.308e-01  2.008e-01 -4.047e-01  1.479e-01 -4.783e-01 -9.556e-01\n",
      " -6.958e-01  4.892e-01  3.161e-01 -1.192e-01 -5.060e-02 -2.223e-01\n",
      " -2.669e-01  2.845e-01  3.398e-01  6.344e-01  4.710e-02 -2.149e-01\n",
      " -7.011e-01 -9.740e-02  7.605e-01  8.960e-02 -1.300e-03  1.175e-01\n",
      " -3.474e-01 -5.958e-01  7.256e-01  7.628e-01  3.333e-01 -5.737e-01\n",
      " -8.999e-01 -6.945e-01 -3.129e-01 -8.296e-01 -9.950e-01  1.983e-01\n",
      "  7.981e-01  7.800e-02 -9.511e-01  1.318e-01  1.031e-01  5.940e-02\n",
      " -9.407e-01 -4.716e-01  5.322e-01 -5.311e-01  3.178e-01  4.518e-01\n",
      "  5.151e-01 -3.640e-02  6.189e-01  8.269e-01 -3.119e-01 -9.051e-01\n",
      " -6.719e-01 -9.755e-01 -7.890e-01 -7.566e-01  3.819e-01 -8.278e-01\n",
      "  7.327e-01 -2.428e-01 -7.521e-01  6.299e-01  6.000e-01 -5.380e-02\n",
      "  5.655e-01 -4.802e-01  8.900e-03 -3.710e-02  6.240e-01  6.137e-01\n",
      " -1.679e-01 -7.903e-01  5.379e-01  2.367e-01  9.679e-01  8.954e-01\n",
      " -1.529e-01 -6.621e-01  9.612e-01  2.611e-01 -4.741e-01 -1.878e-01\n",
      "  8.794e-01 -5.484e-01 -1.601e-01  6.400e-03  1.537e-01 -4.992e-01\n",
      "  1.051e-01 -6.198e-01  6.721e-01 -6.649e-01  6.694e-01  8.503e-01\n",
      "  2.356e-01  7.440e-01  5.000e-03 -5.587e-01 -5.466e-01 -8.226e-01\n",
      " -5.557e-01 -1.000e+00  9.756e-01 -9.991e-01  1.416e-01 -8.745e-01\n",
      "  7.324e-01  8.327e-01  8.460e-02  9.846e-01  6.527e-01 -4.670e-02\n",
      "  8.068e-01 -5.700e-02 -5.585e-01 -5.067e-01  5.211e-01  9.336e-01\n",
      "  2.280e-02  7.705e-01 -7.715e-01  3.377e-01  1.045e-01  2.268e-01\n",
      " -2.498e-01 -5.363e-01 -4.367e-01  9.166e-01 -8.001e-01  5.013e-01\n",
      "  4.238e-01  9.073e-01  1.411e-01  7.599e-01 -3.013e-01  8.460e-01\n",
      " -8.269e-01  9.579e-01 -9.799e-01 -4.355e-01 -5.407e-01 -2.919e-01\n",
      "  7.447e-01  6.720e-01  8.793e-01  8.647e-01  3.690e-02  7.387e-01\n",
      "  8.631e-01  6.158e-01 -3.169e-01  3.489e-01 -9.793e-01  5.786e-01\n",
      "  2.795e-01 -1.320e-01  6.130e-01  4.017e-01  9.740e-02 -4.361e-01\n",
      " -8.066e-01  7.736e-01 -9.761e-01  3.300e-03 -1.598e-01 -2.230e-02\n",
      " -6.078e-01  1.597e-01  5.098e-01  5.603e-01  9.562e-01 -9.700e-03\n",
      " -3.674e-01 -8.469e-01  6.788e-01  2.918e-01 -4.382e-01  8.545e-01\n",
      "  9.030e-02 -9.208e-01 -9.788e-01 -9.755e-01  4.334e-01  9.434e-01\n",
      " -2.968e-01 -2.386e-01  7.539e-01  9.969e-01  5.577e-01 -8.995e-01\n",
      " -2.100e-03 -3.220e-02 -6.669e-01 -3.544e-01  9.271e-01 -8.810e-02\n",
      "  2.531e-01 -8.090e-02  8.111e-01  2.930e-01 -5.114e-01  3.358e-01\n",
      " -4.558e-01  5.430e-01 -9.309e-01 -5.043e-01  9.899e-01  3.426e-01\n",
      "  4.874e-01  8.601e-01 -7.931e-01  2.117e-01  3.200e-03 -5.956e-01\n",
      " -9.453e-01  2.412e-01]\n",
      "[ 2.2560e-01 -7.1320e-01  3.1600e-02  8.9010e-01 -3.7480e-01  3.5810e-01\n",
      "  5.6760e-01 -1.1690e-01  7.0600e-02  3.8050e-01 -4.9240e-01  1.4540e-01\n",
      "  4.4200e-02 -1.0940e-01 -9.7690e-01 -1.2490e-01  2.4940e-01 -6.6970e-01\n",
      "  8.9790e-01 -3.6600e-01 -1.4860e-01  9.2580e-01  6.9250e-01  5.9000e-02\n",
      " -8.0900e-01  3.2200e-02 -8.1430e-01 -5.2580e-01  9.7500e-01 -7.9070e-01\n",
      "  7.5300e-01  5.3170e-01  7.1700e-01  2.8660e-01  4.9490e-01 -6.8350e-01\n",
      " -3.7570e-01 -7.9100e-02 -7.0530e-01 -7.0540e-01 -6.9180e-01  5.1940e-01\n",
      "  9.0420e-01 -9.5120e-01  6.6250e-01  6.8140e-01 -1.2850e-01 -7.6220e-01\n",
      " -8.8770e-01  1.8050e-01  1.9990e-01 -9.1890e-01 -5.2600e-02 -8.0880e-01\n",
      " -8.7230e-01  4.0810e-01 -8.2900e-01 -6.6070e-01  3.0330e-01 -4.7890e-01\n",
      " -9.5350e-01  7.8530e-01  9.6100e-02  8.2310e-01 -5.3060e-01 -6.1500e-01\n",
      "  1.1400e-02 -6.5980e-01 -9.4840e-01 -3.6110e-01 -8.4850e-01 -5.4500e-02\n",
      " -7.0820e-01  5.1890e-01  2.8220e-01 -9.5650e-01  6.8960e-01 -3.6000e-01\n",
      "  6.8430e-01  9.0240e-01  5.9200e-02  9.6210e-01 -6.6200e-02  6.0000e-03\n",
      "  2.9790e-01  6.1810e-01 -2.9570e-01 -7.1720e-01  3.0860e-01  5.1330e-01\n",
      "  3.6090e-01  4.6600e-01  2.3100e-02  3.4000e-02  9.8330e-01  4.0840e-01\n",
      "  6.3810e-01 -3.9490e-01 -9.3500e-02 -7.9530e-01  6.7980e-01 -2.6400e-01\n",
      " -5.1460e-01  9.8500e-02 -1.6130e-01  2.2740e-01  8.1860e-01  3.0000e-03\n",
      "  1.6950e-01 -6.4130e-01 -5.4140e-01  9.3440e-01  7.5330e-01 -5.9290e-01\n",
      " -9.2710e-01  5.9710e-01 -3.7990e-01 -2.5270e-01  1.8700e-01 -2.8830e-01\n",
      "  5.2860e-01 -4.5170e-01  7.6450e-01  4.0530e-01 -7.5620e-01 -5.9700e-01\n",
      "  3.7610e-01  8.2000e-03  7.9040e-01 -5.9610e-01 -7.4680e-01 -4.3530e-01\n",
      " -4.8460e-01  9.2880e-01 -7.7830e-01  2.5180e-01  8.4550e-01 -7.3870e-01\n",
      " -7.7580e-01  9.4010e-01  5.0210e-01 -4.9440e-01 -1.6480e-01 -5.1730e-01\n",
      " -3.7070e-01 -4.7890e-01 -7.1240e-01  1.4010e-01  1.6880e-01 -2.3310e-01\n",
      " -4.2940e-01 -9.2480e-01 -9.0980e-01 -6.7120e-01  4.5230e-01 -9.7560e-01\n",
      " -5.7600e-02 -8.1370e-01 -4.9000e-03 -2.8460e-01  8.0450e-01  1.2170e-01\n",
      "  7.7580e-01 -7.4510e-01  3.5340e-01 -8.0000e-03 -9.8630e-01  2.6550e-01\n",
      " -6.4930e-01 -4.8940e-01  6.9620e-01  8.8810e-01 -3.2200e-01  8.6820e-01\n",
      "  2.2860e-01  9.1750e-01  9.3140e-01  6.6550e-01 -1.9430e-01 -3.6330e-01\n",
      " -4.2410e-01 -4.5000e-03  8.3510e-01 -5.6830e-01 -3.7740e-01 -7.5750e-01\n",
      " -4.9390e-01 -2.1420e-01 -7.4140e-01  1.3360e-01  9.3990e-01 -2.5680e-01\n",
      " -6.6620e-01 -5.1970e-01  3.9800e-02 -6.3990e-01 -4.0360e-01  8.1080e-01\n",
      "  4.9360e-01 -7.1180e-01  2.4040e-01 -6.5720e-01  7.1000e-01 -1.7150e-01\n",
      " -1.4260e-01  5.6490e-01  4.6170e-01  7.1100e-01 -8.8600e-02  2.8030e-01\n",
      "  2.0880e-01 -7.8770e-01 -5.5770e-01 -5.4790e-01 -6.2630e-01 -4.5420e-01\n",
      "  9.5800e-01  3.5870e-01 -5.5060e-01  6.3270e-01 -7.9380e-01  7.7140e-01\n",
      "  2.9690e-01  3.3320e-01 -2.8000e-02  2.4840e-01 -5.4390e-01  7.1480e-01\n",
      " -3.4660e-01  2.1420e-01 -5.1500e-02  6.1160e-01 -1.2840e-01  7.7300e-01\n",
      "  3.2930e-01  1.2100e-01  8.7820e-01  8.9940e-01 -3.5700e-01 -1.6810e-01\n",
      " -6.7730e-01  1.8660e-01  2.8510e-01  9.4740e-01  9.1740e-01 -7.1030e-01\n",
      "  1.9570e-01  3.8320e-01 -3.4670e-01  6.1110e-01 -9.9360e-01  6.7490e-01\n",
      "  7.9660e-01  9.3840e-01 -8.8370e-01  8.2410e-01 -9.4190e-01 -9.3200e-02\n",
      " -6.8300e-01 -5.6400e-01 -1.8040e-01  5.1840e-01 -4.1530e-01 -1.5250e-01\n",
      " -4.2810e-01  1.3450e-01 -6.4160e-01 -6.5130e-01  8.8740e-01  8.0310e-01\n",
      " -5.8000e-01  2.0940e-01 -7.4170e-01 -4.7010e-01 -6.9690e-01  9.8400e-02\n",
      " -2.8210e-01  2.5890e-01  8.2180e-01  2.4400e-01  1.5390e-01  5.9570e-01\n",
      " -3.5310e-01 -6.8480e-01  1.5869e+00  1.5480e-01 -1.6650e-01 -3.2250e-01\n",
      " -9.6490e-01 -2.6480e-01 -3.2500e-02 -4.1810e-01  2.1080e-01  1.4630e-01\n",
      " -3.1630e-01  5.9870e-01  6.3180e-01 -8.9110e-01  2.5430e-01  4.6380e-01\n",
      " -9.4330e-01  1.8700e-01  7.0910e-01 -4.7710e-01 -8.0780e-01  1.5920e-01\n",
      "  1.5540e-01 -6.6020e-01  1.5450e-01  6.8690e-01  2.3650e-01  1.3560e-01\n",
      " -6.3900e-01  8.1550e-01 -6.4700e-01  3.3600e-02 -3.7440e-01  7.4600e-02\n",
      " -8.8560e-01 -4.2590e-01  8.9270e-01 -6.1450e-01 -9.5800e-02 -3.4950e-01\n",
      " -7.0460e-01  6.2030e-01  9.7780e-01  9.3560e-01  7.4120e-01  2.2430e-01\n",
      " -9.8520e-01 -1.5440e-01 -8.1370e-01  8.3130e-01  4.1790e-01  2.5880e-01\n",
      "  7.3870e-01  2.2200e-02 -2.5210e-01  5.8640e-01 -5.6380e-01  7.9260e-01\n",
      "  2.5120e-01  4.7160e-01  7.0470e-01 -3.0570e-01  4.1490e-01  4.2260e-01\n",
      "  9.7300e-01 -1.7370e-01  6.6500e-02  9.0070e-01  5.3040e-01  6.4400e-01\n",
      "  1.3560e-01  9.8000e-03 -5.1460e-01  8.0730e-01 -2.7470e-01 -9.5730e-01\n",
      "  1.5570e-01 -1.1900e-02 -5.1870e-01 -4.0390e-01 -5.3660e-01 -6.2340e-01\n",
      "  8.7730e-01  7.5840e-01  4.1500e-01 -6.3600e-01  4.1770e-01 -3.1670e-01\n",
      "  6.1030e-01  7.6330e-01  1.0400e-02 -8.0280e-01 -9.5710e-01 -2.4810e-01\n",
      "  9.8600e-01 -9.9750e-01  9.6360e-01  8.4880e-01  1.9100e-01 -2.7450e-01\n",
      " -1.3460e-01  9.4760e-01 -2.0000e-03  5.5500e-01  4.4140e-01 -3.1580e-01\n",
      " -5.7030e-01 -3.6580e-01  2.7240e-01  9.5520e-01 -5.5500e-02 -8.4180e-01\n",
      " -8.2900e-01 -4.7770e-01 -2.3610e-01 -4.6330e-01  6.6860e-01  2.8570e-01\n",
      "  5.8500e-01 -2.0230e-01  8.3800e-02  4.0370e-01  3.1280e-01 -3.5330e-01\n",
      "  4.8180e-01 -6.7700e-02  3.8020e-01  7.2980e-01  4.2300e-02  8.2810e-01\n",
      "  7.6020e-01  9.8210e-01 -9.4220e-01 -7.2440e-01 -7.2730e-01  2.0750e-01\n",
      " -1.1310e-01  6.2590e-01  4.6210e-01 -6.9280e-01 -2.3360e-01 -9.2900e-01\n",
      " -1.9100e-01 -4.1620e-01  9.6200e-01  4.3980e-01 -5.0600e-01  4.7540e-01\n",
      " -1.3090e-01  9.9900e-02 -7.0200e-01 -1.1320e-01  1.6180e-01 -6.2520e-01\n",
      "  6.7090e-01 -2.7090e-01  6.2900e-01  1.4620e-01  7.1780e-01  5.1370e-01\n",
      " -1.4400e-02  2.8800e-01 -5.2140e-01  7.7800e-01  8.9260e-01 -4.3650e-01\n",
      "  7.3000e-01 -2.0020e-01  8.3370e-01  3.0060e-01 -5.8010e-01 -9.7900e-01\n",
      " -6.8370e-01  9.5220e-01 -3.5500e-01  8.4200e-02 -5.5430e-01  9.9250e-01\n",
      " -3.8780e-01  4.5520e-01  4.8950e-01 -2.0950e-01  9.3620e-01 -4.3700e-01\n",
      "  3.0590e-01  2.2570e-01  3.2690e-01  8.1410e-01 -8.3990e-01  4.1270e-01\n",
      " -1.7460e-01 -6.0950e-01 -4.2040e-01  8.3280e-01  3.1590e-01 -1.0600e-02\n",
      " -5.2560e-01  3.5240e-01  5.8840e-01  9.1700e-01  4.3830e-01 -1.4240e-01\n",
      "  8.2540e-01  9.7680e-01 -8.4230e-01 -5.6560e-01  8.2100e-02 -2.0120e-01\n",
      "  8.3150e-01  1.8240e-01 -7.8980e-01 -2.3440e-01  7.0000e-04 -4.9680e-01\n",
      " -9.4700e-01 -2.7200e-01]\n",
      "[-9.6340e-01 -1.2630e-01 -8.8600e-01 -6.7240e-01 -2.8900e-02 -4.3700e-02\n",
      "  7.2730e-01  8.5540e-01 -4.1520e-01  2.4420e-01  2.5050e-01  6.1400e-02\n",
      "  8.4300e-01  2.3090e-01  9.5100e-01  2.5760e-01 -4.1950e-01  9.0650e-01\n",
      "  5.6880e-01  9.7400e-01 -2.4210e-01  7.0030e-01  1.7000e-02  2.3460e-01\n",
      " -9.3260e-01 -9.0660e-01 -1.8220e-01  8.1890e-01 -1.6520e-01 -5.1460e-01\n",
      "  3.5930e-01 -9.2070e-01 -4.5360e-01 -5.9130e-01 -1.8400e-02 -4.4100e-01\n",
      " -8.8000e-01 -6.2920e-01  1.7300e-01 -2.7800e-02  6.1960e-01 -4.7430e-01\n",
      " -5.3500e-02  6.1660e-01 -6.8560e-01 -5.6280e-01 -1.8810e-01  7.0710e-01\n",
      "  9.9900e-02 -4.3230e-01  9.9010e-01  7.0230e-01 -5.5000e-01 -8.1660e-01\n",
      " -2.5600e-02  2.3030e-01  1.4270e-01 -1.0700e-01 -5.4480e-01  7.5200e-02\n",
      " -8.9610e-01  8.2320e-01 -1.4300e-02 -3.4870e-01  6.5160e-01 -8.2900e-02\n",
      "  5.2220e-01  7.3870e-01 -8.3000e-03  1.6530e-01  5.3200e-02  4.1290e-01\n",
      "  8.3000e-03 -8.5920e-01 -4.1500e-01 -1.9750e-01  4.2500e-02  9.3930e-01\n",
      "  1.3975e+00 -7.8230e-01 -3.0200e-02  8.7550e-01 -1.5810e-01 -8.2140e-01\n",
      " -2.2930e-01 -9.7740e-01  5.3320e-01  6.5140e-01  4.1820e-01  2.4920e-01\n",
      "  8.8420e-01 -5.5390e-01 -6.2730e-01  2.4840e-01 -5.2970e-01 -9.1600e-01\n",
      "  5.1580e-01 -2.0980e-01  5.9150e-01  9.2440e-01  9.4350e-01 -3.5530e-01\n",
      "  3.9830e-01  5.0400e-01 -8.6380e-01  4.5700e-02  2.6010e-01  8.7750e-01\n",
      "  1.3910e-01 -6.3510e-01 -8.8020e-01 -8.4990e-01  3.4630e-01 -7.5860e-01\n",
      "  9.1100e-01  3.0200e-01 -6.4290e-01  2.6980e-01  5.4800e-02 -4.4640e-01\n",
      "  4.2220e-01  4.8950e-01  9.3010e-01 -7.3100e-01  9.0830e-01 -3.5500e-01\n",
      " -7.6290e-01  8.9740e-01  5.7990e-01 -6.9240e-01  7.3100e-02  4.8900e-02\n",
      " -5.8990e-01 -2.5180e-01 -4.5290e-01  2.1030e-01 -6.1220e-01 -1.7680e-01\n",
      "  9.8920e-01  9.6660e-01  5.3350e-01  2.2100e-01 -8.1310e-01 -7.6060e-01\n",
      " -2.5080e-01 -8.2090e-01 -6.0660e-01  9.6380e-01  2.5100e-01 -7.2570e-01\n",
      " -6.2300e-01 -9.9660e-01 -2.7290e-01  8.4400e-01 -7.5230e-01 -2.9190e-01\n",
      "  5.4020e-01  9.8570e-01 -2.1320e-01 -7.8420e-01 -2.1450e-01  9.1900e-02\n",
      "  5.0750e-01  1.7410e-01 -5.5280e-01  8.8800e-01 -1.4210e-01  5.6920e-01\n",
      " -9.6720e-01 -8.6290e-01  7.6520e-01 -8.6240e-01  2.9060e-01 -4.3610e-01\n",
      " -2.4660e-01  7.6900e-02  4.4080e-01 -1.7800e-01  1.4740e-01 -1.5450e-01\n",
      "  7.4490e-01  7.8250e-01 -5.3330e-01  6.5280e-01 -5.9950e-01 -1.0280e-01\n",
      " -5.6700e-01 -9.4030e-01  6.5570e-01 -6.8820e-01  5.3260e-01  8.6450e-01\n",
      "  2.0180e-01 -8.2270e-01 -7.2830e-01  3.9350e-01  7.9480e-01  8.4910e-01\n",
      "  9.6660e-01  5.9500e-01 -9.7380e-01 -1.9040e-01  6.4750e-01 -2.0960e-01\n",
      " -5.9280e-01  8.3610e-01 -2.1220e-01  6.1820e-01  2.8850e-01 -1.0470e-01\n",
      " -5.3300e-02  3.0720e-01 -3.0070e-01 -2.3800e-02 -3.4460e-01 -6.5280e-01\n",
      "  4.5430e-01  8.8880e-01 -9.5600e-02 -5.9220e-01  5.8810e-01 -4.8310e-01\n",
      "  3.0950e-01  5.5460e-01 -8.2980e-01  4.4820e-01  8.3840e-01 -8.6400e-02\n",
      "  4.8520e-01 -2.6330e-01  7.4660e-01  4.2930e-01  5.5780e-01  9.9640e-01\n",
      "  2.7340e-01  3.8540e-01 -6.8280e-01 -3.7610e-01  9.4480e-01  9.7010e-01\n",
      " -6.1350e-01  5.6800e-02 -4.6340e-01  8.1380e-01  8.2410e-01  4.3190e-01\n",
      "  1.6630e-01  7.0890e-01 -9.0280e-01 -5.5030e-01  7.2010e-01  6.6300e-02\n",
      "  3.4670e-01 -1.4480e-01 -4.9370e-01  2.8250e-01 -2.3520e-01 -3.2180e-01\n",
      " -6.1800e-02 -7.8980e-01  7.2880e-01 -4.6400e-01 -5.3180e-01  5.0900e-01\n",
      " -9.1600e-02  3.3100e-02 -5.8610e-01 -4.5690e-01  1.6910e-01  5.4710e-01\n",
      " -5.6300e-01  6.3380e-01 -8.1910e-01 -3.4740e-01 -6.4230e-01 -4.0600e-02\n",
      "  7.3240e-01  2.4140e-01  9.6590e-01  2.4320e-01 -3.3540e-01 -6.7540e-01\n",
      "  8.0510e-01  7.6360e-01 -2.2900e-01 -6.9700e-01  8.5570e-01  8.4370e-01\n",
      " -6.6200e-01 -1.0660e-01 -1.2650e-01  8.8470e-01  2.7170e-01 -4.3500e-02\n",
      "  2.7600e-02 -8.0380e-01  9.8550e-01  2.2730e-01 -4.1060e-01  9.6680e-01\n",
      " -7.5120e-01 -8.4830e-01  9.1260e-01  7.2200e-01  1.3150e-01  3.5400e-02\n",
      " -9.5720e-01  6.0300e-02  9.1460e-01 -9.0100e-02  4.0730e-01  4.2280e-01\n",
      "  3.9360e-01 -1.9530e-01 -7.7970e-01  3.8920e-01  2.6860e-01 -8.3270e-01\n",
      " -4.2150e-01  5.6930e-01 -8.2780e-01 -8.9160e-01  4.9840e-01  3.3370e-01\n",
      " -8.0840e-01  8.4130e-01  7.8270e-01  2.9020e-01 -6.4670e-01 -8.2770e-01\n",
      "  3.5990e-01 -3.3710e-01 -7.7660e-01  8.7190e-01 -1.8890e-01 -8.0130e-01\n",
      "  1.1460e-01 -8.9550e-01  5.9190e-01 -9.5000e-02  4.5980e-01  8.4730e-01\n",
      "  2.0200e-01 -7.3820e-01  3.9810e-01  7.1720e-01 -6.2000e-03 -6.4350e-01\n",
      "  1.0098e+00 -9.5260e-01  2.8930e-01  6.0010e-01 -4.5090e-01  6.6080e-01\n",
      "  5.1730e-01  8.8860e-01  1.1390e-01 -7.1920e-01  5.5480e-01 -6.4090e-01\n",
      "  4.7120e-01 -5.8950e-01  8.5500e-01  9.9460e-01 -7.0000e-02 -5.4180e-01\n",
      "  5.8900e-01 -3.1230e-01 -2.3020e-01  1.7200e-01  2.3700e-02  7.0750e-01\n",
      " -3.2020e-01 -4.2170e-01 -1.3970e-01  6.3190e-01 -1.8010e-01 -7.4410e-01\n",
      "  2.2670e-01  8.8200e-01  2.5700e-01 -7.4600e-02  9.7400e-02  1.1820e-01\n",
      " -1.2950e-01 -8.0440e-01 -1.1440e-01  5.8970e-01  7.8960e-01 -8.0590e-01\n",
      "  2.4240e-01  1.0350e-01  1.4530e-01 -1.7470e-01 -8.8800e-01  8.8020e-01\n",
      "  3.6770e-01  8.6110e-01  3.9220e-01 -6.3450e-01  8.6390e-01 -5.2450e-01\n",
      "  2.8930e-01 -4.1890e-01 -6.0110e-01  2.6030e-01  4.3970e-01  9.3630e-01\n",
      "  1.1800e-01  2.6450e-01 -8.4930e-01  4.1910e-01  5.5250e-01  7.8120e-01\n",
      "  4.4040e-01  6.2720e-01  7.4310e-01 -2.8950e-01 -2.4750e-01  3.9490e-01\n",
      " -3.0080e-01 -6.3930e-01 -8.1720e-01 -1.5010e-01  2.8310e-01  6.9490e-01\n",
      " -6.0580e-01  6.8320e-01  1.8050e-01 -2.2800e-02  9.5000e-03 -4.9500e-02\n",
      " -6.0350e-01 -1.9400e-02  2.4250e-01 -3.6820e-01 -7.1870e-01  3.7300e-01\n",
      " -6.5520e-01  7.8490e-01  8.0480e-01  8.0670e-01  1.4480e-01  9.3800e-01\n",
      " -7.1040e-01  9.2050e-01  8.3510e-01  2.2500e-02  2.4310e-01  6.1280e-01\n",
      "  7.8760e-01  9.5980e-01 -1.2940e-01  6.7580e-01 -6.6030e-01 -5.4690e-01\n",
      " -5.7800e-02  1.5040e-01  5.2980e-01  3.2570e-01  9.5650e-01  4.9160e-01\n",
      " -5.1230e-01  3.3000e-02  1.7960e-01  8.9000e-03  4.2610e-01  6.1630e-01\n",
      " -5.9260e-01  3.6870e-01  2.3000e-01 -2.6900e-01  5.4190e-01 -9.9500e-02\n",
      " -3.5180e-01  6.6030e-01  4.3130e-01  6.4450e-01 -5.1280e-01 -5.0000e-04\n",
      "  4.3410e-01  8.1630e-01  2.4490e-01  9.9200e-02  8.7000e-02 -7.8010e-01\n",
      " -3.2640e-01 -7.6570e-01 -7.9200e-01 -9.5080e-01  3.3610e-01  2.3060e-01\n",
      " -7.2720e-01  7.9230e-01  3.1400e-01 -3.3000e-01  5.1440e-01 -2.3380e-01\n",
      "  1.0520e-01 -8.3100e-01]\n",
      "[-5.0000e-04  3.1410e-01  1.9730e-01  9.1170e-01  5.9140e-01  4.9950e-01\n",
      "  1.2970e-01 -4.1360e-01 -4.4000e-01  5.3500e-02  4.5130e-01 -1.1530e-01\n",
      "  7.0880e-01  8.4340e-01  3.9190e-01  6.9120e-01  8.9590e-01  1.1505e+00\n",
      " -5.0660e-01 -9.0470e-01  5.3290e-01  7.1190e-01 -2.8660e-01  5.2410e-01\n",
      "  7.1810e-01  3.0810e-01 -6.3470e-01  3.5440e-01 -6.9770e-01 -8.8700e-01\n",
      "  4.8260e-01 -2.4300e-01  4.3750e-01  1.3100e-02 -6.1170e-01 -6.3330e-01\n",
      "  6.9220e-01  7.1880e-01  2.4080e-01 -1.4280e-01  1.2860e-01 -9.4380e-01\n",
      "  7.2470e-01  4.3340e-01 -2.9700e-02  5.3330e-01 -2.7720e-01 -8.2050e-01\n",
      "  2.9770e-01 -6.1090e-01 -9.2420e-01  7.1360e-01  3.3830e-01  4.1770e-01\n",
      "  1.1930e-01 -8.8450e-01 -6.8010e-01  6.4700e-02 -2.0070e-01  4.4800e-01\n",
      "  3.5600e-01  7.9680e-01  9.5900e-01  9.3800e-02 -5.8900e-01 -3.2540e-01\n",
      " -6.4840e-01  8.0830e-01  4.6600e-02 -7.2850e-01 -7.5360e-01 -7.4200e-01\n",
      " -2.0920e-01  9.2520e-01 -4.6850e-01 -8.3000e-01  3.5630e-01  2.8090e-01\n",
      "  8.0110e-01  5.4770e-01 -4.2870e-01  8.9920e-01  2.9740e-01 -4.2250e-01\n",
      " -9.2210e-01  6.5460e-01 -7.4720e-01  3.2470e-01  5.0450e-01  7.4150e-01\n",
      " -5.4600e-02  5.9890e-01  1.0080e-01  3.5600e-01  6.2000e-01  3.2590e-01\n",
      "  2.0030e-01 -1.4620e-01  8.1830e-01  3.3260e-01  4.2770e-01  6.4800e-02\n",
      "  2.5540e-01  6.3570e-01 -4.5730e-01  6.1340e-01  5.7560e-01  2.9380e-01\n",
      "  7.3030e-01 -2.3580e-01  2.5690e-01 -9.0790e-01  1.5560e-01  4.0910e-01\n",
      " -1.4550e-01 -4.4710e-01 -7.4300e-01 -6.1760e-01  5.7800e-02 -9.5740e-01\n",
      "  7.4630e-01 -1.8660e-01  9.6730e-01  4.3500e-01  4.5700e-01 -4.8460e-01\n",
      "  2.1840e-01  1.4492e+00 -1.5090e-01 -5.1380e-01  5.2000e-03  1.0050e-01\n",
      "  3.2330e-01  6.6440e-01 -9.6710e-01 -2.7200e-02  8.0910e-01 -6.1160e-01\n",
      " -1.7760e-01 -2.7690e-01 -7.0870e-01 -4.4630e-01  1.3920e-01  2.4270e-01\n",
      "  6.7100e-02  6.7460e-01 -3.2780e-01  1.1170e-01 -7.5170e-01  2.6220e-01\n",
      " -3.8970e-01 -5.1020e-01 -7.7620e-01  9.4000e-01 -8.7790e-01 -5.2630e-01\n",
      " -4.3360e-01  5.6540e-01  9.5340e-01  3.9900e-02  5.3000e-03  9.0690e-01\n",
      " -4.9880e-01 -9.5670e-01 -9.9790e-01  1.7190e-01 -8.2920e-01 -8.1740e-01\n",
      "  2.3000e-02 -7.3300e-02 -5.6340e-01 -3.8070e-01 -3.7900e-02 -4.6570e-01\n",
      "  8.6520e-01 -4.8500e-02  2.4090e-01  5.5060e-01 -9.4510e-01  4.9140e-01\n",
      "  6.6930e-01 -7.7020e-01 -3.6780e-01 -9.2410e-01  8.5170e-01 -8.8540e-01\n",
      "  2.0490e-01  9.2240e-01 -2.2630e-01  1.3040e-01  7.8010e-01 -9.3590e-01\n",
      " -2.8700e-02 -7.0590e-01  1.3780e-01  3.2700e-01  8.0680e-01  3.5510e-01\n",
      " -3.1500e-02 -6.5620e-01  4.5000e-03 -6.5430e-01  9.2580e-01  5.2160e-01\n",
      "  6.3390e-01 -5.3180e-01 -4.6300e-02  3.6010e-01  4.0730e-01 -9.3200e-01\n",
      "  5.1320e-01 -2.4010e-01  9.6120e-01  5.9060e-01 -1.9050e-01 -1.0780e-01\n",
      "  7.4190e-01  4.0100e-02  4.1110e-01  1.8070e-01 -2.5750e-01  3.8400e-01\n",
      " -4.1670e-01  9.5200e-02  2.9290e-01 -8.2300e-02  8.4730e-01 -9.0890e-01\n",
      " -9.1150e-01 -2.3220e-01 -8.2770e-01 -8.2180e-01  7.6660e-01  5.3010e-01\n",
      " -8.1930e-01 -9.5440e-01 -7.8200e-02  3.6420e-01 -9.5390e-01  2.9000e-02\n",
      " -4.4570e-01  9.5300e-01 -4.6170e-01 -3.9600e-01 -5.9820e-01 -1.9090e-01\n",
      "  3.1130e-01  2.4640e-01 -1.8620e-01 -8.0680e-01  2.9010e-01  8.7250e-01\n",
      "  9.3550e-01 -6.1370e-01 -1.2290e-01  9.5570e-01 -1.5000e-03  6.3670e-01\n",
      " -7.3010e-01  7.0300e-01  8.0300e-02 -7.0770e-01 -7.3690e-01  1.6740e-01\n",
      "  2.5300e-02 -4.4680e-01  6.6710e-01 -5.7930e-01  2.8200e-02 -4.2510e-01\n",
      " -1.1180e-01  2.8400e-01 -4.8480e-01  9.9020e-01  2.1020e-01 -6.6300e-01\n",
      " -7.5000e-03  3.4500e-02  5.9520e-01 -6.2900e-02 -4.0140e-01  4.4530e-01\n",
      " -1.7820e-01  9.6780e-01 -6.0750e-01  5.6980e-01 -7.9200e-01  7.8530e-01\n",
      " -2.7850e-01 -5.6000e-02 -5.3010e-01  2.5470e-01  2.1320e-01 -4.3360e-01\n",
      "  8.1490e-01  2.1660e-01  9.9070e-01  1.8270e-01 -3.6770e-01 -2.6710e-01\n",
      " -3.2440e-01 -3.8990e-01  4.8370e-01 -9.0080e-01  6.8670e-01  9.8570e-01\n",
      "  2.6740e-01 -2.3670e-01  3.4440e-01 -5.0490e-01 -9.2180e-01 -2.1270e-01\n",
      " -8.7130e-01  9.5750e-01 -9.9500e-02 -8.4400e-01 -3.5800e-02  7.3510e-01\n",
      "  1.8180e-01 -4.9080e-01 -1.4530e-01  2.5780e-01 -2.9410e-01 -7.7020e-01\n",
      " -6.0540e-01  5.9600e-02 -9.7580e-01 -6.6950e-01  9.9760e-01  4.7610e-01\n",
      " -2.3970e-01 -1.4300e-01  9.1000e-03 -7.0780e-01  5.8690e-01 -6.8280e-01\n",
      "  6.6900e-01 -7.2930e-01 -5.1470e-01  8.6370e-01  2.0860e-01  9.4810e-01\n",
      "  3.6340e-01 -1.4170e-01  6.9170e-01 -1.9150e-01 -1.6770e-01  2.9640e-01\n",
      " -9.1680e-01  1.4600e-01  7.9160e-01  8.3850e-01  3.1120e-01  7.9440e-01\n",
      "  4.1060e-01  5.7820e-01 -4.3060e-01 -8.4290e-01 -5.0740e-01  2.1900e-02\n",
      "  8.4230e-01  9.1710e-01  7.8360e-01  4.4000e-01 -5.3200e-01  5.7820e-01\n",
      " -2.4480e-01 -1.7400e-02  4.5800e-02 -7.5250e-01  3.0760e-01  4.4710e-01\n",
      " -5.2480e-01 -1.1000e-01  4.6120e-01 -4.8100e-02 -6.3570e-01 -2.7750e-01\n",
      " -5.1440e-01  2.0080e-01  7.9510e-01 -2.9600e-01  2.1890e-01  9.3530e-01\n",
      " -2.0780e-01  9.8300e-02  7.4600e-02  1.5230e-01 -2.7120e-01 -3.3500e-01\n",
      " -6.5570e-01  4.0760e-01 -7.4400e-01  5.8000e-02  1.6980e-01  7.0540e-01\n",
      " -1.5030e-01 -5.3390e-01  3.3380e-01  1.1920e-01 -8.6710e-01 -9.6800e-01\n",
      "  9.0700e-01  2.3210e-01 -2.2430e-01  8.2200e-02  7.9130e-01  2.3550e-01\n",
      "  8.6480e-01 -7.2880e-01  5.9210e-01 -4.5190e-01 -4.6540e-01 -5.4590e-01\n",
      "  7.6020e-01 -9.7510e-01 -9.1840e-01 -3.2820e-01  5.4320e-01 -6.7060e-01\n",
      "  9.7160e-01  8.9680e-01 -5.3210e-01 -7.0760e-01 -3.1440e-01  2.1440e-01\n",
      "  2.0400e-02 -7.6740e-01  1.4700e-02  7.4400e-01 -4.7030e-01  6.5030e-01\n",
      " -8.7370e-01 -4.0000e-02 -6.7360e-01 -7.7200e-01  8.5500e-01  6.7400e-01\n",
      " -2.8280e-01  6.6930e-01 -4.2200e-02 -5.5530e-01  9.1660e-01  1.1010e-01\n",
      " -8.3780e-01 -9.9000e-03 -1.4410e-01  6.6580e-01 -7.8780e-01 -1.1300e-01\n",
      " -7.5080e-01  6.3000e-03 -2.1920e-01  9.6100e-01 -3.5200e-01 -9.5180e-01\n",
      "  1.5200e-02 -4.5840e-01 -8.4550e-01 -2.0580e-01  8.7660e-01 -7.4080e-01\n",
      "  9.5970e-01  9.3400e-01 -2.4150e-01  9.8220e-01  5.9720e-01 -5.1710e-01\n",
      " -9.6750e-01  8.9900e-01 -9.8140e-01  7.6670e-01  7.9700e-01  4.8100e-02\n",
      "  8.5160e-01 -3.6620e-01 -8.1510e-01 -5.0830e-01  5.5090e-01  4.1970e-01\n",
      " -7.0100e-01  3.7710e-01 -6.0080e-01 -3.8470e-01  7.6760e-01 -2.8100e-01\n",
      " -9.7120e-01 -9.8800e-01  7.3450e-01  1.8670e-01 -5.4620e-01 -5.1370e-01\n",
      "  6.6050e-01 -7.2430e-01  8.5880e-01 -8.6550e-01 -2.2700e-02  1.5990e-01\n",
      "  3.2840e-01 -2.2140e-01]\n",
      "[-5.6650e-01  8.1670e-01  8.6100e-01 -4.5200e-01 -1.9470e-01  7.1000e-03\n",
      "  5.0640e-01 -5.8240e-01  5.2850e-01 -4.9080e-01  9.1070e-01  8.8980e-01\n",
      " -6.4860e-01  6.8940e-01 -7.0300e-01 -6.8930e-01 -6.0300e-02 -1.0170e-01\n",
      " -1.2740e-01 -9.7830e-01 -7.0050e-01  9.2620e-01  4.5650e-01 -8.7270e-01\n",
      "  5.5540e-01  8.8540e-01  8.4740e-01  7.5500e-01  2.6830e-01  1.9600e-02\n",
      "  8.9910e-01 -5.7800e-02 -3.0480e-01 -8.0440e-01  6.6820e-01 -3.5210e-01\n",
      "  9.3890e-01  8.6200e-01 -4.9790e-01  6.8850e-01  7.3840e-01 -9.3120e-01\n",
      "  3.6200e-01 -8.5760e-01 -4.4950e-01 -2.9250e-01 -8.1570e-01 -8.8200e-01\n",
      "  2.6840e-01  5.6550e-01  2.8880e-01 -7.4970e-01 -5.9590e-01  3.3020e-01\n",
      "  3.7990e-01  7.6860e-01 -6.0000e-01 -4.9050e-01 -1.5270e-01 -2.7240e-01\n",
      "  1.2330e-01 -6.5910e-01 -1.0750e-01  2.1790e-01 -6.5890e-01 -2.6100e-01\n",
      " -5.7010e-01  6.2320e-01  1.9430e-01  3.3490e-01  2.0300e-01  5.6000e-03\n",
      "  1.7160e-01 -4.2810e-01  5.3150e-01 -9.4800e-01  9.9920e-01  2.9830e-01\n",
      "  7.6660e-01 -6.9330e-01  9.2500e-02  4.6300e-02  9.8410e-01  2.8620e-01\n",
      "  1.0720e-01 -3.4500e-02  1.7190e-01  3.6390e-01 -9.3300e-01  9.4480e-01\n",
      "  2.1540e-01 -8.4240e-01 -2.2340e-01  9.3370e-01  8.9100e-02 -7.7880e-01\n",
      " -1.9100e-01  1.0680e-01  6.9420e-01 -9.1890e-01 -1.7290e-01  6.1320e-01\n",
      "  2.8890e-01  5.7160e-01 -5.3110e-01 -8.0000e-04  6.7610e-01 -1.0910e-01\n",
      "  8.0980e-01 -7.9840e-01 -7.6200e-02  5.2740e-01  7.4210e-01  8.8990e-01\n",
      " -3.7040e-01 -9.5760e-01 -4.7730e-01 -3.8700e-02 -9.3080e-01 -9.3820e-01\n",
      " -5.8530e-01 -8.1480e-01 -2.9180e-01 -5.3750e-01  8.7200e-01 -3.1810e-01\n",
      "  4.4300e-01 -5.0710e-01 -2.1540e-01 -3.4800e-01  4.4300e-02 -5.7500e-01\n",
      "  9.5330e-01 -4.4060e-01 -5.7200e-01  2.7290e-01 -8.7450e-01 -1.7990e-01\n",
      " -7.4600e-01  7.3550e-01 -7.5920e-01  7.0000e-04  1.9090e-01 -3.1910e-01\n",
      " -7.8300e-01 -6.2480e-01  6.6100e-01 -6.6160e-01  7.8000e-03 -9.7720e-01\n",
      " -3.3440e-01  3.6720e-01  3.7880e-01  3.3450e-01  5.3340e-01 -1.4640e-01\n",
      " -4.6540e-01  2.5470e-01 -6.2300e-01  2.5980e-01 -9.6490e-01 -2.1310e-01\n",
      " -6.5850e-01 -4.5550e-01 -5.1890e-01  3.2470e-01 -9.0590e-01  5.5360e-01\n",
      " -9.0010e-01  2.6030e-01  5.1710e-01  4.4070e-01  7.1210e-01 -9.0700e-01\n",
      " -5.9300e-01  5.0590e-01  6.5590e-01 -5.1950e-01  1.4550e-01 -3.8390e-01\n",
      "  3.1240e-01  3.9860e-01 -3.4670e-01 -6.4000e-01  5.8380e-01  4.5720e-01\n",
      "  8.3500e-02 -2.0210e-01 -8.0100e-01  6.5090e-01  1.6400e-02 -2.5050e-01\n",
      "  3.0650e-01  7.3990e-01 -2.4420e-01 -2.1500e-02  4.5110e-01 -2.3920e-01\n",
      " -6.4400e-02  8.7230e-01 -2.4230e-01 -5.4580e-01 -9.0410e-01  5.3370e-01\n",
      " -8.2540e-01 -7.6320e-01  4.5350e-01 -5.9950e-01 -2.7390e-01  5.6090e-01\n",
      "  4.4200e-02 -4.0300e-02 -2.8270e-01  3.0320e-01 -4.0830e-01 -2.3460e-01\n",
      " -2.0240e-01  3.1160e-01  9.9720e-01  5.2370e-01  8.9150e-01  8.1340e-01\n",
      " -4.0820e-01  9.6490e-01 -7.7200e-02  2.7190e-01 -9.7930e-01 -8.9100e-02\n",
      "  1.6200e-02  8.8900e-01  7.5640e-01 -2.2500e-01 -2.3470e-01  9.3110e-01\n",
      "  3.7050e-01  5.8500e-01 -8.9720e-01 -7.4670e-01 -7.3880e-01 -7.3860e-01\n",
      " -9.4830e-01 -4.3200e-01  4.0460e-01  9.4160e-01 -6.3000e-02 -6.3040e-01\n",
      "  2.6170e-01  8.0200e-01  1.1690e-01  5.2040e-01 -5.3840e-01  7.0170e-01\n",
      "  7.3120e-01 -4.1710e-01  1.3700e-01 -5.5780e-01 -2.3910e-01  7.0650e-01\n",
      "  7.5000e-03 -2.7400e-01  6.2500e-01 -7.7300e-01 -9.3570e-01  2.0870e-01\n",
      " -2.4690e-01 -1.2370e-01  7.2290e-01 -1.2790e-01  4.5540e-01  3.5140e-01\n",
      "  6.1060e-01  2.4950e-01 -2.9670e-01 -4.2850e-01 -9.1080e-01 -5.2210e-01\n",
      " -7.7000e-02  2.4740e-01  1.8350e-01 -5.2300e-02 -3.6900e-02 -6.2240e-01\n",
      "  8.2920e-01  2.8190e-01 -9.7040e-01  1.8370e-01 -5.0860e-01  7.3850e-01\n",
      " -2.0940e-01  1.8250e-01  8.4320e-01  3.2650e-01 -9.6300e-01 -8.0150e-01\n",
      " -7.7700e-01 -8.9850e-01  8.1600e-02  4.7080e-01 -1.5840e-01  8.6000e-03\n",
      "  7.5510e-01 -5.9140e-01  7.8770e-01  5.5430e-01  2.3240e-01  9.3640e-01\n",
      " -9.7620e-01 -7.9200e-01 -5.3950e-01 -4.6100e-02 -1.9830e-01  9.8800e-02\n",
      " -1.0150e-01 -7.4820e-01 -9.2010e-01 -7.3180e-01 -3.5330e-01  9.1240e-01\n",
      "  8.1680e-01  9.5610e-01 -4.7290e-01  1.7240e-01  8.7990e-01  4.4510e-01\n",
      "  7.1900e-02  5.5170e-01  4.6530e-01 -6.1190e-01  8.9810e-01  3.4920e-01\n",
      "  7.9790e-01  6.6520e-01 -5.1940e-01  2.0770e-01  9.9460e-01 -3.7590e-01\n",
      "  5.7520e-01  2.0270e-01 -2.2380e-01  5.4400e-01 -9.7930e-01  1.5280e-01\n",
      "  7.1150e-01 -4.4510e-01 -8.7820e-01  5.3430e-01 -6.7590e-01  4.2010e-01\n",
      "  5.7610e-01  4.7000e-02 -8.7380e-01 -8.4600e-02  4.7290e-01 -4.3400e-01\n",
      " -3.7600e-02  5.6250e-01 -9.3450e-01  8.2100e-01  6.4300e-01  2.3600e-02\n",
      "  1.6330e-01  7.0680e-01  6.7510e-01  6.1300e-01 -9.9750e-01  4.2300e-01\n",
      " -5.5460e-01  5.2730e-01 -7.8140e-01  8.0590e-01 -7.6600e-01  8.8330e-01\n",
      "  4.7620e-01 -2.3900e-02 -5.7140e-01 -2.1160e-01  3.7900e-02 -1.8680e-01\n",
      " -6.0920e-01  3.1340e-01  4.2590e-01  5.1370e-01 -9.4840e-01  3.7370e-01\n",
      "  1.8930e-01 -3.8620e-01  1.1990e-01 -5.4770e-01 -8.8200e-02 -7.4860e-01\n",
      " -2.2630e-01 -3.5300e-02 -1.9930e-01 -7.6800e-02 -4.0470e-01 -7.9350e-01\n",
      " -2.9630e-01  3.1720e-01  8.9970e-01 -9.5270e-01  5.5260e-01  3.9640e-01\n",
      " -9.7210e-01 -3.1780e-01  2.7450e-01 -6.8420e-01 -6.6000e-01  7.7270e-01\n",
      " -7.9510e-01  9.7510e-01  7.6160e-01  9.2220e-01  7.1840e-01  6.4930e-01\n",
      "  2.8690e-01  2.8130e-01 -3.5650e-01 -1.6050e-01 -7.7010e-01  2.8830e-01\n",
      " -5.2960e-01 -8.2140e-01  1.2561e+00 -3.7400e-01  8.3100e-01  6.6090e-01\n",
      " -1.1450e-01  4.8560e-01 -4.1840e-01  2.0700e-02  7.8470e-01 -5.5960e-01\n",
      " -9.3370e-01 -4.3130e-01  8.5060e-01  1.6350e-01  4.4450e-01 -9.4350e-01\n",
      "  3.7810e-01 -3.0020e-01  1.3600e-01 -1.2450e-01  4.8860e-01  4.4530e-01\n",
      " -7.3500e-02 -1.8450e-01  1.6507e+00 -5.9650e-01 -8.2120e-01  6.5370e-01\n",
      " -1.3810e-01  1.1210e-01 -7.8500e-02 -6.1400e-02  9.1220e-01  3.0100e-02\n",
      " -6.9240e-01  6.3330e-01  2.0660e-01  3.2850e-01 -7.5090e-01 -4.2060e-01\n",
      "  5.9610e-01 -1.6790e-01  8.2850e-01 -4.3240e-01 -1.7720e-01 -8.7320e-01\n",
      "  1.0860e-01 -2.0610e-01 -9.6090e-01  2.8800e-02 -6.2550e-01  1.0300e-01\n",
      " -7.0500e-02 -4.1960e-01  6.1690e-01  3.8070e-01 -1.7800e-01  2.4590e-01\n",
      "  2.2320e-01  8.9530e-01 -5.2000e-03  6.2310e-01  6.0240e-01  2.3140e-01\n",
      " -6.8920e-01  8.1580e-01 -9.9150e-01 -2.3470e-01  1.7240e-01 -9.9300e-02\n",
      "  6.4200e-01 -3.5030e-01 -4.1740e-01  5.2950e-01 -9.9050e-01  8.3170e-01\n",
      " -2.6860e-01  5.2100e-02]\n",
      "[ 4.0490e-01  5.9340e-01 -5.6260e-01 -1.8120e-01 -7.1610e-01  1.3126e+00\n",
      " -3.5530e-01  6.6610e-01  3.6100e-02 -1.4630e-01 -6.6700e-02 -6.6750e-01\n",
      " -1.6220e-01 -5.9000e-02  8.6610e-01 -5.0330e-01  2.0640e-01  1.0450e-01\n",
      " -1.5230e-01  5.3660e-01 -1.9700e-01 -9.8400e-01 -5.4220e-01  5.2000e-03\n",
      "  6.7460e-01  5.3860e-01  1.4440e-01 -7.2090e-01  6.9130e-01  8.4760e-01\n",
      " -7.9280e-01  9.2900e-02 -6.0020e-01  4.2800e-01  8.8650e-01 -7.9140e-01\n",
      "  4.6420e-01  5.4800e-01 -2.7320e-01  7.9900e-01  2.2670e-01  6.8900e-01\n",
      "  1.7390e-01 -5.5170e-01  3.0370e-01 -6.8110e-01 -6.5150e-01  4.7090e-01\n",
      " -2.9220e-01  2.0200e-01 -2.7780e-01 -1.6130e-01 -2.2950e-01  5.4870e-01\n",
      " -2.7770e-01 -1.6080e-01  3.6800e-02 -7.4720e-01 -9.8010e-01  8.0000e-01\n",
      " -3.0000e-04 -7.7330e-01  7.8080e-01 -1.5760e-01  7.5940e-01  5.0540e-01\n",
      " -6.9680e-01  3.3980e-01  4.9160e-01 -8.7340e-01  1.0720e-01 -5.1970e-01\n",
      "  7.3150e-01 -7.2040e-01 -5.2150e-01 -7.9070e-01  6.0380e-01 -7.3000e-01\n",
      "  2.3400e-01  8.2050e-01 -6.6440e-01  6.1280e-01  3.6520e-01  2.3490e-01\n",
      " -1.3650e-01 -2.1010e-01 -6.4440e-01  4.8080e-01 -7.1200e-01 -3.1600e-02\n",
      " -3.6700e-02 -8.6820e-01  6.6070e-01  3.6180e-01  6.0230e-01 -8.6930e-01\n",
      " -7.0400e-01 -9.1260e-01  8.0870e-01  2.7450e-01 -5.8910e-01  3.1680e-01\n",
      " -4.7980e-01 -4.0740e-01 -6.5190e-01  2.7020e-01 -9.6870e-01  3.3540e-01\n",
      " -1.8400e-02 -5.6660e-01 -8.3670e-01  2.4480e-01  9.3610e-01 -6.5190e-01\n",
      "  3.8900e-01 -8.5380e-01  8.5670e-01  4.3700e-02 -7.1580e-01  7.3530e-01\n",
      "  6.1600e-01 -6.5800e-02 -9.7030e-01  1.6190e-01  9.7470e-01  6.9570e-01\n",
      "  9.8630e-01 -5.9700e-02  1.8640e-01 -5.4470e-01 -9.8200e-02  7.0790e-01\n",
      " -6.2220e-01 -1.3300e-01 -1.7060e-01  8.1590e-01 -8.1280e-01 -5.4700e-02\n",
      "  5.9580e-01  5.2880e-01  3.7620e-01  7.6020e-01  6.4400e-01  1.6150e-01\n",
      " -9.8970e-01 -4.1410e-01  7.8600e-02  8.4450e-01 -5.1000e-02  2.9020e-01\n",
      "  3.0810e-01 -4.4900e-02  3.7790e-01 -7.6080e-01 -7.8230e-01  5.0140e-01\n",
      " -4.3200e-01  2.8210e-01 -4.2510e-01 -5.9400e-01  9.9390e-01 -9.0400e-01\n",
      "  2.6410e-01  9.7690e-01  4.9710e-01  6.0970e-01  8.1900e-02 -8.1170e-01\n",
      " -4.3390e-01  2.6830e-01 -6.8500e-01  2.6970e-01  3.9930e-01 -5.7820e-01\n",
      " -6.1930e-01 -4.1700e-02 -6.6480e-01 -7.8400e-02  7.4460e-01  9.0530e-01\n",
      " -2.7120e-01  6.3270e-01  8.2620e-01  4.6500e-02 -9.0650e-01 -3.8450e-01\n",
      "  2.5000e-02 -2.3220e-01 -1.6720e-01 -2.5120e-01  1.6000e-03 -9.8870e-01\n",
      " -8.4430e-01 -9.5110e-01  6.3060e-01  8.0940e-01 -4.8310e-01  3.1700e-01\n",
      "  2.5910e-01  7.4200e-02 -3.7840e-01  7.4800e-01 -7.4000e-01 -7.1000e-02\n",
      " -8.3630e-01  6.4040e-01 -4.4940e-01 -5.4800e-01 -9.2590e-01  4.7630e-01\n",
      "  3.2680e-01  6.5770e-01 -8.0500e-02 -2.0410e-01  4.8730e-01  8.8000e-03\n",
      " -7.9710e-01 -1.6860e-01  7.0080e-01 -2.6660e-01 -4.5880e-01  4.5070e-01\n",
      "  9.1330e-01 -8.0900e-02  7.3240e-01 -9.1980e-01 -6.7700e-01 -5.0010e-01\n",
      " -3.3720e-01 -8.7430e-01 -6.1510e-01  7.0180e-01 -4.5440e-01  9.1270e-01\n",
      " -7.8050e-01  6.0580e-01 -9.8810e-01  7.3670e-01  5.3130e-01  5.3720e-01\n",
      "  6.5870e-01  7.2000e-02 -9.0060e-01  8.1060e-01 -7.0120e-01 -9.0680e-01\n",
      " -3.3790e-01  6.4140e-01 -7.0190e-01 -3.0840e-01  4.1690e-01 -5.9540e-01\n",
      " -8.6770e-01 -3.0860e-01  2.5050e-01  6.4730e-01  8.2580e-01  9.3600e-02\n",
      " -5.4220e-01  6.4080e-01  8.2530e-01 -2.4000e-01  3.8020e-01  7.8200e-01\n",
      "  4.1440e-01 -4.1670e-01 -1.5830e-01  2.0840e-01 -3.1850e-01  4.6000e-01\n",
      " -4.0040e-01 -6.4920e-01 -2.9320e-01 -7.1950e-01  6.7330e-01  1.5890e-01\n",
      " -5.6770e-01  7.9700e-01 -4.6390e-01  1.0160e-01  1.4100e-01  3.3410e-01\n",
      "  9.1510e-01 -7.2080e-01 -6.8940e-01 -4.0200e-01 -2.4970e-01 -1.2200e-02\n",
      "  1.9310e-01  9.3120e-01 -7.2360e-01  7.9160e-01 -3.3330e-01 -7.9200e-01\n",
      " -2.7620e-01  7.4720e-01 -4.9940e-01 -6.7470e-01 -8.2960e-01 -9.3900e-02\n",
      " -3.5180e-01  8.1820e-01 -3.3810e-01 -8.5600e-02  9.7590e-01 -3.4400e-02\n",
      "  5.0510e-01  5.9640e-01 -7.0550e-01 -4.1060e-01 -8.3540e-01 -4.1000e-02\n",
      "  2.9900e-02 -3.7580e-01  4.0410e-01  4.8710e-01 -8.3180e-01 -8.0420e-01\n",
      "  2.0300e-01 -9.5570e-01  8.4340e-01  4.7100e-01 -9.2680e-01 -3.6050e-01\n",
      " -3.1690e-01 -2.4510e-01 -1.6320e-01  1.3960e-01 -8.2340e-01 -9.3180e-01\n",
      " -7.5540e-01  5.2280e-01  8.2730e-01 -9.9670e-01 -4.9490e-01  8.3640e-01\n",
      " -5.5900e-01  6.8000e-01  9.6220e-01 -9.5020e-01  9.5490e-01 -7.2670e-01\n",
      "  7.9640e-01  2.2050e-01 -2.7090e-01  2.8050e-01  4.5940e-01  3.2640e-01\n",
      "  5.3340e-01 -4.8420e-01 -3.3860e-01  4.1660e-01 -4.2190e-01  9.7070e-01\n",
      " -1.0490e-01 -7.3710e-01 -8.4560e-01  7.3460e-01 -5.3910e-01 -2.2480e-01\n",
      "  9.4470e-01 -6.3680e-01 -9.6080e-01 -6.9140e-01 -9.5850e-01 -1.9010e-01\n",
      " -9.2030e-01  1.9170e-01  8.9050e-01  9.5030e-01 -9.1370e-01 -7.2010e-01\n",
      " -6.0610e-01  8.4420e-01  4.8230e-01  4.6670e-01  9.9370e-01 -6.8500e-02\n",
      "  7.6980e-01  7.0680e-01  1.4980e-01 -8.7500e-02 -9.9290e-01 -5.2270e-01\n",
      " -1.3550e-01 -4.7300e-02  8.6000e-03  6.1100e-02 -7.5010e-01 -5.8160e-01\n",
      "  2.3500e-02  5.1580e-01 -9.5770e-01  9.8700e-01  9.5270e-01 -9.3820e-01\n",
      "  3.3320e-01  7.3300e-01  7.2310e-01 -5.4900e-01 -1.4300e-02 -9.9930e-01\n",
      "  2.6900e-01  8.5520e-01  9.8910e-01 -4.5800e-01 -3.5560e-01  9.3760e-01\n",
      "  4.9350e-01 -2.3220e-01  3.0260e-01  2.7610e-01 -4.0590e-01 -8.3640e-01\n",
      " -6.4810e-01 -9.9690e-01 -1.5250e-01 -8.4490e-01  3.9240e-01  6.3110e-01\n",
      " -9.3860e-01 -6.1130e-01  2.3090e-01 -4.2800e-01  6.3700e-02 -5.8530e-01\n",
      "  8.6780e-01 -7.4650e-01 -4.3800e-02  3.9200e-02  7.9040e-01  9.7740e-01\n",
      " -2.5040e-01 -7.7150e-01 -3.3080e-01  9.4140e-01 -6.2330e-01 -2.4860e-01\n",
      " -6.3830e-01 -7.7910e-01 -2.4200e-02  4.6240e-01  5.7060e-01 -4.0970e-01\n",
      "  1.4420e-01  4.4240e-01  2.5430e-01  7.8830e-01 -1.2640e-01  4.5220e-01\n",
      "  4.2740e-01  7.2070e-01 -3.5410e-01 -8.2500e-02  5.1000e-01 -4.0140e-01\n",
      "  4.3900e-02  2.6140e-01 -2.3230e-01 -2.1710e-01  3.4480e-01 -7.5370e-01\n",
      "  8.5840e-01  7.1930e-01 -5.5170e-01  7.7570e-01 -5.8070e-01  9.2450e-01\n",
      "  5.8290e-01 -7.5600e-02  5.3390e-01  5.8220e-01 -2.3070e-01 -9.7880e-01\n",
      "  2.7670e-01 -6.3930e-01 -6.1260e-01 -1.2060e-01  8.1890e-01 -7.0530e-01\n",
      " -4.2030e-01 -2.4100e-01 -8.7160e-01  2.6690e-01 -1.8820e-01  8.6790e-01\n",
      "  6.0230e-01  8.8860e-01  3.2820e-01 -7.0920e-01  8.1680e-01  6.4590e-01\n",
      "  1.0410e-01  7.3210e-01 -1.9110e-01  2.6860e-01 -6.7950e-01  6.8060e-01\n",
      " -6.3480e-01  8.7290e-01]\n",
      "[-8.3130e-01  4.6810e-01  9.0600e-02 -2.7480e-01  5.6900e-02 -7.9460e-01\n",
      " -1.0990e-01 -8.8900e-01  2.6850e-01 -1.1200e-01 -8.3160e-01 -7.6500e-02\n",
      "  1.8690e-01  8.5010e-01  7.6210e-01 -1.2140e-01  4.3400e-02 -1.8290e-01\n",
      "  4.3700e-02 -2.7990e-01  8.4310e-01 -8.0110e-01  9.1070e-01  8.2950e-01\n",
      " -3.5440e-01  3.9200e-02 -1.5000e-03  9.9960e-01 -5.2320e-01  8.2900e-01\n",
      " -9.7110e-01  4.9750e-01 -5.7160e-01  5.0270e-01 -5.6040e-01  6.5000e-01\n",
      "  8.5530e-01 -1.3400e-01  9.3500e-02 -2.6040e-01  3.9460e-01  1.3070e-01\n",
      " -1.4060e-01  9.2200e-02  9.8610e-01  3.6730e-01  7.8550e-01 -9.7500e-01\n",
      " -6.2870e-01  9.3740e-01  7.6700e-01  6.9820e-01 -8.9680e-01  5.7500e-02\n",
      " -8.8580e-01  2.0230e-01 -4.3170e-01  7.6190e-01  8.3250e-01 -4.7930e-01\n",
      "  2.5130e-01 -6.7640e-01  7.2020e-01 -1.6840e-01  4.1500e-01  5.3260e-01\n",
      "  4.8360e-01 -9.2460e-01 -6.6430e-01 -8.2680e-01 -6.1240e-01 -2.5590e-01\n",
      "  7.5000e-02  7.7880e-01 -9.6810e-01 -5.5650e-01 -1.9260e-01 -3.3910e-01\n",
      "  9.0190e-01 -3.1450e-01  9.5810e-01  9.9240e-01  6.2020e-01  5.8770e-01\n",
      "  8.6720e-01 -1.1680e-01 -5.3070e-01 -7.9790e-01  3.6100e-01 -1.1040e-01\n",
      "  8.0950e-01  2.2460e-01 -8.3250e-01  4.1730e-01  9.6400e-01  4.5880e-01\n",
      "  8.7880e-01  6.2550e-01 -3.7340e-01  7.2460e-01  4.8920e-01 -6.0000e-01\n",
      " -8.0710e-01 -5.2200e-02  6.6160e-01  5.6030e-01  3.4820e-01  8.5610e-01\n",
      " -2.3200e-01  5.9180e-01  7.3370e-01 -3.1200e-02 -3.9220e-01  8.0070e-01\n",
      " -5.1280e-01 -4.5390e-01  5.7310e-01  4.2000e-01 -6.0700e-01 -4.1310e-01\n",
      " -7.4620e-01  6.2370e-01  7.1950e-01 -5.8280e-01 -2.5010e-01  1.0271e+00\n",
      "  1.2400e-02  8.0690e-01 -1.8620e-01 -8.8300e-01 -4.5680e-01  8.6380e-01\n",
      "  3.7330e-01 -3.7920e-01 -3.7800e-01 -5.1200e-02 -8.2740e-01 -6.6320e-01\n",
      "  6.1390e-01  1.5770e-01  3.5130e-01 -5.3560e-01  5.9450e-01  5.8520e-01\n",
      "  2.6850e-01 -9.5020e-01 -8.1420e-01 -1.4330e-01 -2.5420e-01 -3.5940e-01\n",
      " -1.5780e-01 -7.9470e-01  3.7380e-01 -4.8010e-01 -5.1520e-01  9.3560e-01\n",
      "  2.1790e-01 -6.8500e-02  5.4910e-01  9.3880e-01 -2.8050e-01  5.6450e-01\n",
      "  2.5810e-01 -4.0210e-01 -9.5200e-01  8.7880e-01  7.5700e-01 -7.4800e-01\n",
      " -8.0000e-04  4.4690e-01 -3.1780e-01  9.4800e-02 -1.0300e-02 -1.5060e-01\n",
      "  8.6850e-01 -2.7540e-01  1.7460e-01 -7.7800e-01 -6.5440e-01  3.3500e-01\n",
      " -6.3520e-01  8.6810e-01  4.7780e-01 -5.5670e-01  5.7660e-01 -2.4440e-01\n",
      "  2.0200e-01  7.5620e-01 -6.8700e-02  6.3870e-01  3.8640e-01  5.5990e-01\n",
      "  2.1070e-01 -9.0370e-01  8.8990e-01 -6.3870e-01 -8.9180e-01 -2.5720e-01\n",
      "  9.9800e-02  3.8530e-01  4.6140e-01 -5.8070e-01  7.2510e-01 -3.9680e-01\n",
      "  8.0900e-02 -5.5710e-01  6.1760e-01  6.2310e-01  9.6010e-01  6.2370e-01\n",
      " -6.9670e-01 -7.7980e-01  8.5950e-01 -2.0930e-01  8.3110e-01  7.6130e-01\n",
      " -2.3800e-02 -2.1330e-01 -9.3660e-01  1.8120e-01  2.3920e-01 -8.1140e-01\n",
      "  7.8300e-01 -5.4230e-01 -2.2430e-01  1.6230e-01  2.6110e-01 -5.2380e-01\n",
      "  5.7390e-01  7.0570e-01 -6.6480e-01  9.6200e-01  8.6700e-02 -6.4860e-01\n",
      " -8.1180e-01 -5.8000e-01  6.9240e-01 -9.0280e-01  2.1230e-01 -5.7080e-01\n",
      " -1.8430e-01  7.8800e-01 -3.8560e-01 -9.0270e-01 -4.4440e-01  2.3360e-01\n",
      "  3.3500e-01  8.6600e-01 -8.4930e-01 -9.6060e-01 -2.9120e-01 -7.7740e-01\n",
      "  8.0430e-01  9.1040e-01  5.6070e-01 -9.3410e-01 -9.4040e-01 -8.9600e-02\n",
      " -4.4430e-01  2.9650e-01 -6.8900e-02  8.6280e-01  5.8230e-01 -2.6740e-01\n",
      " -1.7960e-01  4.3480e-01 -4.0410e-01 -7.3690e-01 -3.2040e-01  1.0880e-01\n",
      " -3.4260e-01  3.0150e-01 -8.1620e-01 -9.5160e-01 -5.8180e-01  5.5100e-02\n",
      "  6.8790e-01 -8.7100e-01 -1.6420e-01  2.3310e-01 -4.4130e-01  5.7020e-01\n",
      " -6.3200e-01  6.0300e-01 -3.2090e-01  8.7930e-01  6.4840e-01 -8.3050e-01\n",
      "  4.9600e-02 -5.8720e-01 -4.2290e-01 -4.3150e-01  4.1660e-01  1.6700e-01\n",
      "  5.4420e-01 -6.1060e-01 -8.3020e-01  9.5670e-01  7.8300e-02  3.7770e-01\n",
      "  1.2310e-01  7.9600e-02 -9.6270e-01 -3.5180e-01  7.4170e-01 -8.6300e-01\n",
      " -1.5790e-01  2.9290e-01 -7.9260e-01 -8.5360e-01 -8.0050e-01 -7.8940e-01\n",
      " -9.3010e-01 -5.2180e-01 -5.1760e-01  7.5400e-01  6.4710e-01  1.9170e-01\n",
      " -4.7560e-01 -9.8360e-01 -7.9860e-01  6.2360e-01  7.7190e-01 -6.3040e-01\n",
      " -3.9760e-01 -2.8130e-01  6.1130e-01  5.6900e-01 -3.1980e-01  4.7250e-01\n",
      "  5.1060e-01 -9.1620e-01 -4.5100e-02  3.5060e-01  6.4090e-01  9.8470e-01\n",
      "  4.6090e-01 -2.6680e-01 -8.3720e-01  8.4390e-01 -3.9660e-01 -8.7910e-01\n",
      "  2.1370e-01  2.2030e-01 -5.0560e-01  3.5890e-01 -2.6930e-01  7.9470e-01\n",
      " -3.5400e-02  3.1550e-01  5.9690e-01  5.9750e-01 -1.8190e-01 -3.7540e-01\n",
      " -7.0400e-01 -5.9000e-01  3.3340e-01  1.1010e-01 -7.3130e-01  6.8150e-01\n",
      " -3.4910e-01 -6.4370e-01 -5.6830e-01 -2.4270e-01 -3.4770e-01  1.8290e-01\n",
      "  9.5300e-01  3.1470e-01  9.3100e-01 -1.5280e-01 -8.0620e-01 -6.8600e-01\n",
      " -1.9210e-01  3.3440e-01  6.8500e-01  3.1730e-01  9.0530e-01 -3.4750e-01\n",
      "  3.4130e-01 -7.6400e-02 -4.2580e-01 -8.6220e-01  7.3620e-01  6.1500e-01\n",
      "  8.5740e-01 -6.5610e-01 -2.3500e-01 -7.0530e-01  5.7770e-01 -1.7050e-01\n",
      " -4.4900e-02  7.2750e-01  1.3713e+00  2.7350e-01  5.5250e-01  6.4910e-01\n",
      "  5.9090e-01 -5.3690e-01 -5.2210e-01 -7.8620e-01 -6.8700e-02  3.2900e-02\n",
      "  9.1600e-01 -5.8900e-01  7.9400e-01  7.0920e-01  1.2950e-01  4.8460e-01\n",
      "  5.1370e-01 -4.8990e-01 -8.7890e-01  9.8460e-01  3.9570e-01 -6.6480e-01\n",
      " -1.2980e-01  6.9750e-01  7.9790e-01 -5.1920e-01  6.9710e-01 -5.2470e-01\n",
      " -9.6810e-01 -6.6450e-01  5.7500e-02  9.9280e-01 -7.4700e-02 -9.5830e-01\n",
      "  2.1170e-01 -8.6760e-01 -9.2950e-01 -7.3320e-01 -7.0560e-01 -5.9210e-01\n",
      " -6.4320e-01 -1.8130e-01 -4.4590e-01 -7.4360e-01  3.1170e-01 -1.6150e-01\n",
      " -9.3110e-01 -8.5970e-01  2.1800e-01  5.2820e-01  8.8080e-01  7.8010e-01\n",
      "  1.2290e-01 -2.6020e-01  1.7250e-01 -8.0410e-01 -8.5900e-02 -4.4500e-01\n",
      " -6.9190e-01 -7.5020e-01 -6.6300e-02  2.3700e-01  2.8560e-01 -4.1660e-01\n",
      " -3.0990e-01  9.6800e-02  7.6090e-01 -8.5670e-01  2.3720e-01  4.0800e-01\n",
      " -6.9630e-01  3.0770e-01 -4.4100e-02  1.3490e-01 -9.9510e-01  6.8970e-01\n",
      " -7.4400e-01  8.7200e-01 -1.7360e-01 -9.3320e-01  9.0920e-01 -7.4910e-01\n",
      " -5.8510e-01 -2.5510e-01  6.4740e-01 -7.2300e-01 -1.0110e-01  1.7270e-01\n",
      "  6.6240e-01  5.5250e-01 -4.9920e-01 -4.1400e-02 -7.4550e-01  6.9800e-01\n",
      "  6.8200e-01  8.1330e-01  2.7560e-01 -4.1180e-01  5.7850e-01  1.4270e-01\n",
      " -4.1490e-01 -2.9370e-01  5.5550e-01  2.7750e-01 -4.9210e-01 -8.9540e-01\n",
      "  1.8080e-01  5.1750e-01]\n",
      "\n",
      "mutation by numpy/scipy libraries\n",
      " [[-0.1317 -0.7124 -0.5052 ...  0.9575 -0.5781 -0.9   ]\n",
      " [ 0.7146 -0.1576  0.1979 ... -0.0035 -0.8218 -0.7998]\n",
      " [-0.6381 -0.4146 -0.5522 ...  0.7436 -0.1936  0.7243]\n",
      " ...\n",
      " [-0.5665  0.8167  0.861  ...  0.8317 -0.2686  0.0521]\n",
      " [ 0.4049  0.5934 -0.5626 ...  0.6806 -0.6348  0.8729]\n",
      " [-0.8313  0.4681  0.0906 ... -0.8954  0.1808  0.5175]]\n",
      "\n",
      "mutation by pygad function\n",
      " [[-0.1317 -0.7124 -0.5052 ...  0.9575 -0.5781 -0.9   ]\n",
      " [ 0.7146 -0.1576  0.1979 ... -0.0035 -0.8218 -0.7998]\n",
      " [-0.6381 -0.4146 -0.5522 ...  0.7436 -0.1936  0.7243]\n",
      " ...\n",
      " [-0.5665  0.8167  0.861  ...  0.8317 -0.2686  0.0521]\n",
      " [ 0.4049  0.5934 -0.5626 ...  0.6806 -0.6348  0.8729]\n",
      " [-0.8313  0.4681  0.0906 ... -0.8954  0.1808  0.5175]]\n",
      "\n",
      "mutation by ctype library\n",
      " [[-0.1317 -0.7124 -0.5052 ...  0.9575 -0.5781 -0.9   ]\n",
      " [ 0.7146 -0.1576  0.1979 ... -0.0035 -0.8218 -0.7998]\n",
      " [-0.6381 -0.4146 -0.5522 ...  0.7436 -0.1936  0.7243]\n",
      " ...\n",
      " [-0.5665  0.8167  0.861  ...  0.8317 -0.2686  0.0521]\n",
      " [ 0.4049  0.5934 -0.5626 ...  0.6806 -0.6348  0.8729]\n",
      " [-0.8313  0.4681  0.0906 ... -0.8954  0.1808  0.5175]]\n"
     ]
    }
   ],
   "source": [
    "if __name__ == '__main__':\n",
    "    \n",
    "    population          = build_population()\n",
    "    mutate_request      = MutateRequest(population)\n",
    "    \n",
    "    base_mutants        =  base_mutate(mutate_request)\n",
    "    numpy_mutants       = numpy_mutate(mutate_request)\n",
    "    ctype_mutants       = ctype_mutate(mutate_request)\n",
    "    pygad_mutants       = pygad_mutate(mutate_request)\n",
    "    \n",
    "    that_which_to_tell = TellObject(population, base_mutants, numpy_mutants, ctype_mutants, pygad_mutants)\n",
    "    tell(that_which_to_tell)\n",
    "    "
   ]
  },
  {
   "cell_type": "code",
   "execution_count": 10,
   "metadata": {},
   "outputs": [
    {
     "name": "stdout",
     "output_type": "stream",
     "text": [
      "pass\n",
      "pass\n",
      "pass\n",
      "pass\n",
      "\n",
      "well done passed all active tests - stick to TDD even where you are excited.\n",
      "\n"
     ]
    }
   ],
   "source": [
    "'''\n",
    "# build popluation\n",
    "'''\n",
    "\n",
    "def test_build_population():\n",
    "    population = build_population()\n",
    "    assert isinstance(population,       np.ndarray),    'Error: should be array of arrays'\n",
    "    assert isinstance(population[0],    np.ndarray),    'Error: should be an array'\n",
    "    assert isinstance(population[0][0], np.float64),    'Error: should be a float'\n",
    "    print('pass')\n",
    "\n",
    "'''\n",
    "# base mutate\n",
    "'''    \n",
    "\n",
    "def test_base_mutate():\n",
    "    number_of_mutations   = get_number_of_mutations()\n",
    "    population            = build_population()\n",
    "    mutate_request        = MutateRequest(population)\n",
    "    mutants               = base_mutate(mutate_request)\n",
    "    max_parity_sum        = population.shape[0] * population.shape[1]\n",
    "    rows_algos            = mutate_request.rows_algos\n",
    "    \n",
    "    #form\n",
    "    assert isinstance(mutants,      list),  'Error: should be a list'\n",
    "    assert isinstance(mutants[0],   list),  'Error: should be a list'\n",
    "    assert isinstance(mutants[0][0],float), 'Error: should be a float'\n",
    "    \n",
    "    #content\n",
    "    flat_population = list(np.ravel(np.asarray(population)))\n",
    "    flat_mutants    = list(np.ravel(np.asarray(mutants)))\n",
    "    both            = zip(flat_population, flat_mutants)\n",
    "    parity_check    = sum([int(x[0]==x[1]) for x in both])\n",
    "    if number_of_mutations > 0:\n",
    "        assert parity_check <= max_parity_sum-rows_algos, 'Error: there should be at least one difference per algo'\n",
    "    assert parity_check > 0, 'Error: they should not be completely different'\n",
    "    print('pass')\n",
    "    \n",
    "    \n",
    "'''\n",
    "# ctype mutate\n",
    "'''\n",
    "\n",
    "# goes here\n",
    "\n",
    "\n",
    "'''\n",
    "# numpy mutate\n",
    "'''\n",
    "\n",
    "def test_numpy_mutate():\n",
    "    number_of_mutations   = get_number_of_mutations()\n",
    "    population            = build_population()\n",
    "    mutate_request        = MutateRequest(population)\n",
    "    mutants               = numpy_mutate(mutate_request)\n",
    "    max_parity_sum        = population.shape[0] * population.shape[1]\n",
    "    rows_algos            = mutate_request.rows_algos\n",
    "    \n",
    "    #form\n",
    "    assert isinstance(mutants,      np.ndarray),  'Error: should be an np array'\n",
    "    assert isinstance(mutants[0],   np.ndarray),  'Error: should be an np array'\n",
    "    assert isinstance(mutants[0][0],np.matrix), 'Error: should be a float'\n",
    "    \n",
    "    #content\n",
    "    flat_population = list(np.ravel(np.asarray(population)))\n",
    "    flat_mutants    = list(np.ravel(np.asarray(mutants)))\n",
    "    both            = zip(flat_population, flat_mutants)\n",
    "    parity_check    = sum([int(x[0]==x[1]) for x in both])\n",
    "    if number_of_mutations > 0:\n",
    "        assert parity_check <= max_parity_sum-rows_algos, 'Error: there should be at least one difference per algo'\n",
    "    assert parity_check > 0, 'Error: they should not be completely different'\n",
    "    print('pass')\n",
    "    \n",
    "'''\n",
    "# pygad mutate\n",
    "'''\n",
    "    \n",
    "def test_pygad_mutate():\n",
    "    number_of_mutations   = get_number_of_mutations()\n",
    "    population            = build_population()\n",
    "    mutate_request        = MutateRequest(population)\n",
    "    mutants               = pygad_mutate(mutate_request)\n",
    "    max_parity_sum        = population.shape[0] * population.shape[1]\n",
    "    rows_algos            = mutate_request.rows_algos\n",
    "    \n",
    "    #form\n",
    "    assert isinstance(mutants,      np.ndarray),  'Error: should be an np array'\n",
    "    assert isinstance(mutants[0],   np.ndarray),  'Error: should be an np array'\n",
    "    assert isinstance(mutants[0][0],float), 'Error: should be a float'\n",
    "    \n",
    "    #content\n",
    "    flat_population = list(np.ravel(np.asarray(population)))\n",
    "    flat_mutants    = list(np.ravel(np.asarray(mutants)))\n",
    "    both            = zip(flat_population, flat_mutants)\n",
    "    parity_check    = sum([int(x[0]==x[1]) for x in both])\n",
    "    if number_of_mutations > 0:\n",
    "        assert parity_check <= max_parity_sum-rows_algos, 'Error: there should be at least one difference per algo'\n",
    "    assert parity_check > 0, 'Error: they should not be completely different'\n",
    "    print('pass')\n",
    "    \n",
    "'''\n",
    "# tests per se\n",
    "'''\n",
    "\n",
    "def tests():\n",
    "    \n",
    "    test_base_mutate()\n",
    "    test_build_population()\n",
    "    #test_ctype_mutate()\n",
    "    test_numpy_mutate()\n",
    "    test_pygad_mutate() \n",
    "    print('\\nwell done passed all active tests - stick to TDD even where you are excited.\\n')\n",
    "    \n",
    "tests()"
   ]
  },
  {
   "cell_type": "code",
   "execution_count": 11,
   "metadata": {},
   "outputs": [
    {
     "data": {
      "text/plain": [
       "'# Note\\n\\n class ctypes.Array(*args)\\n\\n    Abstract base class for arrays.\\n\\n    The recommended way to create concrete array types is by multiplying any ctypes data type\\n    with a positive integer. Alternatively, you can subclass this type and define _length_ \\n    and _type_ class variables. Array elements can be read and written using standard subscript \\n    and slice accesses; for slice reads, the resulting object is not itself an Array.\\n\\n'"
      ]
     },
     "execution_count": 11,
     "metadata": {},
     "output_type": "execute_result"
    }
   ],
   "source": [
    "'''# Note\n",
    "\n",
    " class ctypes.Array(*args)\n",
    "\n",
    "    Abstract base class for arrays.\n",
    "\n",
    "    The recommended way to create concrete array types is by multiplying any ctypes data type\n",
    "    with a positive integer. Alternatively, you can subclass this type and define _length_ \n",
    "    and _type_ class variables. Array elements can be read and written using standard subscript \n",
    "    and slice accesses; for slice reads, the resulting object is not itself an Array.\n",
    "\n",
    "'''"
   ]
  },
  {
   "cell_type": "code",
   "execution_count": 12,
   "metadata": {},
   "outputs": [
    {
     "data": {
      "text/plain": [
       "<CDLL 'libc.so.6', handle 7ff69d947500 at 0x7ff6982c8b90>"
      ]
     },
     "execution_count": 12,
     "metadata": {},
     "output_type": "execute_result"
    }
   ],
   "source": [
    "cdll.LoadLibrary(\"libc.so.6\")"
   ]
  },
  {
   "cell_type": "code",
   "execution_count": 13,
   "metadata": {},
   "outputs": [],
   "source": [
    "libc = CDLL(\"libc.so.6\")"
   ]
  },
  {
   "cell_type": "code",
   "execution_count": 14,
   "metadata": {},
   "outputs": [
    {
     "data": {
      "text/plain": [
       "c_wchar_p(140696823468848)"
      ]
     },
     "execution_count": 14,
     "metadata": {},
     "output_type": "execute_result"
    }
   ],
   "source": [
    "c_wchar_p(\"Hello, World\")"
   ]
  },
  {
   "cell_type": "code",
   "execution_count": 15,
   "metadata": {},
   "outputs": [],
   "source": [
    "printf = libc.printf"
   ]
  },
  {
   "cell_type": "code",
   "execution_count": 16,
   "metadata": {},
   "outputs": [
    {
     "data": {
      "text/plain": [
       "6"
      ]
     },
     "execution_count": 16,
     "metadata": {},
     "output_type": "execute_result"
    }
   ],
   "source": [
    "printf()"
   ]
  },
  {
   "cell_type": "code",
   "execution_count": 17,
   "metadata": {},
   "outputs": [
    {
     "data": {
      "text/plain": [
       "1"
      ]
     },
     "execution_count": 17,
     "metadata": {},
     "output_type": "execute_result"
    }
   ],
   "source": [
    "printf(\"Hello World\")"
   ]
  },
  {
   "cell_type": "code",
   "execution_count": 18,
   "metadata": {},
   "outputs": [],
   "source": [
    "s = \"Hello, World\""
   ]
  },
  {
   "cell_type": "code",
   "execution_count": 19,
   "metadata": {},
   "outputs": [],
   "source": [
    "c_s = c_wchar_p(s)"
   ]
  },
  {
   "cell_type": "code",
   "execution_count": 20,
   "metadata": {},
   "outputs": [
    {
     "data": {
      "text/plain": [
       "14"
      ]
     },
     "execution_count": 20,
     "metadata": {},
     "output_type": "execute_result"
    }
   ],
   "source": [
    "printf(b\"Hello, %s\\n\", b\"World!\")"
   ]
  },
  {
   "cell_type": "code",
   "execution_count": 21,
   "metadata": {},
   "outputs": [
    {
     "name": "stdout",
     "output_type": "stream",
     "text": [
      "Hello, World\n"
     ]
    }
   ],
   "source": [
    "print(c_s.value)"
   ]
  },
  {
   "cell_type": "code",
   "execution_count": 22,
   "metadata": {},
   "outputs": [
    {
     "name": "stdout",
     "output_type": "stream",
     "text": [
      "c_wchar_p(140696821942704)\n"
     ]
    }
   ],
   "source": [
    "print(c_s)"
   ]
  },
  {
   "cell_type": "code",
   "execution_count": 23,
   "metadata": {},
   "outputs": [
    {
     "name": "stdout",
     "output_type": "stream",
     "text": [
      "Hello, World\n"
     ]
    }
   ],
   "source": [
    "print(s)                # first object is unchanged"
   ]
  },
  {
   "cell_type": "code",
   "execution_count": 24,
   "metadata": {},
   "outputs": [
    {
     "data": {
      "text/plain": [
       "31"
      ]
     },
     "execution_count": 24,
     "metadata": {},
     "output_type": "execute_result"
    }
   ],
   "source": [
    "printf(b\"An int %d, a double %f\\n\", 1234, c_double(3.14))"
   ]
  },
  {
   "cell_type": "code",
   "execution_count": 25,
   "metadata": {},
   "outputs": [],
   "source": [
    "strchr = libc.strchr"
   ]
  },
  {
   "cell_type": "code",
   "execution_count": 26,
   "metadata": {},
   "outputs": [
    {
     "data": {
      "text/plain": [
       "-1741493501"
      ]
     },
     "execution_count": 26,
     "metadata": {},
     "output_type": "execute_result"
    }
   ],
   "source": [
    "strchr(b\"abcdef\", ord(\"d\"))  "
   ]
  },
  {
   "cell_type": "code",
   "execution_count": 27,
   "metadata": {},
   "outputs": [],
   "source": [
    "i = c_int()"
   ]
  },
  {
   "cell_type": "code",
   "execution_count": 28,
   "metadata": {},
   "outputs": [],
   "source": [
    "f = c_float()"
   ]
  },
  {
   "cell_type": "code",
   "execution_count": 29,
   "metadata": {},
   "outputs": [],
   "source": [
    "s = create_string_buffer(b'\\000' * 32)"
   ]
  },
  {
   "cell_type": "code",
   "execution_count": 30,
   "metadata": {},
   "outputs": [
    {
     "name": "stdout",
     "output_type": "stream",
     "text": [
      "0 0.0 b''\n"
     ]
    }
   ],
   "source": [
    "print(i.value, f.value, repr(s.value))"
   ]
  },
  {
   "cell_type": "code",
   "execution_count": 31,
   "metadata": {},
   "outputs": [
    {
     "data": {
      "text/plain": [
       "3"
      ]
     },
     "execution_count": 31,
     "metadata": {},
     "output_type": "execute_result"
    }
   ],
   "source": [
    "libc.sscanf(b\"1 3.14 Hello\", b\"%d %f %s\", byref(i), byref(f), s)"
   ]
  },
  {
   "cell_type": "code",
   "execution_count": 32,
   "metadata": {},
   "outputs": [
    {
     "name": "stdout",
     "output_type": "stream",
     "text": [
      "1 3.140000104904175 b'Hello'\n"
     ]
    }
   ],
   "source": [
    "print(i.value, f.value, repr(s.value))"
   ]
  },
  {
   "cell_type": "code",
   "execution_count": 33,
   "metadata": {},
   "outputs": [],
   "source": [
    "class POINT(Structure):\n",
    "    _fields_ = [(\"x\", c_int),\n",
    "                (\"y\", c_int)]"
   ]
  },
  {
   "cell_type": "code",
   "execution_count": 34,
   "metadata": {},
   "outputs": [],
   "source": [
    "point = POINT(10, 20)"
   ]
  },
  {
   "cell_type": "code",
   "execution_count": 35,
   "metadata": {},
   "outputs": [
    {
     "name": "stdout",
     "output_type": "stream",
     "text": [
      "10 20\n"
     ]
    }
   ],
   "source": [
    "print(point.x, point.y)"
   ]
  },
  {
   "cell_type": "code",
   "execution_count": 31,
   "metadata": {},
   "outputs": [],
   "source": [
    "point = POINT(y=5)"
   ]
  },
  {
   "cell_type": "code",
   "execution_count": 32,
   "metadata": {},
   "outputs": [
    {
     "name": "stdout",
     "output_type": "stream",
     "text": [
      "0 5\n"
     ]
    }
   ],
   "source": [
    "print(point.x, point.y)"
   ]
  },
  {
   "cell_type": "code",
   "execution_count": 33,
   "metadata": {},
   "outputs": [
    {
     "data": {
      "text/plain": [
       "<__main__.POINT at 0x7f31841d1b00>"
      ]
     },
     "execution_count": 33,
     "metadata": {},
     "output_type": "execute_result"
    }
   ],
   "source": [
    "POINT(1, 2)"
   ]
  },
  {
   "cell_type": "code",
   "execution_count": 34,
   "metadata": {},
   "outputs": [
    {
     "data": {
      "text/plain": [
       "<__main__.POINT at 0x7f31841d1f80>"
      ]
     },
     "execution_count": 34,
     "metadata": {},
     "output_type": "execute_result"
    }
   ],
   "source": [
    "POINT(-1, 2)"
   ]
  },
  {
   "cell_type": "code",
   "execution_count": 35,
   "metadata": {},
   "outputs": [
    {
     "data": {
      "text/plain": [
       "'\\n---------------------------------------------------------------------------\\nTypeError                                 Traceback (most recent call last)\\n<ipython-input-120-a3808173cd67> in <module>\\n----> 1 POINT(1, 2.0001)\\n\\nTypeError: int expected instead of float\\n\\n\\n'"
      ]
     },
     "execution_count": 35,
     "metadata": {},
     "output_type": "execute_result"
    }
   ],
   "source": [
    "#POINT(1, 2.0001)\n",
    "\n",
    "'''\n",
    "---------------------------------------------------------------------------\n",
    "TypeError                                 Traceback (most recent call last)\n",
    "<ipython-input-120-a3808173cd67> in <module>\n",
    "----> 1 POINT(1, 2.0001)\n",
    "\n",
    "TypeError: int expected instead of float\n",
    "\n",
    "\n",
    "'''"
   ]
  },
  {
   "cell_type": "code",
   "execution_count": 36,
   "metadata": {},
   "outputs": [
    {
     "data": {
      "text/plain": [
       "'\\n---------------------------------------------------------------------------\\nTypeError                                 Traceback (most recent call last)\\n<ipython-input-121-bfc065603ff4> in <module>\\n----> 1 POINT(1, -2.0001)\\n\\nTypeError: int expected instead of float\\n\\n\\n'"
      ]
     },
     "execution_count": 36,
     "metadata": {},
     "output_type": "execute_result"
    }
   ],
   "source": [
    "# POINT(1, -2.0001)\n",
    "\n",
    "'''\n",
    "---------------------------------------------------------------------------\n",
    "TypeError                                 Traceback (most recent call last)\n",
    "<ipython-input-121-bfc065603ff4> in <module>\n",
    "----> 1 POINT(1, -2.0001)\n",
    "\n",
    "TypeError: int expected instead of float\n",
    "\n",
    "\n",
    "'''"
   ]
  },
  {
   "cell_type": "code",
   "execution_count": 37,
   "metadata": {},
   "outputs": [
    {
     "data": {
      "text/plain": [
       "<__main__.POINT at 0x7ff6881c8e60>"
      ]
     },
     "execution_count": 37,
     "metadata": {},
     "output_type": "execute_result"
    }
   ],
   "source": [
    "POINT(1, 2)"
   ]
  },
  {
   "cell_type": "code",
   "execution_count": 38,
   "metadata": {},
   "outputs": [],
   "source": [
    "class RECT(Structure):\n",
    "    _fields_ = [(\"upperleft\", POINT),\n",
    "                (\"lowerright\", POINT)]"
   ]
  },
  {
   "cell_type": "code",
   "execution_count": 39,
   "metadata": {},
   "outputs": [],
   "source": [
    "rc = RECT(point)"
   ]
  },
  {
   "cell_type": "code",
   "execution_count": 40,
   "metadata": {},
   "outputs": [
    {
     "name": "stdout",
     "output_type": "stream",
     "text": [
      "10 20\n"
     ]
    }
   ],
   "source": [
    "print(rc.upperleft.x, rc.upperleft.y)"
   ]
  },
  {
   "cell_type": "code",
   "execution_count": 41,
   "metadata": {},
   "outputs": [
    {
     "name": "stdout",
     "output_type": "stream",
     "text": [
      "0 0\n"
     ]
    }
   ],
   "source": [
    "print(rc.lowerright.x, rc.lowerright.y)"
   ]
  },
  {
   "cell_type": "code",
   "execution_count": 42,
   "metadata": {},
   "outputs": [],
   "source": [
    "TenPointsArrayType = POINT * 10"
   ]
  },
  {
   "cell_type": "code",
   "execution_count": 43,
   "metadata": {},
   "outputs": [],
   "source": [
    "r = RECT(POINT(1, 2), POINT(3, 4))"
   ]
  },
  {
   "cell_type": "code",
   "execution_count": 44,
   "metadata": {},
   "outputs": [],
   "source": [
    "r = RECT((1, 2), (3, 4))"
   ]
  },
  {
   "cell_type": "code",
   "execution_count": 45,
   "metadata": {},
   "outputs": [
    {
     "name": "stdout",
     "output_type": "stream",
     "text": [
      "<Field type=c_int, ofs=0, size=4>\n"
     ]
    }
   ],
   "source": [
    "print(POINT.x)"
   ]
  },
  {
   "cell_type": "code",
   "execution_count": 46,
   "metadata": {},
   "outputs": [
    {
     "name": "stdout",
     "output_type": "stream",
     "text": [
      "<Field type=c_int, ofs=4, size=4>\n"
     ]
    }
   ],
   "source": [
    "print(POINT.y)"
   ]
  },
  {
   "cell_type": "code",
   "execution_count": 47,
   "metadata": {},
   "outputs": [],
   "source": [
    "class Int(Structure):\n",
    "    _fields_ = [(\"first_16\", c_int, 16),\n",
    "                (\"second_16\", c_int, 16)]"
   ]
  },
  {
   "cell_type": "code",
   "execution_count": 48,
   "metadata": {},
   "outputs": [
    {
     "name": "stdout",
     "output_type": "stream",
     "text": [
      "<Field type=c_int, ofs=0:0, bits=16>\n"
     ]
    }
   ],
   "source": [
    "print(Int.first_16)"
   ]
  },
  {
   "cell_type": "code",
   "execution_count": 49,
   "metadata": {},
   "outputs": [
    {
     "name": "stdout",
     "output_type": "stream",
     "text": [
      "<Field type=c_int, ofs=0:16, bits=16>\n"
     ]
    }
   ],
   "source": [
    "print(Int.second_16)"
   ]
  },
  {
   "cell_type": "code",
   "execution_count": 50,
   "metadata": {},
   "outputs": [],
   "source": [
    "class POINT(Structure):\n",
    "    _fields_ = (\"x\", c_int), (\"y\", c_int)"
   ]
  },
  {
   "cell_type": "code",
   "execution_count": 51,
   "metadata": {},
   "outputs": [],
   "source": [
    "class MyStruct(Structure):\n",
    "    _fields_ = [(\"a\", c_int),\n",
    "                (\"b\", c_float),\n",
    "                (\"point_array\", POINT * 4)]"
   ]
  },
  {
   "cell_type": "code",
   "execution_count": 52,
   "metadata": {},
   "outputs": [
    {
     "name": "stdout",
     "output_type": "stream",
     "text": [
      "4\n"
     ]
    }
   ],
   "source": [
    "print(len(MyStruct().point_array))"
   ]
  },
  {
   "cell_type": "code",
   "execution_count": 53,
   "metadata": {},
   "outputs": [],
   "source": [
    "arr = TenPointsArrayType()"
   ]
  },
  {
   "cell_type": "code",
   "execution_count": 54,
   "metadata": {},
   "outputs": [
    {
     "name": "stdout",
     "output_type": "stream",
     "text": [
      "0 0\n",
      "0 0\n",
      "0 0\n",
      "0 0\n",
      "0 0\n",
      "0 0\n",
      "0 0\n",
      "0 0\n",
      "0 0\n",
      "0 0\n"
     ]
    }
   ],
   "source": [
    "for pt in arr:\n",
    "    print(pt.x, pt.y)"
   ]
  },
  {
   "cell_type": "code",
   "execution_count": 55,
   "metadata": {},
   "outputs": [],
   "source": [
    "TenIntegers = c_int * 10"
   ]
  },
  {
   "cell_type": "code",
   "execution_count": 56,
   "metadata": {},
   "outputs": [],
   "source": [
    "ii = TenIntegers(1, 2, 3, 4, 5, 6, 7, 8, 9, 10)"
   ]
  },
  {
   "cell_type": "code",
   "execution_count": 57,
   "metadata": {},
   "outputs": [
    {
     "name": "stdout",
     "output_type": "stream",
     "text": [
      "<__main__.c_int_Array_10 object at 0x7ff6881bb8c0>\n"
     ]
    }
   ],
   "source": [
    "print(ii)"
   ]
  },
  {
   "cell_type": "code",
   "execution_count": 58,
   "metadata": {},
   "outputs": [
    {
     "name": "stdout",
     "output_type": "stream",
     "text": [
      "1 2 3 4 5 6 7 8 9 10 "
     ]
    }
   ],
   "source": [
    "for i in ii: print(i, end=\" \")"
   ]
  },
  {
   "cell_type": "code",
   "execution_count": 61,
   "metadata": {},
   "outputs": [],
   "source": [
    "i = c_int(42)"
   ]
  },
  {
   "cell_type": "code",
   "execution_count": 62,
   "metadata": {},
   "outputs": [],
   "source": [
    "pi = pointer(i)"
   ]
  },
  {
   "cell_type": "code",
   "execution_count": 63,
   "metadata": {},
   "outputs": [
    {
     "data": {
      "text/plain": [
       "c_int(42)"
      ]
     },
     "execution_count": 63,
     "metadata": {},
     "output_type": "execute_result"
    }
   ],
   "source": [
    "pi.contents"
   ]
  },
  {
   "cell_type": "code",
   "execution_count": 62,
   "metadata": {},
   "outputs": [
    {
     "data": {
      "text/plain": [
       "False"
      ]
     },
     "execution_count": 62,
     "metadata": {},
     "output_type": "execute_result"
    }
   ],
   "source": [
    "pi.contents is i"
   ]
  },
  {
   "cell_type": "code",
   "execution_count": 63,
   "metadata": {},
   "outputs": [
    {
     "data": {
      "text/plain": [
       "False"
      ]
     },
     "execution_count": 63,
     "metadata": {},
     "output_type": "execute_result"
    }
   ],
   "source": [
    "pi.contents is pi.contents"
   ]
  },
  {
   "cell_type": "code",
   "execution_count": 64,
   "metadata": {},
   "outputs": [],
   "source": [
    "i = c_int(99)"
   ]
  },
  {
   "cell_type": "code",
   "execution_count": 65,
   "metadata": {},
   "outputs": [],
   "source": [
    "pi.contents = i"
   ]
  },
  {
   "cell_type": "code",
   "execution_count": 66,
   "metadata": {},
   "outputs": [
    {
     "data": {
      "text/plain": [
       "c_int(99)"
      ]
     },
     "execution_count": 66,
     "metadata": {},
     "output_type": "execute_result"
    }
   ],
   "source": [
    "pi.contents"
   ]
  },
  {
   "cell_type": "code",
   "execution_count": 67,
   "metadata": {},
   "outputs": [
    {
     "data": {
      "text/plain": [
       "99"
      ]
     },
     "execution_count": 67,
     "metadata": {},
     "output_type": "execute_result"
    }
   ],
   "source": [
    "pi[0]"
   ]
  },
  {
   "cell_type": "code",
   "execution_count": 68,
   "metadata": {},
   "outputs": [
    {
     "name": "stdout",
     "output_type": "stream",
     "text": [
      "c_int(99)\n"
     ]
    }
   ],
   "source": [
    "print(i)"
   ]
  },
  {
   "cell_type": "code",
   "execution_count": 69,
   "metadata": {},
   "outputs": [],
   "source": [
    "pi[0] = 22"
   ]
  },
  {
   "cell_type": "code",
   "execution_count": 70,
   "metadata": {},
   "outputs": [
    {
     "name": "stdout",
     "output_type": "stream",
     "text": [
      "c_int(22)\n"
     ]
    }
   ],
   "source": [
    "print(i)"
   ]
  },
  {
   "cell_type": "code",
   "execution_count": 71,
   "metadata": {},
   "outputs": [],
   "source": [
    "PI = POINTER(c_int)"
   ]
  },
  {
   "cell_type": "code",
   "execution_count": 72,
   "metadata": {},
   "outputs": [
    {
     "data": {
      "text/plain": [
       "importlib._bootstrap.LP_c_int"
      ]
     },
     "execution_count": 72,
     "metadata": {},
     "output_type": "execute_result"
    }
   ],
   "source": [
    "PI"
   ]
  },
  {
   "cell_type": "code",
   "execution_count": 73,
   "metadata": {},
   "outputs": [
    {
     "data": {
      "text/plain": [
       "'\\n---------------------------------------------------------------------------\\nTypeError                                 Traceback (most recent call last)\\n<ipython-input-52-622c40ff30d9> in <module>\\n----> 1 PI(42)\\n\\nTypeError: expected c_int instead of int\\n\\n\\n'"
      ]
     },
     "execution_count": 73,
     "metadata": {},
     "output_type": "execute_result"
    }
   ],
   "source": [
    "# PI(42)\n",
    "\n",
    "'''\n",
    "---------------------------------------------------------------------------\n",
    "TypeError                                 Traceback (most recent call last)\n",
    "<ipython-input-52-622c40ff30d9> in <module>\n",
    "----> 1 PI(42)\n",
    "\n",
    "TypeError: expected c_int instead of int\n",
    "\n",
    "\n",
    "'''"
   ]
  },
  {
   "cell_type": "code",
   "execution_count": 74,
   "metadata": {},
   "outputs": [
    {
     "data": {
      "text/plain": [
       "<importlib._bootstrap.LP_c_int at 0x7f3184182560>"
      ]
     },
     "execution_count": 74,
     "metadata": {},
     "output_type": "execute_result"
    }
   ],
   "source": [
    "PI(c_int(42))"
   ]
  },
  {
   "cell_type": "code",
   "execution_count": 75,
   "metadata": {},
   "outputs": [],
   "source": [
    "null_ptr = POINTER(c_int)()"
   ]
  },
  {
   "cell_type": "code",
   "execution_count": 76,
   "metadata": {},
   "outputs": [
    {
     "name": "stdout",
     "output_type": "stream",
     "text": [
      "False\n"
     ]
    }
   ],
   "source": [
    "print(bool(null_ptr))"
   ]
  },
  {
   "cell_type": "code",
   "execution_count": 77,
   "metadata": {},
   "outputs": [],
   "source": [
    "class Bar(Structure):\n",
    "    _fields_ = [(\"count\", c_int), (\"values\", POINTER(c_int))]"
   ]
  },
  {
   "cell_type": "code",
   "execution_count": 78,
   "metadata": {},
   "outputs": [],
   "source": [
    "bar = Bar()"
   ]
  },
  {
   "cell_type": "code",
   "execution_count": 79,
   "metadata": {},
   "outputs": [],
   "source": [
    "bar.values = (c_int * 3)(1, 2, 3)"
   ]
  },
  {
   "cell_type": "code",
   "execution_count": 80,
   "metadata": {},
   "outputs": [],
   "source": [
    "bar.count = 3"
   ]
  },
  {
   "cell_type": "code",
   "execution_count": 81,
   "metadata": {},
   "outputs": [
    {
     "name": "stdout",
     "output_type": "stream",
     "text": [
      "1\n",
      "2\n",
      "3\n"
     ]
    }
   ],
   "source": [
    "for i in range(bar.count):\n",
    "    print(bar.values[i])"
   ]
  },
  {
   "cell_type": "code",
   "execution_count": 82,
   "metadata": {},
   "outputs": [],
   "source": [
    "IntArray5 = c_int * 5"
   ]
  },
  {
   "cell_type": "code",
   "execution_count": 83,
   "metadata": {},
   "outputs": [],
   "source": [
    "ia = IntArray5(5, 1, 7, 33, 99)"
   ]
  },
  {
   "cell_type": "code",
   "execution_count": 84,
   "metadata": {},
   "outputs": [],
   "source": [
    "qsort = libc.qsort"
   ]
  },
  {
   "cell_type": "code",
   "execution_count": 85,
   "metadata": {},
   "outputs": [],
   "source": [
    "qsort.restype = None"
   ]
  },
  {
   "cell_type": "code",
   "execution_count": 86,
   "metadata": {},
   "outputs": [],
   "source": [
    "CMPFUNC = CFUNCTYPE(c_int, POINTER(c_int), POINTER(c_int))\n",
    "\n"
   ]
  },
  {
   "cell_type": "code",
   "execution_count": 87,
   "metadata": {},
   "outputs": [],
   "source": [
    "def py_cmp_func(a, b):\n",
    "    print(\"py_cmp_func\", a[0], b[0])\n",
    "    return 0"
   ]
  },
  {
   "cell_type": "code",
   "execution_count": 88,
   "metadata": {},
   "outputs": [],
   "source": [
    "cmp_func = CMPFUNC(py_cmp_func)"
   ]
  },
  {
   "cell_type": "code",
   "execution_count": 89,
   "metadata": {},
   "outputs": [
    {
     "name": "stdout",
     "output_type": "stream",
     "text": [
      "py_cmp_func 5 1\n",
      "py_cmp_func 33 99\n",
      "py_cmp_func 7 33\n",
      "py_cmp_func 5 7\n",
      "py_cmp_func 1 7\n"
     ]
    }
   ],
   "source": [
    "qsort(ia, len(ia), sizeof(c_int), cmp_func) "
   ]
  },
  {
   "cell_type": "code",
   "execution_count": 90,
   "metadata": {},
   "outputs": [],
   "source": [
    "def py_cmp_func(a, b):\n",
    "    print(\"py_cmp_func\", a[0], b[0])\n",
    "    return a[0] - b[0]"
   ]
  },
  {
   "cell_type": "code",
   "execution_count": 91,
   "metadata": {},
   "outputs": [
    {
     "name": "stdout",
     "output_type": "stream",
     "text": [
      "py_cmp_func 5 1\n",
      "py_cmp_func 33 99\n",
      "py_cmp_func 7 33\n",
      "py_cmp_func 1 7\n",
      "py_cmp_func 5 7\n"
     ]
    }
   ],
   "source": [
    "qsort(ia, len(ia), sizeof(c_int), CMPFUNC(py_cmp_func)) "
   ]
  },
  {
   "cell_type": "code",
   "execution_count": 92,
   "metadata": {},
   "outputs": [
    {
     "name": "stdout",
     "output_type": "stream",
     "text": [
      "1 5 7 33 99 "
     ]
    }
   ],
   "source": [
    "for i in ia: print(i, end=\" \")\n",
    "\n",
    "\n"
   ]
  },
  {
   "cell_type": "code",
   "execution_count": 93,
   "metadata": {},
   "outputs": [],
   "source": [
    "@CFUNCTYPE(c_int, POINTER(c_int), POINTER(c_int))\n",
    "def py_cmp_func(a, b):\n",
    "    print(\"py_cmp_func\", a[0], b[0])\n",
    "    return a[0] - b[0]"
   ]
  },
  {
   "cell_type": "code",
   "execution_count": 94,
   "metadata": {},
   "outputs": [
    {
     "name": "stdout",
     "output_type": "stream",
     "text": [
      "py_cmp_func 1 5\n",
      "py_cmp_func 33 99\n",
      "py_cmp_func 7 33\n",
      "py_cmp_func 1 7\n",
      "py_cmp_func 5 7\n"
     ]
    }
   ],
   "source": [
    "qsort(ia, len(ia), sizeof(c_int), py_cmp_func)"
   ]
  },
  {
   "cell_type": "code",
   "execution_count": 95,
   "metadata": {},
   "outputs": [],
   "source": [
    "short_array = (c_short * 4)()"
   ]
  },
  {
   "cell_type": "code",
   "execution_count": 96,
   "metadata": {},
   "outputs": [
    {
     "name": "stdout",
     "output_type": "stream",
     "text": [
      "8\n"
     ]
    }
   ],
   "source": [
    "print(sizeof(short_array))"
   ]
  },
  {
   "cell_type": "code",
   "execution_count": 97,
   "metadata": {},
   "outputs": [
    {
     "data": {
      "text/plain": [
       "'\\n---------------------------------------------------------------------------\\nValueError                                Traceback (most recent call last)\\n<ipython-input-207-5d3303a611a5> in <module>\\n----> 1 resize(short_array, 4)\\n      2 \\n      3 \\n\\nValueError: minimum size is 8\\n\\n'"
      ]
     },
     "execution_count": 97,
     "metadata": {},
     "output_type": "execute_result"
    }
   ],
   "source": [
    "#resize(short_array, 4)\n",
    "\n",
    "'''\n",
    "---------------------------------------------------------------------------\n",
    "ValueError                                Traceback (most recent call last)\n",
    "<ipython-input-207-5d3303a611a5> in <module>\n",
    "----> 1 resize(short_array, 4)\n",
    "      2 \n",
    "      3 \n",
    "\n",
    "ValueError: minimum size is 8\n",
    "\n",
    "'''"
   ]
  },
  {
   "cell_type": "code",
   "execution_count": 98,
   "metadata": {},
   "outputs": [],
   "source": [
    "resize(short_array, 32)"
   ]
  },
  {
   "cell_type": "code",
   "execution_count": 99,
   "metadata": {},
   "outputs": [
    {
     "data": {
      "text/plain": [
       "32"
      ]
     },
     "execution_count": 99,
     "metadata": {},
     "output_type": "execute_result"
    }
   ],
   "source": [
    "sizeof(short_array)"
   ]
  },
  {
   "cell_type": "code",
   "execution_count": 100,
   "metadata": {},
   "outputs": [
    {
     "data": {
      "text/plain": [
       "8"
      ]
     },
     "execution_count": 100,
     "metadata": {},
     "output_type": "execute_result"
    }
   ],
   "source": [
    "sizeof(type(short_array))"
   ]
  },
  {
   "cell_type": "code",
   "execution_count": null,
   "metadata": {},
   "outputs": [],
   "source": []
  },
  {
   "cell_type": "code",
   "execution_count": null,
   "metadata": {},
   "outputs": [],
   "source": []
  },
  {
   "cell_type": "code",
   "execution_count": null,
   "metadata": {},
   "outputs": [],
   "source": []
  }
 ],
 "metadata": {
  "kernelspec": {
   "display_name": "Python 3",
   "language": "python",
   "name": "python3"
  },
  "language_info": {
   "codemirror_mode": {
    "name": "ipython",
    "version": 3
   },
   "file_extension": ".py",
   "mimetype": "text/x-python",
   "name": "python",
   "nbconvert_exporter": "python",
   "pygments_lexer": "ipython3",
   "version": "3.7.7"
  }
 },
 "nbformat": 4,
 "nbformat_minor": 4
}
