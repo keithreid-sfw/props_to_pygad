{
 "cells": [
  {
   "cell_type": "code",
   "execution_count": 71,
   "metadata": {},
   "outputs": [],
   "source": [
    "import ctypes\n",
    "import numpy as np\n",
    "import random\n",
    "from scipy import sparse\n",
    "\n",
    "'''# speed comparison of four approaches    '''\n",
    "'''    # native python libraries                        '''\n",
    "'''    # specialist libraries                                   '''\n",
    "'''    # ctype method calls into C                                      '''\n",
    "'''    # wholesale modular call into C from compiled library                    '''\n",
    "'''                                                                                 '''\n",
    "'''# further optimisations maybe possible with the four approaches                      '''\n",
    "'''# note that mutate request internally casts the numpy population into a list of lists    '''\n",
    "\n",
    "class MutateRequest:\n",
    "    def __init__(self, population):\n",
    "        number_of_mutations = get_number_of_mutations()\n",
    "        self.population     = population\n",
    "        self.population     = [list(algo) for algo in population]\n",
    "        self.rows_algos     = len(population)\n",
    "        self.columns_genes  = len(population[0])\n",
    "        self.number_of_mutations = number_of_mutations\n",
    "\n",
    "def get_number_of_mutations():\n",
    "    number_of_mutations = 3\n",
    "    return number_of_mutations\n",
    "\n",
    "def build_population():\n",
    "    low         = -2\n",
    "    high        =  2\n",
    "    cohort_size = (8, 6) # columns_genes , rows_algos\n",
    "    population  = np.random.uniform(low, high, size=cohort_size)\n",
    "    \n",
    "    return population\n",
    "\n",
    "def base_mutate(mutate_request):\n",
    "    ''' does not use numpy; only uses naive base library - math, itertools, random etc are allowed'''\n",
    "    population          = mutate_request.population\n",
    "    number_of_mutations = mutate_request.number_of_mutations\n",
    "    rows_algos          = mutate_request.rows_algos\n",
    "    columns_genes       = mutate_request.columns_genes\n",
    "    base_mutants = population\n",
    "    \n",
    "    # arbitrary loop nesting order here - this is best for \n",
    "    for mutation in range(number_of_mutations):\n",
    "        for algo in base_mutants:\n",
    "            random_place    = random.randrange(columns_genes)\n",
    "            starting_gene   = algo[random_place]\n",
    "            a_float         = random.random()\n",
    "            algo.pop(random_place)\n",
    "            mutant_gene     = starting_gene + a_float\n",
    "            algo.insert(random_place, mutant_gene)\n",
    "    return base_mutants\n",
    "\n",
    "def numpy_mutate(mutate_request):\n",
    "    population          = mutate_request.population\n",
    "    population          = np.asarray(population)\n",
    "    \n",
    "    number_of_mutations = mutate_request.number_of_mutations\n",
    "    all_loci            = mutate_request.rows_algos * mutate_request.columns_genes\n",
    "    \n",
    "    mutation_rate       = number_of_mutations/all_loci\n",
    "    \n",
    "    mutation_matrix = scipy.sparse.random(population.shape[0], population.shape[1], density=mutation_rate)\n",
    "    pre_mutants     = np.copy(population)\n",
    "    mutants         = np.add(pre_mutants, mutation_matrix.todense())\n",
    "    \n",
    "    return mutants\n",
    "\n",
    "if __name__ == '__main__':\n",
    "    \n",
    "    original_population = build_population()\n",
    "    mutate_request      = MutateRequest(population)\n",
    "    base_mutants        = base_mutate(mutate_request)\n",
    "    numpy_mutants       = numpy_mutate(mutate_request)\n",
    "    "
   ]
  },
  {
   "cell_type": "code",
   "execution_count": 75,
   "metadata": {},
   "outputs": [
    {
     "name": "stdout",
     "output_type": "stream",
     "text": [
      "pass\n",
      "pass\n",
      "\n",
      "mutants[0][0]\n",
      " [[ 1.37540434  0.24865622  1.59741303 -0.03519354  1.16889392  0.98668862]] <class 'numpy.matrix'>\n"
     ]
    },
    {
     "ename": "AssertionError",
     "evalue": "Error: there should be at least one difference per algo",
     "output_type": "error",
     "traceback": [
      "\u001b[0;31m---------------------------------------------------------------------------\u001b[0m",
      "\u001b[0;31mAssertionError\u001b[0m                            Traceback (most recent call last)",
      "\u001b[0;32m<ipython-input-75-2b7b721aae50>\u001b[0m in \u001b[0;36m<module>\u001b[0;34m\u001b[0m\n\u001b[1;32m     59\u001b[0m     \u001b[0mtest_numpy_mutate\u001b[0m\u001b[0;34m(\u001b[0m\u001b[0;34m)\u001b[0m\u001b[0;34m\u001b[0m\u001b[0;34m\u001b[0m\u001b[0m\n\u001b[1;32m     60\u001b[0m \u001b[0;34m\u001b[0m\u001b[0m\n\u001b[0;32m---> 61\u001b[0;31m \u001b[0mtests\u001b[0m\u001b[0;34m(\u001b[0m\u001b[0;34m)\u001b[0m\u001b[0;34m\u001b[0m\u001b[0;34m\u001b[0m\u001b[0m\n\u001b[0m",
      "\u001b[0;32m<ipython-input-75-2b7b721aae50>\u001b[0m in \u001b[0;36mtests\u001b[0;34m()\u001b[0m\n\u001b[1;32m     57\u001b[0m     \u001b[0mtest_base_mutate\u001b[0m\u001b[0;34m(\u001b[0m\u001b[0;34m)\u001b[0m\u001b[0;34m\u001b[0m\u001b[0;34m\u001b[0m\u001b[0m\n\u001b[1;32m     58\u001b[0m     \u001b[0mtest_build_population\u001b[0m\u001b[0;34m(\u001b[0m\u001b[0;34m)\u001b[0m\u001b[0;34m\u001b[0m\u001b[0;34m\u001b[0m\u001b[0m\n\u001b[0;32m---> 59\u001b[0;31m     \u001b[0mtest_numpy_mutate\u001b[0m\u001b[0;34m(\u001b[0m\u001b[0;34m)\u001b[0m\u001b[0;34m\u001b[0m\u001b[0;34m\u001b[0m\u001b[0m\n\u001b[0m\u001b[1;32m     60\u001b[0m \u001b[0;34m\u001b[0m\u001b[0m\n\u001b[1;32m     61\u001b[0m \u001b[0mtests\u001b[0m\u001b[0;34m(\u001b[0m\u001b[0;34m)\u001b[0m\u001b[0;34m\u001b[0m\u001b[0;34m\u001b[0m\u001b[0m\n",
      "\u001b[0;32m<ipython-input-75-2b7b721aae50>\u001b[0m in \u001b[0;36mtest_numpy_mutate\u001b[0;34m()\u001b[0m\n\u001b[1;32m     42\u001b[0m     \u001b[0mparity_check\u001b[0m    \u001b[0;34m=\u001b[0m \u001b[0msum\u001b[0m\u001b[0;34m(\u001b[0m\u001b[0;34m[\u001b[0m\u001b[0mint\u001b[0m\u001b[0;34m(\u001b[0m\u001b[0mx\u001b[0m\u001b[0;34m[\u001b[0m\u001b[0;36m0\u001b[0m\u001b[0;34m]\u001b[0m\u001b[0;34m==\u001b[0m\u001b[0mx\u001b[0m\u001b[0;34m[\u001b[0m\u001b[0;36m1\u001b[0m\u001b[0;34m]\u001b[0m\u001b[0;34m)\u001b[0m \u001b[0;32mfor\u001b[0m \u001b[0mx\u001b[0m \u001b[0;32min\u001b[0m \u001b[0mboth\u001b[0m\u001b[0;34m]\u001b[0m\u001b[0;34m)\u001b[0m\u001b[0;34m\u001b[0m\u001b[0;34m\u001b[0m\u001b[0m\n\u001b[1;32m     43\u001b[0m     \u001b[0;32mif\u001b[0m \u001b[0mnumber_of_mutations\u001b[0m \u001b[0;34m>\u001b[0m \u001b[0;36m0\u001b[0m\u001b[0;34m:\u001b[0m\u001b[0;34m\u001b[0m\u001b[0;34m\u001b[0m\u001b[0m\n\u001b[0;32m---> 44\u001b[0;31m         \u001b[0;32massert\u001b[0m \u001b[0mparity_check\u001b[0m \u001b[0;34m<=\u001b[0m \u001b[0mmax_parity_sum\u001b[0m\u001b[0;34m-\u001b[0m\u001b[0mrows_algos\u001b[0m\u001b[0;34m,\u001b[0m \u001b[0;34m'Error: there should be at least one difference per algo'\u001b[0m\u001b[0;34m\u001b[0m\u001b[0;34m\u001b[0m\u001b[0m\n\u001b[0m\u001b[1;32m     45\u001b[0m     \u001b[0;32massert\u001b[0m \u001b[0mparity_check\u001b[0m \u001b[0;34m>\u001b[0m \u001b[0;36m0\u001b[0m\u001b[0;34m,\u001b[0m \u001b[0;34m'Error: they should not be completely different'\u001b[0m\u001b[0;34m\u001b[0m\u001b[0;34m\u001b[0m\u001b[0m\n\u001b[1;32m     46\u001b[0m     \u001b[0mprint\u001b[0m\u001b[0;34m(\u001b[0m\u001b[0;34m'pass'\u001b[0m\u001b[0;34m)\u001b[0m\u001b[0;34m\u001b[0m\u001b[0;34m\u001b[0m\u001b[0m\n",
      "\u001b[0;31mAssertionError\u001b[0m: Error: there should be at least one difference per algo"
     ]
    }
   ],
   "source": [
    "def test_base_mutate():\n",
    "    number_of_mutations   = get_number_of_mutations()\n",
    "    population            = build_population()\n",
    "    mutate_request        = MutateRequest(population)\n",
    "    mutants               = base_mutate(mutate_request)\n",
    "    max_parity_sum        = population.shape[0] * population.shape[1]\n",
    "    rows_algos            = mutate_request.rows_algos\n",
    "    \n",
    "    #form\n",
    "    assert isinstance(mutants,      list),  'Error: should be a list'\n",
    "    assert isinstance(mutants[0],   list),  'Error: should be a list'\n",
    "    assert isinstance(mutants[0][0],float), 'Error: should be a float'\n",
    "    \n",
    "    #content\n",
    "    flat_population = list(np.ravel(np.asarray(population)))\n",
    "    flat_mutants    = list(np.ravel(np.asarray(mutants)))\n",
    "    both            = zip(flat_population, flat_mutants)\n",
    "    parity_check    = sum([int(x[0]==x[1]) for x in both])\n",
    "    if number_of_mutations > 0:\n",
    "        assert parity_check <= max_parity_sum-rows_algos, 'Error: there should be at least one difference per algo'\n",
    "    assert parity_check > 0, 'Error: they should not be completely different'\n",
    "    print('pass')\n",
    "    \n",
    "def test_numpy_mutate():\n",
    "    number_of_mutations   = get_number_of_mutations()\n",
    "    population            = build_population()\n",
    "    mutate_request        = MutateRequest(population)\n",
    "    mutants               = numpy_mutate(mutate_request)\n",
    "    max_parity_sum        = population.shape[0] * population.shape[1]\n",
    "    rows_algos            = mutate_request.rows_algos\n",
    "    \n",
    "    #form\n",
    "    assert isinstance(mutants,      np.ndarray),  'Error: should be an np array'\n",
    "    assert isinstance(mutants[0],   np.ndarray),  'Error: should be an np array'\n",
    "    print('\\nmutants[0][0]\\n', mutants[0][0], type(mutants[0][0]))\n",
    "    #assert isinstance(mutants[0][0],float), 'Error: should be a float'\n",
    "    \n",
    "    #content\n",
    "    flat_population = list(np.ravel(np.asarray(population)))\n",
    "    flat_mutants    = list(np.ravel(np.asarray(mutants)))\n",
    "    both            = zip(flat_population, flat_mutants)\n",
    "    parity_check    = sum([int(x[0]==x[1]) for x in both])\n",
    "    if number_of_mutations > 0:\n",
    "        assert parity_check <= max_parity_sum-rows_algos, 'Error: there should be at least one difference per algo'\n",
    "    assert parity_check > 0, 'Error: they should not be completely different'\n",
    "    print('pass')\n",
    "    \n",
    "\n",
    "def test_build_population():\n",
    "    population = build_population()\n",
    "    assert isinstance(population,       np.ndarray),    'Error: should be array of arrays'\n",
    "    assert isinstance(population[0],    np.ndarray),    'Error: should be an array'\n",
    "    assert isinstance(population[0][0], np.float64),    'Error: should be a float'\n",
    "    print('pass')\n",
    "\n",
    "def tests():\n",
    "    test_base_mutate()\n",
    "    test_build_population()\n",
    "    test_numpy_mutate()\n",
    "    \n",
    "tests()"
   ]
  },
  {
   "cell_type": "code",
   "execution_count": 63,
   "metadata": {},
   "outputs": [
    {
     "data": {
      "text/plain": [
       "'\\n# Build mutate_interface\\n'"
      ]
     },
     "execution_count": 63,
     "metadata": {},
     "output_type": "execute_result"
    }
   ],
   "source": [
    "'''\n",
    "# Build mutate_interface\n",
    "'''"
   ]
  },
  {
   "cell_type": "code",
   "execution_count": 15,
   "metadata": {},
   "outputs": [
    {
     "data": {
      "text/plain": [
       "'# Note\\n\\n class ctypes.Array(*args)\\n\\n    Abstract base class for arrays.\\n\\n    The recommended way to create concrete array types is by multiplying any ctypes data type\\n    with a positive integer. Alternatively, you can subclass this type and define _length_ \\n    and _type_ class variables. Array elements can be read and written using standard subscript \\n    and slice accesses; for slice reads, the resulting object is not itself an Array.\\n\\n'"
      ]
     },
     "execution_count": 15,
     "metadata": {},
     "output_type": "execute_result"
    }
   ],
   "source": [
    "'''# Note\n",
    "\n",
    " class ctypes.Array(*args)\n",
    "\n",
    "    Abstract base class for arrays.\n",
    "\n",
    "    The recommended way to create concrete array types is by multiplying any ctypes data type\n",
    "    with a positive integer. Alternatively, you can subclass this type and define _length_ \n",
    "    and _type_ class variables. Array elements can be read and written using standard subscript \n",
    "    and slice accesses; for slice reads, the resulting object is not itself an Array.\n",
    "\n",
    "'''"
   ]
  },
  {
   "cell_type": "code",
   "execution_count": 90,
   "metadata": {},
   "outputs": [
    {
     "data": {
      "text/plain": [
       "<CDLL 'libc.so.6', handle 7faa37933500 at 0x7faa30a70ed0>"
      ]
     },
     "execution_count": 90,
     "metadata": {},
     "output_type": "execute_result"
    }
   ],
   "source": [
    "cdll.LoadLibrary(\"libc.so.6\")"
   ]
  },
  {
   "cell_type": "code",
   "execution_count": 91,
   "metadata": {},
   "outputs": [],
   "source": [
    "libc = CDLL(\"libc.so.6\")"
   ]
  },
  {
   "cell_type": "code",
   "execution_count": 92,
   "metadata": {},
   "outputs": [
    {
     "data": {
      "text/plain": [
       "c_wchar_p(140368937449840)"
      ]
     },
     "execution_count": 92,
     "metadata": {},
     "output_type": "execute_result"
    }
   ],
   "source": [
    "c_wchar_p(\"Hello, World\")"
   ]
  },
  {
   "cell_type": "code",
   "execution_count": 93,
   "metadata": {},
   "outputs": [],
   "source": [
    "printf = libc.printf"
   ]
  },
  {
   "cell_type": "code",
   "execution_count": 94,
   "metadata": {},
   "outputs": [
    {
     "data": {
      "text/plain": [
       "6"
      ]
     },
     "execution_count": 94,
     "metadata": {},
     "output_type": "execute_result"
    }
   ],
   "source": [
    "printf()"
   ]
  },
  {
   "cell_type": "code",
   "execution_count": 95,
   "metadata": {},
   "outputs": [
    {
     "data": {
      "text/plain": [
       "1"
      ]
     },
     "execution_count": 95,
     "metadata": {},
     "output_type": "execute_result"
    }
   ],
   "source": [
    "printf(\"Hello World\")"
   ]
  },
  {
   "cell_type": "code",
   "execution_count": 96,
   "metadata": {},
   "outputs": [],
   "source": [
    "s = \"Hello, World\""
   ]
  },
  {
   "cell_type": "code",
   "execution_count": 97,
   "metadata": {},
   "outputs": [],
   "source": [
    "c_s = c_wchar_p(s)"
   ]
  },
  {
   "cell_type": "code",
   "execution_count": 98,
   "metadata": {},
   "outputs": [
    {
     "data": {
      "text/plain": [
       "14"
      ]
     },
     "execution_count": 98,
     "metadata": {},
     "output_type": "execute_result"
    }
   ],
   "source": [
    "printf(b\"Hello, %s\\n\", b\"World!\")"
   ]
  },
  {
   "cell_type": "code",
   "execution_count": 101,
   "metadata": {},
   "outputs": [
    {
     "name": "stdout",
     "output_type": "stream",
     "text": [
      "Hello, World\n"
     ]
    }
   ],
   "source": [
    "print(c_s.value)"
   ]
  },
  {
   "cell_type": "code",
   "execution_count": 102,
   "metadata": {},
   "outputs": [
    {
     "name": "stdout",
     "output_type": "stream",
     "text": [
      "c_wchar_p(140368937837360)\n"
     ]
    }
   ],
   "source": [
    "print(c_s)"
   ]
  },
  {
   "cell_type": "code",
   "execution_count": 103,
   "metadata": {},
   "outputs": [
    {
     "name": "stdout",
     "output_type": "stream",
     "text": [
      "Hello, World\n"
     ]
    }
   ],
   "source": [
    "print(s)                # first object is unchanged"
   ]
  },
  {
   "cell_type": "code",
   "execution_count": 104,
   "metadata": {},
   "outputs": [
    {
     "data": {
      "text/plain": [
       "31"
      ]
     },
     "execution_count": 104,
     "metadata": {},
     "output_type": "execute_result"
    }
   ],
   "source": [
    "printf(b\"An int %d, a double %f\\n\", 1234, c_double(3.14))"
   ]
  },
  {
   "cell_type": "code",
   "execution_count": 105,
   "metadata": {},
   "outputs": [],
   "source": [
    "strchr = libc.strchr"
   ]
  },
  {
   "cell_type": "code",
   "execution_count": 106,
   "metadata": {},
   "outputs": [
    {
     "data": {
      "text/plain": [
       "816650675"
      ]
     },
     "execution_count": 106,
     "metadata": {},
     "output_type": "execute_result"
    }
   ],
   "source": [
    "strchr(b\"abcdef\", ord(\"d\"))  "
   ]
  },
  {
   "cell_type": "code",
   "execution_count": 107,
   "metadata": {},
   "outputs": [],
   "source": [
    "i = c_int()"
   ]
  },
  {
   "cell_type": "code",
   "execution_count": 108,
   "metadata": {},
   "outputs": [],
   "source": [
    "f = c_float()"
   ]
  },
  {
   "cell_type": "code",
   "execution_count": 109,
   "metadata": {},
   "outputs": [],
   "source": [
    "s = create_string_buffer(b'\\000' * 32)"
   ]
  },
  {
   "cell_type": "code",
   "execution_count": 110,
   "metadata": {},
   "outputs": [
    {
     "name": "stdout",
     "output_type": "stream",
     "text": [
      "0 0.0 b''\n"
     ]
    }
   ],
   "source": [
    "print(i.value, f.value, repr(s.value))"
   ]
  },
  {
   "cell_type": "code",
   "execution_count": 111,
   "metadata": {},
   "outputs": [
    {
     "data": {
      "text/plain": [
       "3"
      ]
     },
     "execution_count": 111,
     "metadata": {},
     "output_type": "execute_result"
    }
   ],
   "source": [
    "libc.sscanf(b\"1 3.14 Hello\", b\"%d %f %s\", byref(i), byref(f), s)"
   ]
  },
  {
   "cell_type": "code",
   "execution_count": 112,
   "metadata": {},
   "outputs": [
    {
     "name": "stdout",
     "output_type": "stream",
     "text": [
      "1 3.140000104904175 b'Hello'\n"
     ]
    }
   ],
   "source": [
    "print(i.value, f.value, repr(s.value))"
   ]
  },
  {
   "cell_type": "code",
   "execution_count": 123,
   "metadata": {},
   "outputs": [],
   "source": [
    "class POINT(Structure):\n",
    "    _fields_ = [(\"x\", c_int),\n",
    "                (\"y\", c_int)]"
   ]
  },
  {
   "cell_type": "code",
   "execution_count": 124,
   "metadata": {},
   "outputs": [],
   "source": [
    "point = POINT(10, 20)"
   ]
  },
  {
   "cell_type": "code",
   "execution_count": 125,
   "metadata": {},
   "outputs": [
    {
     "name": "stdout",
     "output_type": "stream",
     "text": [
      "10 20\n"
     ]
    }
   ],
   "source": [
    "print(point.x, point.y)"
   ]
  },
  {
   "cell_type": "code",
   "execution_count": 126,
   "metadata": {},
   "outputs": [],
   "source": [
    "point = POINT(y=5)"
   ]
  },
  {
   "cell_type": "code",
   "execution_count": 127,
   "metadata": {},
   "outputs": [
    {
     "name": "stdout",
     "output_type": "stream",
     "text": [
      "0 5\n"
     ]
    }
   ],
   "source": [
    "print(point.x, point.y)"
   ]
  },
  {
   "cell_type": "code",
   "execution_count": 128,
   "metadata": {},
   "outputs": [
    {
     "data": {
      "text/plain": [
       "<__main__.POINT at 0x7faa30a4bd40>"
      ]
     },
     "execution_count": 128,
     "metadata": {},
     "output_type": "execute_result"
    }
   ],
   "source": [
    "POINT(1, 2)"
   ]
  },
  {
   "cell_type": "code",
   "execution_count": 129,
   "metadata": {},
   "outputs": [
    {
     "data": {
      "text/plain": [
       "<__main__.POINT at 0x7faa30a4b950>"
      ]
     },
     "execution_count": 129,
     "metadata": {},
     "output_type": "execute_result"
    }
   ],
   "source": [
    "POINT(-1, 2)"
   ]
  },
  {
   "cell_type": "code",
   "execution_count": 130,
   "metadata": {},
   "outputs": [
    {
     "data": {
      "text/plain": [
       "'\\n---------------------------------------------------------------------------\\nTypeError                                 Traceback (most recent call last)\\n<ipython-input-120-a3808173cd67> in <module>\\n----> 1 POINT(1, 2.0001)\\n\\nTypeError: int expected instead of float\\n\\n\\n'"
      ]
     },
     "execution_count": 130,
     "metadata": {},
     "output_type": "execute_result"
    }
   ],
   "source": [
    "#POINT(1, 2.0001)\n",
    "\n",
    "'''\n",
    "---------------------------------------------------------------------------\n",
    "TypeError                                 Traceback (most recent call last)\n",
    "<ipython-input-120-a3808173cd67> in <module>\n",
    "----> 1 POINT(1, 2.0001)\n",
    "\n",
    "TypeError: int expected instead of float\n",
    "\n",
    "\n",
    "'''"
   ]
  },
  {
   "cell_type": "code",
   "execution_count": 131,
   "metadata": {},
   "outputs": [
    {
     "data": {
      "text/plain": [
       "'\\n---------------------------------------------------------------------------\\nTypeError                                 Traceback (most recent call last)\\n<ipython-input-121-bfc065603ff4> in <module>\\n----> 1 POINT(1, -2.0001)\\n\\nTypeError: int expected instead of float\\n\\n\\n'"
      ]
     },
     "execution_count": 131,
     "metadata": {},
     "output_type": "execute_result"
    }
   ],
   "source": [
    "# POINT(1, -2.0001)\n",
    "\n",
    "'''\n",
    "---------------------------------------------------------------------------\n",
    "TypeError                                 Traceback (most recent call last)\n",
    "<ipython-input-121-bfc065603ff4> in <module>\n",
    "----> 1 POINT(1, -2.0001)\n",
    "\n",
    "TypeError: int expected instead of float\n",
    "\n",
    "\n",
    "'''"
   ]
  },
  {
   "cell_type": "code",
   "execution_count": 132,
   "metadata": {},
   "outputs": [
    {
     "data": {
      "text/plain": [
       "<__main__.POINT at 0x7faa30a4b440>"
      ]
     },
     "execution_count": 132,
     "metadata": {},
     "output_type": "execute_result"
    }
   ],
   "source": [
    "POINT(1, 2)"
   ]
  },
  {
   "cell_type": "code",
   "execution_count": 133,
   "metadata": {},
   "outputs": [],
   "source": [
    "class RECT(Structure):\n",
    "    _fields_ = [(\"upperleft\", POINT),\n",
    "                (\"lowerright\", POINT)]"
   ]
  },
  {
   "cell_type": "code",
   "execution_count": 134,
   "metadata": {},
   "outputs": [],
   "source": [
    "rc = RECT(point)"
   ]
  },
  {
   "cell_type": "code",
   "execution_count": 135,
   "metadata": {},
   "outputs": [
    {
     "name": "stdout",
     "output_type": "stream",
     "text": [
      "0 5\n"
     ]
    }
   ],
   "source": [
    "print(rc.upperleft.x, rc.upperleft.y)"
   ]
  },
  {
   "cell_type": "code",
   "execution_count": 136,
   "metadata": {},
   "outputs": [
    {
     "name": "stdout",
     "output_type": "stream",
     "text": [
      "0 0\n"
     ]
    }
   ],
   "source": [
    "print(rc.lowerright.x, rc.lowerright.y)"
   ]
  },
  {
   "cell_type": "code",
   "execution_count": 137,
   "metadata": {},
   "outputs": [],
   "source": [
    "TenPointsArrayType = POINT * 10"
   ]
  },
  {
   "cell_type": "code",
   "execution_count": 138,
   "metadata": {},
   "outputs": [],
   "source": [
    "r = RECT(POINT(1, 2), POINT(3, 4))"
   ]
  },
  {
   "cell_type": "code",
   "execution_count": 139,
   "metadata": {},
   "outputs": [],
   "source": [
    "r = RECT((1, 2), (3, 4))"
   ]
  },
  {
   "cell_type": "code",
   "execution_count": 140,
   "metadata": {},
   "outputs": [
    {
     "name": "stdout",
     "output_type": "stream",
     "text": [
      "<Field type=c_int, ofs=0, size=4>\n"
     ]
    }
   ],
   "source": [
    "print(POINT.x)"
   ]
  },
  {
   "cell_type": "code",
   "execution_count": 141,
   "metadata": {},
   "outputs": [
    {
     "name": "stdout",
     "output_type": "stream",
     "text": [
      "<Field type=c_int, ofs=4, size=4>\n"
     ]
    }
   ],
   "source": [
    "print(POINT.y)"
   ]
  },
  {
   "cell_type": "code",
   "execution_count": 142,
   "metadata": {},
   "outputs": [],
   "source": [
    "class Int(Structure):\n",
    "    _fields_ = [(\"first_16\", c_int, 16),\n",
    "                (\"second_16\", c_int, 16)]"
   ]
  },
  {
   "cell_type": "code",
   "execution_count": 143,
   "metadata": {},
   "outputs": [
    {
     "name": "stdout",
     "output_type": "stream",
     "text": [
      "<Field type=c_int, ofs=0:0, bits=16>\n"
     ]
    }
   ],
   "source": [
    "print(Int.first_16)"
   ]
  },
  {
   "cell_type": "code",
   "execution_count": 144,
   "metadata": {},
   "outputs": [
    {
     "name": "stdout",
     "output_type": "stream",
     "text": [
      "<Field type=c_int, ofs=0:16, bits=16>\n"
     ]
    }
   ],
   "source": [
    "print(Int.second_16)"
   ]
  },
  {
   "cell_type": "code",
   "execution_count": 145,
   "metadata": {},
   "outputs": [],
   "source": [
    "class POINT(Structure):\n",
    "    _fields_ = (\"x\", c_int), (\"y\", c_int)"
   ]
  },
  {
   "cell_type": "code",
   "execution_count": 153,
   "metadata": {},
   "outputs": [],
   "source": [
    "class MyStruct(Structure):\n",
    "    _fields_ = [(\"a\", c_int),\n",
    "                (\"b\", c_float),\n",
    "                (\"point_array\", POINT * 4)]"
   ]
  },
  {
   "cell_type": "code",
   "execution_count": 154,
   "metadata": {},
   "outputs": [
    {
     "name": "stdout",
     "output_type": "stream",
     "text": [
      "4\n"
     ]
    }
   ],
   "source": [
    "print(len(MyStruct().point_array))"
   ]
  },
  {
   "cell_type": "code",
   "execution_count": 155,
   "metadata": {},
   "outputs": [],
   "source": [
    "arr = TenPointsArrayType()"
   ]
  },
  {
   "cell_type": "code",
   "execution_count": 156,
   "metadata": {},
   "outputs": [
    {
     "name": "stdout",
     "output_type": "stream",
     "text": [
      "0 0\n",
      "0 0\n",
      "0 0\n",
      "0 0\n",
      "0 0\n",
      "0 0\n",
      "0 0\n",
      "0 0\n",
      "0 0\n",
      "0 0\n"
     ]
    }
   ],
   "source": [
    "for pt in arr:\n",
    "    print(pt.x, pt.y)"
   ]
  },
  {
   "cell_type": "code",
   "execution_count": 157,
   "metadata": {},
   "outputs": [],
   "source": [
    "TenIntegers = c_int * 10"
   ]
  },
  {
   "cell_type": "code",
   "execution_count": 158,
   "metadata": {},
   "outputs": [],
   "source": [
    "ii = TenIntegers(1, 2, 3, 4, 5, 6, 7, 8, 9, 10)"
   ]
  },
  {
   "cell_type": "code",
   "execution_count": 159,
   "metadata": {},
   "outputs": [
    {
     "name": "stdout",
     "output_type": "stream",
     "text": [
      "<__main__.c_int_Array_10 object at 0x7faa30a4b290>\n"
     ]
    }
   ],
   "source": [
    "print(ii)"
   ]
  },
  {
   "cell_type": "code",
   "execution_count": 160,
   "metadata": {},
   "outputs": [
    {
     "name": "stdout",
     "output_type": "stream",
     "text": [
      "1 2 3 4 5 6 7 8 9 10 "
     ]
    }
   ],
   "source": [
    "for i in ii: print(i, end=\" \")"
   ]
  },
  {
   "cell_type": "code",
   "execution_count": 161,
   "metadata": {},
   "outputs": [],
   "source": [
    "i = c_int(42)"
   ]
  },
  {
   "cell_type": "code",
   "execution_count": 162,
   "metadata": {},
   "outputs": [],
   "source": [
    "pi = pointer(i)"
   ]
  },
  {
   "cell_type": "code",
   "execution_count": 163,
   "metadata": {},
   "outputs": [
    {
     "data": {
      "text/plain": [
       "c_int(42)"
      ]
     },
     "execution_count": 163,
     "metadata": {},
     "output_type": "execute_result"
    }
   ],
   "source": [
    "pi.contents"
   ]
  },
  {
   "cell_type": "code",
   "execution_count": 164,
   "metadata": {},
   "outputs": [
    {
     "data": {
      "text/plain": [
       "False"
      ]
     },
     "execution_count": 164,
     "metadata": {},
     "output_type": "execute_result"
    }
   ],
   "source": [
    "pi.contents is i"
   ]
  },
  {
   "cell_type": "code",
   "execution_count": 165,
   "metadata": {},
   "outputs": [
    {
     "data": {
      "text/plain": [
       "False"
      ]
     },
     "execution_count": 165,
     "metadata": {},
     "output_type": "execute_result"
    }
   ],
   "source": [
    "pi.contents is pi.contents"
   ]
  },
  {
   "cell_type": "code",
   "execution_count": 166,
   "metadata": {},
   "outputs": [],
   "source": [
    "i = c_int(99)"
   ]
  },
  {
   "cell_type": "code",
   "execution_count": 167,
   "metadata": {},
   "outputs": [],
   "source": [
    "pi.contents = i"
   ]
  },
  {
   "cell_type": "code",
   "execution_count": 168,
   "metadata": {},
   "outputs": [
    {
     "data": {
      "text/plain": [
       "c_int(99)"
      ]
     },
     "execution_count": 168,
     "metadata": {},
     "output_type": "execute_result"
    }
   ],
   "source": [
    "pi.contents"
   ]
  },
  {
   "cell_type": "code",
   "execution_count": 169,
   "metadata": {},
   "outputs": [
    {
     "data": {
      "text/plain": [
       "99"
      ]
     },
     "execution_count": 169,
     "metadata": {},
     "output_type": "execute_result"
    }
   ],
   "source": [
    "pi[0]"
   ]
  },
  {
   "cell_type": "code",
   "execution_count": 170,
   "metadata": {},
   "outputs": [
    {
     "name": "stdout",
     "output_type": "stream",
     "text": [
      "c_int(99)\n"
     ]
    }
   ],
   "source": [
    "print(i)"
   ]
  },
  {
   "cell_type": "code",
   "execution_count": 171,
   "metadata": {},
   "outputs": [],
   "source": [
    "pi[0] = 22"
   ]
  },
  {
   "cell_type": "code",
   "execution_count": 172,
   "metadata": {},
   "outputs": [
    {
     "name": "stdout",
     "output_type": "stream",
     "text": [
      "c_int(22)\n"
     ]
    }
   ],
   "source": [
    "print(i)"
   ]
  },
  {
   "cell_type": "code",
   "execution_count": 173,
   "metadata": {},
   "outputs": [],
   "source": [
    "PI = POINTER(c_int)"
   ]
  },
  {
   "cell_type": "code",
   "execution_count": 174,
   "metadata": {},
   "outputs": [
    {
     "data": {
      "text/plain": [
       "__main__.LP_c_int"
      ]
     },
     "execution_count": 174,
     "metadata": {},
     "output_type": "execute_result"
    }
   ],
   "source": [
    "PI"
   ]
  },
  {
   "cell_type": "code",
   "execution_count": 175,
   "metadata": {},
   "outputs": [
    {
     "data": {
      "text/plain": [
       "'\\n---------------------------------------------------------------------------\\nTypeError                                 Traceback (most recent call last)\\n<ipython-input-52-622c40ff30d9> in <module>\\n----> 1 PI(42)\\n\\nTypeError: expected c_int instead of int\\n\\n\\n'"
      ]
     },
     "execution_count": 175,
     "metadata": {},
     "output_type": "execute_result"
    }
   ],
   "source": [
    "# PI(42)\n",
    "\n",
    "'''\n",
    "---------------------------------------------------------------------------\n",
    "TypeError                                 Traceback (most recent call last)\n",
    "<ipython-input-52-622c40ff30d9> in <module>\n",
    "----> 1 PI(42)\n",
    "\n",
    "TypeError: expected c_int instead of int\n",
    "\n",
    "\n",
    "'''"
   ]
  },
  {
   "cell_type": "code",
   "execution_count": 176,
   "metadata": {},
   "outputs": [
    {
     "data": {
      "text/plain": [
       "<__main__.LP_c_int at 0x7faa30a0ea70>"
      ]
     },
     "execution_count": 176,
     "metadata": {},
     "output_type": "execute_result"
    }
   ],
   "source": [
    "PI(c_int(42))"
   ]
  },
  {
   "cell_type": "code",
   "execution_count": 177,
   "metadata": {},
   "outputs": [],
   "source": [
    "null_ptr = POINTER(c_int)()"
   ]
  },
  {
   "cell_type": "code",
   "execution_count": 178,
   "metadata": {},
   "outputs": [
    {
     "name": "stdout",
     "output_type": "stream",
     "text": [
      "False\n"
     ]
    }
   ],
   "source": [
    "print(bool(null_ptr))"
   ]
  },
  {
   "cell_type": "code",
   "execution_count": 179,
   "metadata": {},
   "outputs": [],
   "source": [
    "class Bar(Structure):\n",
    "    _fields_ = [(\"count\", c_int), (\"values\", POINTER(c_int))]"
   ]
  },
  {
   "cell_type": "code",
   "execution_count": 180,
   "metadata": {},
   "outputs": [],
   "source": [
    "bar = Bar()"
   ]
  },
  {
   "cell_type": "code",
   "execution_count": 181,
   "metadata": {},
   "outputs": [],
   "source": [
    "bar.values = (c_int * 3)(1, 2, 3)"
   ]
  },
  {
   "cell_type": "code",
   "execution_count": 182,
   "metadata": {},
   "outputs": [],
   "source": [
    "bar.count = 3"
   ]
  },
  {
   "cell_type": "code",
   "execution_count": 183,
   "metadata": {},
   "outputs": [
    {
     "name": "stdout",
     "output_type": "stream",
     "text": [
      "1\n",
      "2\n",
      "3\n"
     ]
    }
   ],
   "source": [
    "for i in range(bar.count):\n",
    "    print(bar.values[i])"
   ]
  },
  {
   "cell_type": "code",
   "execution_count": 184,
   "metadata": {},
   "outputs": [],
   "source": [
    "IntArray5 = c_int * 5"
   ]
  },
  {
   "cell_type": "code",
   "execution_count": 185,
   "metadata": {},
   "outputs": [],
   "source": [
    "ia = IntArray5(5, 1, 7, 33, 99)"
   ]
  },
  {
   "cell_type": "code",
   "execution_count": 186,
   "metadata": {},
   "outputs": [],
   "source": [
    "qsort = libc.qsort"
   ]
  },
  {
   "cell_type": "code",
   "execution_count": 187,
   "metadata": {},
   "outputs": [],
   "source": [
    "qsort.restype = None"
   ]
  },
  {
   "cell_type": "code",
   "execution_count": 188,
   "metadata": {},
   "outputs": [],
   "source": [
    "CMPFUNC = CFUNCTYPE(c_int, POINTER(c_int), POINTER(c_int))\n",
    "\n"
   ]
  },
  {
   "cell_type": "code",
   "execution_count": 193,
   "metadata": {},
   "outputs": [],
   "source": [
    "def py_cmp_func(a, b):\n",
    "    print(\"py_cmp_func\", a[0], b[0])\n",
    "    return 0"
   ]
  },
  {
   "cell_type": "code",
   "execution_count": 194,
   "metadata": {},
   "outputs": [],
   "source": [
    "cmp_func = CMPFUNC(py_cmp_func)"
   ]
  },
  {
   "cell_type": "code",
   "execution_count": 195,
   "metadata": {},
   "outputs": [
    {
     "name": "stdout",
     "output_type": "stream",
     "text": [
      "py_cmp_func 5 1\n",
      "py_cmp_func 33 99\n",
      "py_cmp_func 7 33\n",
      "py_cmp_func 5 7\n",
      "py_cmp_func 1 7\n"
     ]
    }
   ],
   "source": [
    "qsort(ia, len(ia), sizeof(c_int), cmp_func) "
   ]
  },
  {
   "cell_type": "code",
   "execution_count": 196,
   "metadata": {},
   "outputs": [],
   "source": [
    "def py_cmp_func(a, b):\n",
    "    print(\"py_cmp_func\", a[0], b[0])\n",
    "    return a[0] - b[0]"
   ]
  },
  {
   "cell_type": "code",
   "execution_count": 197,
   "metadata": {},
   "outputs": [
    {
     "name": "stdout",
     "output_type": "stream",
     "text": [
      "py_cmp_func 5 1\n",
      "py_cmp_func 33 99\n",
      "py_cmp_func 7 33\n",
      "py_cmp_func 1 7\n",
      "py_cmp_func 5 7\n"
     ]
    }
   ],
   "source": [
    "qsort(ia, len(ia), sizeof(c_int), CMPFUNC(py_cmp_func)) "
   ]
  },
  {
   "cell_type": "code",
   "execution_count": 202,
   "metadata": {},
   "outputs": [
    {
     "name": "stdout",
     "output_type": "stream",
     "text": [
      "1 5 7 33 99 "
     ]
    }
   ],
   "source": [
    "for i in ia: print(i, end=\" \")\n",
    "\n",
    "\n"
   ]
  },
  {
   "cell_type": "code",
   "execution_count": 203,
   "metadata": {},
   "outputs": [],
   "source": [
    "@CFUNCTYPE(c_int, POINTER(c_int), POINTER(c_int))\n",
    "def py_cmp_func(a, b):\n",
    "    print(\"py_cmp_func\", a[0], b[0])\n",
    "    return a[0] - b[0]"
   ]
  },
  {
   "cell_type": "code",
   "execution_count": 204,
   "metadata": {},
   "outputs": [
    {
     "name": "stdout",
     "output_type": "stream",
     "text": [
      "py_cmp_func 1 5\n",
      "py_cmp_func 33 99\n",
      "py_cmp_func 7 33\n",
      "py_cmp_func 1 7\n",
      "py_cmp_func 5 7\n"
     ]
    }
   ],
   "source": [
    "qsort(ia, len(ia), sizeof(c_int), py_cmp_func)"
   ]
  },
  {
   "cell_type": "code",
   "execution_count": 205,
   "metadata": {},
   "outputs": [],
   "source": [
    "short_array = (c_short * 4)()"
   ]
  },
  {
   "cell_type": "code",
   "execution_count": 206,
   "metadata": {},
   "outputs": [
    {
     "name": "stdout",
     "output_type": "stream",
     "text": [
      "8\n"
     ]
    }
   ],
   "source": [
    "print(sizeof(short_array))"
   ]
  },
  {
   "cell_type": "code",
   "execution_count": 208,
   "metadata": {},
   "outputs": [
    {
     "data": {
      "text/plain": [
       "'\\n---------------------------------------------------------------------------\\nValueError                                Traceback (most recent call last)\\n<ipython-input-207-5d3303a611a5> in <module>\\n----> 1 resize(short_array, 4)\\n      2 \\n      3 \\n\\nValueError: minimum size is 8\\n\\n'"
      ]
     },
     "execution_count": 208,
     "metadata": {},
     "output_type": "execute_result"
    }
   ],
   "source": [
    "#resize(short_array, 4)\n",
    "\n",
    "'''\n",
    "---------------------------------------------------------------------------\n",
    "ValueError                                Traceback (most recent call last)\n",
    "<ipython-input-207-5d3303a611a5> in <module>\n",
    "----> 1 resize(short_array, 4)\n",
    "      2 \n",
    "      3 \n",
    "\n",
    "ValueError: minimum size is 8\n",
    "\n",
    "'''"
   ]
  },
  {
   "cell_type": "code",
   "execution_count": 209,
   "metadata": {},
   "outputs": [],
   "source": [
    "resize(short_array, 32)"
   ]
  },
  {
   "cell_type": "code",
   "execution_count": 210,
   "metadata": {},
   "outputs": [
    {
     "data": {
      "text/plain": [
       "32"
      ]
     },
     "execution_count": 210,
     "metadata": {},
     "output_type": "execute_result"
    }
   ],
   "source": [
    "sizeof(short_array)"
   ]
  },
  {
   "cell_type": "code",
   "execution_count": 211,
   "metadata": {},
   "outputs": [
    {
     "data": {
      "text/plain": [
       "8"
      ]
     },
     "execution_count": 211,
     "metadata": {},
     "output_type": "execute_result"
    }
   ],
   "source": [
    "sizeof(type(short_array))"
   ]
  },
  {
   "cell_type": "code",
   "execution_count": null,
   "metadata": {},
   "outputs": [],
   "source": []
  }
 ],
 "metadata": {
  "kernelspec": {
   "display_name": "Python 3",
   "language": "python",
   "name": "python3"
  },
  "language_info": {
   "codemirror_mode": {
    "name": "ipython",
    "version": 3
   },
   "file_extension": ".py",
   "mimetype": "text/x-python",
   "name": "python",
   "nbconvert_exporter": "python",
   "pygments_lexer": "ipython3",
   "version": "3.7.7"
  }
 },
 "nbformat": 4,
 "nbformat_minor": 4
}
